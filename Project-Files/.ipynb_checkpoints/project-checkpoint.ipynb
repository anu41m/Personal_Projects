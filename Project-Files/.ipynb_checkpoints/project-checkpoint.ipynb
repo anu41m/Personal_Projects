{
 "cells": [
  {
   "cell_type": "code",
   "execution_count": 78,
   "metadata": {},
   "outputs": [],
   "source": [
    "from openpyxl import load_workbook\n",
    "from google.cloud import storage\n",
    "from pyspark.sql import *\n",
    "from pyspark.sql.functions import *\n",
    "import requests\n",
    "import pandas as pd\n",
    "from io import BytesIO\n",
    "import hashlib\n",
    "from pyspark.sql.types import *\n",
    "from pyspark.sql import Window as W\n",
    "pd.set_option('display.max_columns', None)  # Show all columns\n",
    "pd.set_option('display.width', 1000)  "
   ]
  },
  {
   "cell_type": "code",
   "execution_count": 79,
   "metadata": {},
   "outputs": [],
   "source": [
    "import msal\n",
    "import requests\n",
    "from pyspark.sql import SparkSession\n",
    "from delta import DeltaTable\n",
    "import os\n",
    "from pyspark.sql.utils import *"
   ]
  },
  {
   "cell_type": "code",
   "execution_count": 80,
   "metadata": {},
   "outputs": [],
   "source": [
    "from pyspark.sql import SparkSession\n",
    "\n",
    "spark = SparkSession.builder \\\n",
    "    .appName(\"DeltaExample\") \\\n",
    "    .config(\"spark.jars.packages\", \"io.delta:delta-core_2.12:2.4.0\") \\\n",
    "    .config(\"spark.sql.extensions\", \"io.delta.sql.DeltaSparkSessionExtension\") \\\n",
    "    .config(\"spark.sql.catalog.spark_catalog\", \"org.apache.spark.sql.delta.catalog.DeltaCatalog\") \\\n",
    "    .getOrCreate()"
   ]
  },
  {
   "cell_type": "code",
   "execution_count": 81,
   "metadata": {},
   "outputs": [],
   "source": [
    "mount_d =\"/data/\"\n",
    "trgt_path = '/mnt/'\n",
    "trgt_path_processed = trgt_path+\"data_file_Parquet\""
   ]
  },
  {
   "cell_type": "code",
   "execution_count": 82,
   "metadata": {},
   "outputs": [],
   "source": [
    "\n",
    "source_path = mount_d+'SPENDING_HISTORY.xlsm'\n",
    "sheet_name ='To_Backend'"
   ]
  },
  {
   "cell_type": "code",
   "execution_count": 83,
   "metadata": {},
   "outputs": [],
   "source": [
    "def get_max_date(trgt_path_processed):\n",
    "    max_date=\"0\"\n",
    "    try:\n",
    "        # Try to read the Parquet file\n",
    "        df = spark.read.parquet(trgt_path_processed)\n",
    "        # Check if DataFrame is empty\n",
    "        if df.head(1):\n",
    "            df.createOrReplaceTempView(\"vw_max\")\n",
    "            max_date_s = spark.sql(\"select max(datesk) as max_date from vw_max\").collect()[0][0]\n",
    "            max_date = max_date_s[0:4]  +   \"-\" +   max_date_s[4:6] +   \"-\" +   max_date_s[6:8]\n",
    "            return max_date\n",
    "        else:\n",
    "            max_date = \"0\"\n",
    "            return max_date\n",
    "    except AnalysisException:\n",
    "        return max_date"
   ]
  },
  {
   "cell_type": "code",
   "execution_count": 84,
   "metadata": {},
   "outputs": [
    {
     "name": "stdout",
     "output_type": "stream",
     "text": [
      "2024-10-18\n"
     ]
    }
   ],
   "source": [
    "max_date=get_max_date(trgt_path_processed)\n",
    "print(max_date)"
   ]
  },
  {
   "cell_type": "code",
   "execution_count": 85,
   "metadata": {},
   "outputs": [],
   "source": [
    "pandas_df = pd.read_excel(source_path, sheet_name = sheet_name)\n",
    "df=spark.createDataFrame(pandas_df)\n",
    "df= df.withColumn(\"Date\", date_format(df[\"Date\"], \"yyyy-MM-dd\"))"
   ]
  },
  {
   "cell_type": "code",
   "execution_count": 102,
   "metadata": {},
   "outputs": [
    {
     "name": "stdout",
     "output_type": "stream",
     "text": [
      "select * from vw_src where Date >= '0'\n",
      "+-----+----------+--------------+--------------------+---------------+------------+\n",
      "|Index|      Date| Spending Item|         Wallet used|       Category|Spend Amount|\n",
      "+-----+----------+--------------+--------------------+---------------+------------+\n",
      "|    1|2024-10-01|      Bus Fare|           ICICI Pay|     Travelling|         271|\n",
      "|    2|2024-10-01|   Zomato Food|       Amazon Wallet|           Food|         436|\n",
      "|    3|2024-10-01|Phone Recharge|           ICICI Pay|Mobile Recharge|         359|\n",
      "|    4|2024-10-01|Phone Recharge|Credit Card - Amazon|Mobile Recharge|         118|\n",
      "|    5|2024-10-01|  food from FC|               G-pay|           Food|         120|\n",
      "|    6|2024-10-01|   Zomato Food|       Amazon Wallet|           Food|         160|\n",
      "|    7|2024-10-01|     Groceries|           ICICI Pay|           Food|         245|\n",
      "|    8|2024-10-02|         Iwish|           ICICI Pay|     Investment|         745|\n",
      "|    9|2024-10-02|      TVM Rent|               G-pay|           Rent|        3250|\n",
      "|   10|2024-10-02| Gold Invstmnt|Credit Card - Amazon|     Investment|        1000|\n",
      "|   11|2024-10-03|   Zomato Food|       Amazon Wallet|           Food|         170|\n",
      "|   12|2024-10-04|   Zomato Food|       Amazon Wallet|           Food|         154|\n",
      "|   13|2024-10-05|Phone Recharge|Credit Card - Amazon|Mobile Recharge|         359|\n",
      "|   14|2024-10-06|     Food Mess|               G-pay|           Food|         760|\n",
      "|   15|2024-10-07|  food from FC|               G-pay|           Food|         125|\n",
      "|   16|2024-10-07|     Groceries|               G-pay|           Food|         257|\n",
      "|   17|2024-10-07|   KSFE Chitti|           ICICI Pay|         Chitty|       13194|\n",
      "|   18|2024-10-09|    Investment|           ICICI Pay|     Investment|       15000|\n",
      "|   19|2024-10-09|    Investment|           ICICI Pay|     Investment|        2500|\n",
      "|   20|2024-10-09|    Investment|           ICICI Pay|     Investment|        2780|\n",
      "+-----+----------+--------------+--------------------+---------------+------------+\n",
      "only showing top 20 rows\n",
      "\n"
     ]
    }
   ],
   "source": [
    "max_date=get_max_date(trgt_path_processed)\n",
    "df.createOrReplaceTempView(\"vw_src\")\n",
    "query = \"select * from vw_src where Date >= '\" + max_date + \"'\"\n",
    "#query = \"select * from vw_src where Date >= '1999-01-01'\"\n",
    "print(query)\n",
    "df_src = spark.sql(query)\n",
    "df_src.show()"
   ]
  },
  {
   "cell_type": "markdown",
   "metadata": {},
   "source": []
  },
  {
   "cell_type": "code",
   "execution_count": 103,
   "metadata": {},
   "outputs": [],
   "source": [
    "df_new = df_src.withColumn(\"walletsk\",xxhash64(\"Wallet used\")) \\\n",
    "    .withColumn(\"categorysk\",xxhash64(\"category\")) \\\n",
    "        .withColumn(\"DateSK\", regexp_replace(\"date\", \"-\", \"\")) \\\n",
    "            .withColumn(\"PKSK\", xxhash64(\"Category\",\"Wallet used\",\"Index\",\"Date\"))\\\n",
    "                .withColumn(\"UpdateTimeStamp\", date_format(current_timestamp(), format=\"yyyy-MM-dd-hh:mm:ss\"))\\\n",
    "                .drop(\"Index\",\"Date\",\"category\",\"Wallet used\")"
   ]
  },
  {
   "cell_type": "code",
   "execution_count": 104,
   "metadata": {},
   "outputs": [
    {
     "name": "stdout",
     "output_type": "stream",
     "text": [
      "+--------------+------------+--------------------+--------------------+--------+--------------------+-------------------+\n",
      "| Spending Item|Spend Amount|            walletsk|          categorysk|  DateSK|                PKSK|    UpdateTimeStamp|\n",
      "+--------------+------------+--------------------+--------------------+--------+--------------------+-------------------+\n",
      "|      Bus Fare|         271| 6156857810389859050|-6960913322501014326|20241001|-7791941136341072556|2024-10-27-09:51:19|\n",
      "|   Zomato Food|         436|-2996829708924805941|-1486987501743003025|20241001| 2720454524596920964|2024-10-27-09:51:19|\n",
      "|Phone Recharge|         359| 6156857810389859050|-6072606072650303353|20241001|-5825610361050559354|2024-10-27-09:51:19|\n",
      "|Phone Recharge|         118| 4962050552325147656|-6072606072650303353|20241001| 6412210583642820357|2024-10-27-09:51:19|\n",
      "|  food from FC|         120| 1782127853235431588|-1486987501743003025|20241001|-9200187066285839138|2024-10-27-09:51:19|\n",
      "|   Zomato Food|         160|-2996829708924805941|-1486987501743003025|20241001|-1291922622494078739|2024-10-27-09:51:19|\n",
      "|     Groceries|         245| 6156857810389859050|-1486987501743003025|20241001|-4627120077685838876|2024-10-27-09:51:19|\n",
      "|         Iwish|         745| 6156857810389859050| 1987224080996593371|20241002|-5100714819162191027|2024-10-27-09:51:19|\n",
      "|      TVM Rent|        3250| 1782127853235431588|  858271923021320980|20241002|-3931484484783362337|2024-10-27-09:51:19|\n",
      "| Gold Invstmnt|        1000| 4962050552325147656| 1987224080996593371|20241002|-5016775000958035643|2024-10-27-09:51:19|\n",
      "|   Zomato Food|         170|-2996829708924805941|-1486987501743003025|20241003| -716251172709447535|2024-10-27-09:51:19|\n",
      "|   Zomato Food|         154|-2996829708924805941|-1486987501743003025|20241004| -214655102084195783|2024-10-27-09:51:19|\n",
      "|Phone Recharge|         359| 4962050552325147656|-6072606072650303353|20241005| 6703640484942116817|2024-10-27-09:51:19|\n",
      "|     Food Mess|         760| 1782127853235431588|-1486987501743003025|20241006|-1787817312448541646|2024-10-27-09:51:19|\n",
      "|  food from FC|         125| 1782127853235431588|-1486987501743003025|20241007| 8568693054882881424|2024-10-27-09:51:19|\n",
      "|     Groceries|         257| 1782127853235431588|-1486987501743003025|20241007| -753502632839413814|2024-10-27-09:51:19|\n",
      "|   KSFE Chitti|       13194| 6156857810389859050|-4245010722904360951|20241007| 1194157014323499732|2024-10-27-09:51:19|\n",
      "|    Investment|       15000| 6156857810389859050| 1987224080996593371|20241009| 2994325216244416753|2024-10-27-09:51:19|\n",
      "|    Investment|        2500| 6156857810389859050| 1987224080996593371|20241009| -186368137249218991|2024-10-27-09:51:19|\n",
      "|    Investment|        2780| 6156857810389859050| 1987224080996593371|20241009|-5859098661349962230|2024-10-27-09:51:19|\n",
      "+--------------+------------+--------------------+--------------------+--------+--------------------+-------------------+\n",
      "only showing top 20 rows\n",
      "\n"
     ]
    }
   ],
   "source": [
    "df_new.show()"
   ]
  },
  {
   "cell_type": "code",
   "execution_count": 105,
   "metadata": {},
   "outputs": [
    {
     "name": "stdout",
     "output_type": "stream",
     "text": [
      "No duplicates found. Continuing execution...\n"
     ]
    }
   ],
   "source": [
    "df_new.createOrReplaceTempView(\"vw_dup\")\n",
    "\n",
    "duplicate_counts = spark.sql(\"\"\"\n",
    "    SELECT COUNT(PKSK) as count\n",
    "    FROM vw_dup\n",
    "    GROUP BY PKSK\n",
    "    HAVING COUNT(PKSK) > 1\n",
    "\"\"\")\n",
    "x = [row['count'] for row in duplicate_counts.collect()]\n",
    "\n",
    "# Fail the code if there are duplicates\n",
    "if len(x) > 0:\n",
    "    raise ValueError(f\"Duplicate values found :\\n{duplicate_counts}\")\n",
    "else:\n",
    "# # Proceed with the rest of the code if no duplicates\n",
    "    print(\"No duplicates found. Continuing execution...\")\n"
   ]
  },
  {
   "cell_type": "code",
   "execution_count": 106,
   "metadata": {},
   "outputs": [],
   "source": [
    "trgt_df = spark.read.parquet(trgt_path_processed)\n",
    "trgt_df.createOrReplaceTempView(\"vw_trgt\")"
   ]
  },
  {
   "cell_type": "code",
   "execution_count": 107,
   "metadata": {},
   "outputs": [
    {
     "name": "stdout",
     "output_type": "stream",
     "text": [
      "+--------------+------------+--------------------+--------------------+--------+--------------------+-------------------+\n",
      "| Spending Item|Spend Amount|            walletsk|          categorysk|  DateSK|                PKSK|    UpdateTimeStamp|\n",
      "+--------------+------------+--------------------+--------------------+--------+--------------------+-------------------+\n",
      "|      Bus Fare|         271| 6156857810389859050|-6960913322501014326|20241001|-7791941136341072556|2024-10-27-09:51:34|\n",
      "|   Zomato Food|         436|-2996829708924805941|-1486987501743003025|20241001| 2720454524596920964|2024-10-27-09:51:34|\n",
      "|Phone Recharge|         359| 6156857810389859050|-6072606072650303353|20241001|-5825610361050559354|2024-10-27-09:51:34|\n",
      "|Phone Recharge|         118| 4962050552325147656|-6072606072650303353|20241001| 6412210583642820357|2024-10-27-09:51:34|\n",
      "|  food from FC|         120| 1782127853235431588|-1486987501743003025|20241001|-9200187066285839138|2024-10-27-09:51:34|\n",
      "|   Zomato Food|         160|-2996829708924805941|-1486987501743003025|20241001|-1291922622494078739|2024-10-27-09:51:34|\n",
      "|     Groceries|         245| 6156857810389859050|-1486987501743003025|20241001|-4627120077685838876|2024-10-27-09:51:34|\n",
      "|         Iwish|         745| 6156857810389859050| 1987224080996593371|20241002|-5100714819162191027|2024-10-27-09:51:34|\n",
      "|      TVM Rent|        3250| 1782127853235431588|  858271923021320980|20241002|-3931484484783362337|2024-10-27-09:51:34|\n",
      "| Gold Invstmnt|        1000| 4962050552325147656| 1987224080996593371|20241002|-5016775000958035643|2024-10-27-09:51:34|\n",
      "|   Zomato Food|         170|-2996829708924805941|-1486987501743003025|20241003| -716251172709447535|2024-10-27-09:51:34|\n",
      "|   Zomato Food|         154|-2996829708924805941|-1486987501743003025|20241004| -214655102084195783|2024-10-27-09:51:34|\n",
      "|Phone Recharge|         359| 4962050552325147656|-6072606072650303353|20241005| 6703640484942116817|2024-10-27-09:51:34|\n",
      "|     Food Mess|         760| 1782127853235431588|-1486987501743003025|20241006|-1787817312448541646|2024-10-27-09:51:34|\n",
      "|  food from FC|         125| 1782127853235431588|-1486987501743003025|20241007| 8568693054882881424|2024-10-27-09:51:34|\n",
      "|     Groceries|         257| 1782127853235431588|-1486987501743003025|20241007| -753502632839413814|2024-10-27-09:51:34|\n",
      "|   KSFE Chitti|       13194| 6156857810389859050|-4245010722904360951|20241007| 1194157014323499732|2024-10-27-09:51:34|\n",
      "|    Investment|       15000| 6156857810389859050| 1987224080996593371|20241009| 2994325216244416753|2024-10-27-09:51:34|\n",
      "|    Investment|        2500| 6156857810389859050| 1987224080996593371|20241009| -186368137249218991|2024-10-27-09:51:34|\n",
      "|    Investment|        2780| 6156857810389859050| 1987224080996593371|20241009|-5859098661349962230|2024-10-27-09:51:34|\n",
      "+--------------+------------+--------------------+--------------------+--------+--------------------+-------------------+\n",
      "only showing top 20 rows\n",
      "\n"
     ]
    }
   ],
   "source": [
    "query = \"select * from vw_dup WHERE PKSK NOT IN(select PKSK from vw_trgt)\"\n",
    "df_merge=spark.sql(query)\n",
    "df_merge.show()\n"
   ]
  },
  {
   "cell_type": "code",
   "execution_count": 108,
   "metadata": {},
   "outputs": [],
   "source": [
    "# Save the DataFrame to a Parquet file\n",
    "df_merge.write.format(\"parquet\").mode(\"overwrite\").save(trgt_path_processed)"
   ]
  },
  {
   "cell_type": "code",
   "execution_count": 115,
   "metadata": {},
   "outputs": [],
   "source": [
    "df_test = spark.read.parquet(trgt_path_processed)\n",
    "df_test.createOrReplaceTempView(\"vw_test\")"
   ]
  },
  {
   "cell_type": "code",
   "execution_count": 116,
   "metadata": {},
   "outputs": [
    {
     "name": "stdout",
     "output_type": "stream",
     "text": [
      "2024-10-27-09:51:47\n"
     ]
    }
   ],
   "source": [
    "latest_data = df_test.select(max(\"UpdateTimeStamp\")).collect()[0][0]\n",
    "print(latest_data)"
   ]
  },
  {
   "cell_type": "code",
   "execution_count": 117,
   "metadata": {},
   "outputs": [
    {
     "name": "stdout",
     "output_type": "stream",
     "text": [
      "select *  from vw_test Where UpdateTimeStamp >= '2024-10-27-09:51:47'\n",
      "+--------------+------------+--------------------+--------------------+--------+--------------------+-------------------+\n",
      "| Spending Item|Spend Amount|            walletsk|          categorysk|  DateSK|                PKSK|    UpdateTimeStamp|\n",
      "+--------------+------------+--------------------+--------------------+--------+--------------------+-------------------+\n",
      "| ATM Withdrwal|         500| 6156857810389859050|-1135341175396131025|20241016|  280241511041695669|2024-10-27-09:51:47|\n",
      "|   Zomato Food|          63| 4962050552325147656|-1486987501743003025|20241017| 5021252364157443658|2024-10-27-09:51:47|\n",
      "|     Groceries|          70| 1782127853235431588|-1486987501743003025|20241016|-1509858294728426275|2024-10-27-09:51:47|\n",
      "|  food from FC|         100| 1782127853235431588|-1486987501743003025|20241018| 4523804523630209464|2024-10-27-09:51:47|\n",
      "|          Food|         280| 1782127853235431588|-1486987501743003025|20241018|-1091224313624387780|2024-10-27-09:51:47|\n",
      "|     Groceries|         250| 1782127853235431588|-1135341175396131025|20241018|-6146265185619424043|2024-10-27-09:51:47|\n",
      "|      Auto Fee|          60| 1782127853235431588|-6960913322501014326|20241018| 1930211019749719713|2024-10-27-09:51:47|\n",
      "|  food from FC|         100| 1782127853235431588|-1486987501743003025|20241009|-7837349580803936144|2024-10-27-09:51:47|\n",
      "|     Groceries|          55| 1782127853235431588|-1486987501743003025|20241009| 4480945055125109027|2024-10-27-09:51:47|\n",
      "|  food from FC|         100| 1782127853235431588|-1486987501743003025|20241009|-2651788987369694436|2024-10-27-09:51:47|\n",
      "|Phone Recharge|         359| 4962050552325147656|-6072606072650303353|20241010|-6365939556445027173|2024-10-27-09:51:47|\n",
      "|   Rent E-bill|         107| 1782127853235431588|  858271923021320980|20241011| 7449874640200457679|2024-10-27-09:51:47|\n",
      "|      Bus Fare|         271| 6156857810389859050|-6960913322501014326|20241001|-7791941136341072556|2024-10-27-09:51:47|\n",
      "|   Zomato Food|         436|-2996829708924805941|-1486987501743003025|20241001| 2720454524596920964|2024-10-27-09:51:47|\n",
      "|Phone Recharge|         359| 6156857810389859050|-6072606072650303353|20241001|-5825610361050559354|2024-10-27-09:51:47|\n",
      "|Phone Recharge|         118| 4962050552325147656|-6072606072650303353|20241001| 6412210583642820357|2024-10-27-09:51:47|\n",
      "|  food from FC|         120| 1782127853235431588|-1486987501743003025|20241001|-9200187066285839138|2024-10-27-09:51:47|\n",
      "| ATM Withdrwal|        1000| 6156857810389859050|-1135341175396131025|20241013|-2861820588924184646|2024-10-27-09:51:47|\n",
      "|Phone Recharge|         299| 6156857810389859050|-6072606072650303353|20241013|-7516695269665004247|2024-10-27-09:51:47|\n",
      "| Internet Bill|         943| 6156857810389859050|-4918081827928123316|20241014| 2213812721518763498|2024-10-27-09:51:47|\n",
      "+--------------+------------+--------------------+--------------------+--------+--------------------+-------------------+\n",
      "only showing top 20 rows\n",
      "\n"
     ]
    }
   ],
   "source": [
    "query = \"select *  from vw_test Where UpdateTimeStamp >= '\"+latest_data+\"'\"\n",
    "print(query)\n",
    "df_op = spark.sql(\n",
    "    query\n",
    "    )\n",
    "df_op.show()"
   ]
  },
  {
   "cell_type": "code",
   "execution_count": 140,
   "metadata": {},
   "outputs": [],
   "source": [
    "category_path_processed = \"/mnt/Category_Parquet/\"\n",
    "calendar_path_processed = \"/mnt/Calendar_Parquet/\"\n",
    "wallet_path_processed = \"/mnt/wallet_Parquet/\""
   ]
  },
  {
   "cell_type": "code",
   "execution_count": 144,
   "metadata": {},
   "outputs": [],
   "source": [
    "spark.read.format(\"parquet\").load(category_path_processed).createOrReplaceTempView(\"vw_category\")\n",
    "\n",
    "spark.read.format(\"parquet\").load(calendar_path_processed).createOrReplaceTempView(\"vw_calendar\")\n",
    "spark.read.format(\"parquet\").load(wallet_path_processed).createOrReplaceTempView(\"vw_wallet\")\n"
   ]
  },
  {
   "cell_type": "code",
   "execution_count": 143,
   "metadata": {},
   "outputs": [
    {
     "name": "stdout",
     "output_type": "stream",
     "text": [
      "+-------+-----------------+--------------------+\n",
      "|  Month|sum(Spend Amount)|         Wallet used|\n",
      "+-------+-----------------+--------------------+\n",
      "|October|             2199|Credit Card - Amazon|\n",
      "|October|            38290|           ICICI Pay|\n",
      "|October|             6374|               G-pay|\n",
      "|October|              920|       Amazon Wallet|\n",
      "+-------+-----------------+--------------------+\n",
      "\n"
     ]
    }
   ],
   "source": [
    "df_op = spark.sql(\n",
    "    \"select Month,sum(`Spend Amount`),`Wallet used` from vw_test as a \\\n",
    "        left join vw_category as b \\\n",
    "            on a.categorysk = b.categorysk \\\n",
    "                left join vw_calendar as c \\\n",
    "                    on c.datesk = a.datesk \\\n",
    "                        left join  vw_wallet as d \\\n",
    "                            on d.walletsk = a.walletsk\\\n",
    "                                group by all\"\n",
    "    )\n",
    "df_op.show()"
   ]
  }
 ],
 "metadata": {
  "kernelspec": {
   "display_name": "Python 3 (ipykernel)",
   "language": "python",
   "name": "python3"
  },
  "language_info": {
   "codemirror_mode": {
    "name": "ipython",
    "version": 3
   },
   "file_extension": ".py",
   "mimetype": "text/x-python",
   "name": "python",
   "nbconvert_exporter": "python",
   "pygments_lexer": "ipython3",
   "version": "3.11.6"
  }
 },
 "nbformat": 4,
 "nbformat_minor": 2
}
