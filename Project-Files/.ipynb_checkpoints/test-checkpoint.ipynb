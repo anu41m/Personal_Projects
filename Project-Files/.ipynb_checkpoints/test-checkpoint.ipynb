{
 "cells": [
  {
   "cell_type": "code",
   "execution_count": 6,
   "metadata": {},
   "outputs": [],
   "source": [
    "from pyspark.sql import SparkSession\n",
    "import pandas as pd\n",
    "import msal\n",
    "import requests\n",
    "import json\n",
    "import os\n",
    "from msgraph import graph_service_client"
   ]
  },
  {
   "cell_type": "code",
   "execution_count": 7,
   "metadata": {},
   "outputs": [],
   "source": [
    "from msgraph import graph_service_client\n",
    "from azure.identity import InteractiveBrowserCredential"
   ]
  },
  {
   "cell_type": "code",
   "execution_count": 8,
   "metadata": {},
   "outputs": [],
   "source": [
    "spark = SparkSession.builder.appName(\"OneDriveUploader\").getOrCreate()\n"
   ]
  },
  {
   "cell_type": "code",
   "execution_count": 9,
   "metadata": {},
   "outputs": [],
   "source": [
    "data = [(\"Alice\", 34), (\"Bob\", 45), (\"Cathy\", 29)]\n",
    "columns = [\"Name\", \"Age\"]\n",
    "df = spark.createDataFrame(data, columns)"
   ]
  },
  {
   "cell_type": "code",
   "execution_count": 10,
   "metadata": {},
   "outputs": [],
   "source": [
    "pandas_df = df.toPandas()\n",
    "csv_path = \"/mnt/data.csv\"\n",
    "pandas_df.to_csv(csv_path, index=False)"
   ]
  },
  {
   "cell_type": "code",
   "execution_count": 11,
   "metadata": {},
   "outputs": [],
   "source": [
    "client_id = os.getenv(\"CLIENT_ID\")\n",
    "client_secret = os.getenv(\"CLIENT_SECRET\")\n",
    "tenant_id = os.getenv(\"TENANT_ID\")\n"
   ]
  },
  {
   "cell_type": "code",
   "execution_count": 12,
   "metadata": {},
   "outputs": [],
   "source": [
    "authority = f\"https://login.microsoftonline.com/{tenant_id}\"\n",
    "scopes = [\"https://graph.microsoft.com/.default\"]\n",
    "app = msal.ConfidentialClientApplication(\n",
    "    client_id, authority=authority, client_credential=client_secret\n",
    ")"
   ]
  },
  {
   "cell_type": "code",
   "execution_count": 13,
   "metadata": {},
   "outputs": [],
   "source": [
    "# MSAL Authentication\n",
    "app = msal.ConfidentialClientApplication(client_id, authority=authority, client_credential=client_secret)\n",
    "token_response = app.acquire_token_for_client(scopes=scopes)\n",
    "access_token = token_response.get(\"access_token\")\n"
   ]
  },
  {
   "cell_type": "code",
   "execution_count": 14,
   "metadata": {},
   "outputs": [],
   "source": [
    "\n",
    "if not access_token:\n",
    "    exit(\"Could not get access token\")\n"
   ]
  },
  {
   "cell_type": "code",
   "execution_count": 28,
   "metadata": {},
   "outputs": [],
   "source": [
    "client_id = os.getenv(\"CLIENT_ID\")\n",
    "client_secret = os.getenv(\"CLIENT_SECRET\")\n",
    "tenant_id = os.getenv(\"TENANT_ID\")"
   ]
  },
  {
   "cell_type": "code",
   "execution_count": 29,
   "metadata": {},
   "outputs": [
    {
     "ename": "ValueError",
     "evalue": "Unable to get authority configuration for https://login.microsoftonline.com/YOUR_TENANT_ID. Authority would typically be in a format of https://login.microsoftonline.com/your_tenant or https://tenant_name.ciamlogin.com or https://tenant_name.b2clogin.com/tenant.onmicrosoft.com/policy.  Also please double check your tenant name or GUID is correct.",
     "output_type": "error",
     "traceback": [
      "\u001b[0;31m---------------------------------------------------------------------------\u001b[0m",
      "\u001b[0;31mValueError\u001b[0m                                Traceback (most recent call last)",
      "File \u001b[0;32m/opt/conda/lib/python3.11/site-packages/msal/authority.py:79\u001b[0m, in \u001b[0;36mAuthority.__init__\u001b[0;34m(self, authority_url, http_client, validate_authority, instance_discovery, oidc_authority_url)\u001b[0m\n\u001b[1;32m     78\u001b[0m \u001b[38;5;28;01mtry\u001b[39;00m:\n\u001b[0;32m---> 79\u001b[0m     openid_config \u001b[38;5;241m=\u001b[39m \u001b[43mtenant_discovery\u001b[49m\u001b[43m(\u001b[49m\n\u001b[1;32m     80\u001b[0m \u001b[43m        \u001b[49m\u001b[43mtenant_discovery_endpoint\u001b[49m\u001b[43m,\u001b[49m\n\u001b[1;32m     81\u001b[0m \u001b[43m        \u001b[49m\u001b[38;5;28;43mself\u001b[39;49m\u001b[38;5;241;43m.\u001b[39;49m\u001b[43m_http_client\u001b[49m\u001b[43m)\u001b[49m\n\u001b[1;32m     82\u001b[0m \u001b[38;5;28;01mexcept\u001b[39;00m \u001b[38;5;167;01mValueError\u001b[39;00m:\n",
      "File \u001b[0;32m/opt/conda/lib/python3.11/site-packages/msal/authority.py:216\u001b[0m, in \u001b[0;36mtenant_discovery\u001b[0;34m(tenant_discovery_endpoint, http_client, **kwargs)\u001b[0m\n\u001b[1;32m    213\u001b[0m \u001b[38;5;28;01mif\u001b[39;00m \u001b[38;5;241m400\u001b[39m \u001b[38;5;241m<\u001b[39m\u001b[38;5;241m=\u001b[39m resp\u001b[38;5;241m.\u001b[39mstatus_code \u001b[38;5;241m<\u001b[39m \u001b[38;5;241m500\u001b[39m:\n\u001b[1;32m    214\u001b[0m     \u001b[38;5;66;03m# Nonexist tenant would hit this path\u001b[39;00m\n\u001b[1;32m    215\u001b[0m     \u001b[38;5;66;03m# e.g. https://login.microsoftonline.com/nonexist_tenant/v2.0/.well-known/openid-configuration\u001b[39;00m\n\u001b[0;32m--> 216\u001b[0m     \u001b[38;5;28;01mraise\u001b[39;00m \u001b[38;5;167;01mValueError\u001b[39;00m(\u001b[38;5;124m\"\u001b[39m\u001b[38;5;124mOIDC Discovery failed on \u001b[39m\u001b[38;5;132;01m{}\u001b[39;00m\u001b[38;5;124m. HTTP status: \u001b[39m\u001b[38;5;132;01m{}\u001b[39;00m\u001b[38;5;124m, Error: \u001b[39m\u001b[38;5;132;01m{}\u001b[39;00m\u001b[38;5;124m\"\u001b[39m\u001b[38;5;241m.\u001b[39mformat(\n\u001b[1;32m    217\u001b[0m         tenant_discovery_endpoint,\n\u001b[1;32m    218\u001b[0m         resp\u001b[38;5;241m.\u001b[39mstatus_code,\n\u001b[1;32m    219\u001b[0m         resp\u001b[38;5;241m.\u001b[39mtext,  \u001b[38;5;66;03m# Expose it as-is b/c OIDC defines no error response format\u001b[39;00m\n\u001b[1;32m    220\u001b[0m         ))\n\u001b[1;32m    221\u001b[0m \u001b[38;5;66;03m# Transient network error would hit this path\u001b[39;00m\n",
      "\u001b[0;31mValueError\u001b[0m: OIDC Discovery failed on https://login.microsoftonline.com/YOUR_TENANT_ID/v2.0/.well-known/openid-configuration. HTTP status: 400, Error: {\"error\":\"invalid_tenant\",\"error_description\":\"AADSTS90002: Tenant 'your_tenant_id' not found. Check to make sure you have the correct tenant ID and are signing into the correct cloud. Check with your subscription administrator, this may happen if there are no active subscriptions for the tenant. Trace ID: 9648e2e6-d65a-4a25-ac98-2a6e2e5f0a00 Correlation ID: 3852f34a-688e-4c8f-b319-c1a26c903abf Timestamp: 2024-10-28 18:22:32Z\",\"error_codes\":[90002],\"timestamp\":\"2024-10-28 18:22:32Z\",\"trace_id\":\"9648e2e6-d65a-4a25-ac98-2a6e2e5f0a00\",\"correlation_id\":\"3852f34a-688e-4c8f-b319-c1a26c903abf\",\"error_uri\":\"https://login.microsoftonline.com/error?code=90002\"}",
      "\nDuring handling of the above exception, another exception occurred:\n",
      "\u001b[0;31mValueError\u001b[0m                                Traceback (most recent call last)",
      "Cell \u001b[0;32mIn[29], line 26\u001b[0m\n\u001b[1;32m     23\u001b[0m     \u001b[38;5;28;01mreturn\u001b[39;00m \u001b[38;5;124mf\u001b[39m\u001b[38;5;124m\"\u001b[39m\u001b[38;5;124mUser ID: \u001b[39m\u001b[38;5;132;01m{\u001b[39;00muser_info\u001b[38;5;241m.\u001b[39mjson()\u001b[38;5;241m.\u001b[39mget(\u001b[38;5;124m'\u001b[39m\u001b[38;5;124mid\u001b[39m\u001b[38;5;124m'\u001b[39m)\u001b[38;5;132;01m}\u001b[39;00m\u001b[38;5;124m\"\u001b[39m\n\u001b[1;32m     25\u001b[0m \u001b[38;5;28;01mif\u001b[39;00m \u001b[38;5;18m__name__\u001b[39m \u001b[38;5;241m==\u001b[39m \u001b[38;5;124m\"\u001b[39m\u001b[38;5;124m__main__\u001b[39m\u001b[38;5;124m\"\u001b[39m:\n\u001b[0;32m---> 26\u001b[0m     app\u001b[38;5;241m.\u001b[39mclient_app \u001b[38;5;241m=\u001b[39m \u001b[43mmsal\u001b[49m\u001b[38;5;241;43m.\u001b[39;49m\u001b[43mConfidentialClientApplication\u001b[49m\u001b[43m(\u001b[49m\u001b[43mclient_id\u001b[49m\u001b[43m,\u001b[49m\u001b[43m \u001b[49m\u001b[43mauthority\u001b[49m\u001b[38;5;241;43m=\u001b[39;49m\u001b[43mauthority\u001b[49m\u001b[43m,\u001b[49m\u001b[43m \u001b[49m\u001b[43mclient_credential\u001b[49m\u001b[38;5;241;43m=\u001b[39;49m\u001b[43mclient_secret\u001b[49m\u001b[43m)\u001b[49m\n\u001b[1;32m     27\u001b[0m     app\u001b[38;5;241m.\u001b[39mms_login_url \u001b[38;5;241m=\u001b[39m app\u001b[38;5;241m.\u001b[39mclient_app\u001b[38;5;241m.\u001b[39mget_authorization_request_url(scopes\u001b[38;5;241m=\u001b[39mscopes, redirect_uri\u001b[38;5;241m=\u001b[39m\u001b[38;5;124m\"\u001b[39m\u001b[38;5;124mhttp://localhost:5000/getAToken\u001b[39m\u001b[38;5;124m\"\u001b[39m)\n\u001b[1;32m     28\u001b[0m     app\u001b[38;5;241m.\u001b[39mrun(host\u001b[38;5;241m=\u001b[39m\u001b[38;5;124m\"\u001b[39m\u001b[38;5;124m0.0.0.0\u001b[39m\u001b[38;5;124m\"\u001b[39m, port\u001b[38;5;241m=\u001b[39m\u001b[38;5;241m5000\u001b[39m, debug\u001b[38;5;241m=\u001b[39m\u001b[38;5;28;01mTrue\u001b[39;00m)\n",
      "File \u001b[0;32m/opt/conda/lib/python3.11/site-packages/msal/application.py:608\u001b[0m, in \u001b[0;36mClientApplication.__init__\u001b[0;34m(self, client_id, client_credential, authority, validate_authority, token_cache, http_client, verify, proxies, timeout, client_claims, app_name, app_version, client_capabilities, azure_region, exclude_scopes, http_cache, instance_discovery, allow_broker, enable_pii_log, oidc_authority)\u001b[0m\n\u001b[1;32m    606\u001b[0m \u001b[38;5;28;01mtry\u001b[39;00m:\n\u001b[1;32m    607\u001b[0m     authority_to_use \u001b[38;5;241m=\u001b[39m authority \u001b[38;5;129;01mor\u001b[39;00m \u001b[38;5;124m\"\u001b[39m\u001b[38;5;124mhttps://\u001b[39m\u001b[38;5;132;01m{}\u001b[39;00m\u001b[38;5;124m/common/\u001b[39m\u001b[38;5;124m\"\u001b[39m\u001b[38;5;241m.\u001b[39mformat(WORLD_WIDE)\n\u001b[0;32m--> 608\u001b[0m     \u001b[38;5;28mself\u001b[39m\u001b[38;5;241m.\u001b[39mauthority \u001b[38;5;241m=\u001b[39m \u001b[43mAuthority\u001b[49m\u001b[43m(\u001b[49m\n\u001b[1;32m    609\u001b[0m \u001b[43m        \u001b[49m\u001b[43mauthority_to_use\u001b[49m\u001b[43m,\u001b[49m\n\u001b[1;32m    610\u001b[0m \u001b[43m        \u001b[49m\u001b[38;5;28;43mself\u001b[39;49m\u001b[38;5;241;43m.\u001b[39;49m\u001b[43mhttp_client\u001b[49m\u001b[43m,\u001b[49m\n\u001b[1;32m    611\u001b[0m \u001b[43m        \u001b[49m\u001b[43mvalidate_authority\u001b[49m\u001b[38;5;241;43m=\u001b[39;49m\u001b[43mvalidate_authority\u001b[49m\u001b[43m,\u001b[49m\n\u001b[1;32m    612\u001b[0m \u001b[43m        \u001b[49m\u001b[43minstance_discovery\u001b[49m\u001b[38;5;241;43m=\u001b[39;49m\u001b[38;5;28;43mself\u001b[39;49m\u001b[38;5;241;43m.\u001b[39;49m\u001b[43m_instance_discovery\u001b[49m\u001b[43m,\u001b[49m\n\u001b[1;32m    613\u001b[0m \u001b[43m        \u001b[49m\u001b[43moidc_authority_url\u001b[49m\u001b[38;5;241;43m=\u001b[39;49m\u001b[43moidc_authority\u001b[49m\u001b[43m,\u001b[49m\n\u001b[1;32m    614\u001b[0m \u001b[43m        \u001b[49m\u001b[43m)\u001b[49m\n\u001b[1;32m    615\u001b[0m \u001b[38;5;28;01mexcept\u001b[39;00m \u001b[38;5;167;01mValueError\u001b[39;00m:  \u001b[38;5;66;03m# Those are explicit authority validation errors\u001b[39;00m\n\u001b[1;32m    616\u001b[0m     \u001b[38;5;28;01mraise\u001b[39;00m\n",
      "File \u001b[0;32m/opt/conda/lib/python3.11/site-packages/msal/authority.py:95\u001b[0m, in \u001b[0;36mAuthority.__init__\u001b[0;34m(self, authority_url, http_client, validate_authority, instance_discovery, oidc_authority_url)\u001b[0m\n\u001b[1;32m     82\u001b[0m \u001b[38;5;28;01mexcept\u001b[39;00m \u001b[38;5;167;01mValueError\u001b[39;00m:\n\u001b[1;32m     83\u001b[0m     error_message \u001b[38;5;241m=\u001b[39m (\n\u001b[1;32m     84\u001b[0m         \u001b[38;5;124m\"\u001b[39m\u001b[38;5;124mUnable to get OIDC authority configuration for \u001b[39m\u001b[38;5;132;01m{url}\u001b[39;00m\u001b[38;5;124m \u001b[39m\u001b[38;5;124m\"\u001b[39m\n\u001b[1;32m     85\u001b[0m         \u001b[38;5;124m\"\u001b[39m\u001b[38;5;124mbecause its OIDC Discovery endpoint is unavailable at \u001b[39m\u001b[38;5;124m\"\u001b[39m\n\u001b[0;32m   (...)\u001b[0m\n\u001b[1;32m     93\u001b[0m         \u001b[38;5;241m.\u001b[39mformat(authority_url)\n\u001b[1;32m     94\u001b[0m         ) \u001b[38;5;241m+\u001b[39m \u001b[38;5;124m\"\u001b[39m\u001b[38;5;124m Also please double check your tenant name or GUID is correct.\u001b[39m\u001b[38;5;124m\"\u001b[39m\n\u001b[0;32m---> 95\u001b[0m     \u001b[38;5;28;01mraise\u001b[39;00m \u001b[38;5;167;01mValueError\u001b[39;00m(error_message)\n\u001b[1;32m     96\u001b[0m logger\u001b[38;5;241m.\u001b[39mdebug(\n\u001b[1;32m     97\u001b[0m     \u001b[38;5;124m'\u001b[39m\u001b[38;5;124mopenid_config(\u001b[39m\u001b[38;5;124m\"\u001b[39m\u001b[38;5;132;01m%s\u001b[39;00m\u001b[38;5;124m\"\u001b[39m\u001b[38;5;124m) = \u001b[39m\u001b[38;5;132;01m%s\u001b[39;00m\u001b[38;5;124m'\u001b[39m, tenant_discovery_endpoint, openid_config)\n\u001b[1;32m     98\u001b[0m \u001b[38;5;28mself\u001b[39m\u001b[38;5;241m.\u001b[39mauthorization_endpoint \u001b[38;5;241m=\u001b[39m openid_config[\u001b[38;5;124m'\u001b[39m\u001b[38;5;124mauthorization_endpoint\u001b[39m\u001b[38;5;124m'\u001b[39m]\n",
      "\u001b[0;31mValueError\u001b[0m: Unable to get authority configuration for https://login.microsoftonline.com/YOUR_TENANT_ID. Authority would typically be in a format of https://login.microsoftonline.com/your_tenant or https://tenant_name.ciamlogin.com or https://tenant_name.b2clogin.com/tenant.onmicrosoft.com/policy.  Also please double check your tenant name or GUID is correct."
     ]
    }
   ],
   "source": [
    "from flask import Flask, request, redirect, url_for\n",
    "import msal\n",
    "import requests\n",
    "\n",
    "app = Flask(__name__)\n",
    "\n",
    "authority = f\"https://login.microsoftonline.com/{tenant_id}\"\n",
    "scopes = [\"User.Read\"]\n",
    "\n",
    "@app.route(\"/\")\n",
    "def index():\n",
    "    return redirect(app.ms_login_url)\n",
    "\n",
    "@app.route(\"/getAToken\")\n",
    "def authorized():\n",
    "    code = request.args.get('code')\n",
    "    result = app.client_app.acquire_token_by_authorization_code(code, scopes=scopes, redirect_uri=url_for(\"authorized\", _external=True))\n",
    "    access_token = result['access_token']\n",
    "    user_info = requests.get(\"https://graph.microsoft.com/v1.0/me\", headers={\"Authorization\": f\"Bearer {access_token}\"})\n",
    "    return f\"User ID: {user_info.json().get('id')}\"\n",
    "\n",
    "if __name__ == \"__main__\":\n",
    "    app.client_app = msal.ConfidentialClientApplication(client_id, authority=authority, client_credential=client_secret)\n",
    "    app.ms_login_url = app.client_app.get_authorization_request_url(scopes=scopes, redirect_uri=\"http://localhost:5000/getAToken\")\n",
    "    app.run(host=\"0.0.0.0\", port=5000, debug=True)\n"
   ]
  },
  {
   "cell_type": "code",
   "execution_count": 15,
   "metadata": {},
   "outputs": [
    {
     "name": "stdout",
     "output_type": "stream",
     "text": [
      "User ID: None\n"
     ]
    }
   ],
   "source": [
    "import msal\n",
    "\n",
    "# Initialize MSAL application\n",
    "app = msal.ConfidentialClientApplication(client_id, authority=authority, client_credential=client_secret)\n",
    "\n",
    "# Acquire token for user\n",
    "scopes = [\"https://graph.microsoft.com/.default\"]\n",
    "token_response = app.acquire_token_for_client(scopes=scopes)\n",
    "access_token = token_response.get(\"access_token\")\n",
    "\n",
    "# Get user ID\n",
    "response = requests.get(\"https://graph.microsoft.com/v1.0/me\", headers={\"Authorization\": f\"Bearer {access_token}\"})\n",
    "user_id = response.json().get(\"id\")\n",
    "print(f\"User ID: {user_id}\")\n"
   ]
  },
  {
   "cell_type": "code",
   "execution_count": 22,
   "metadata": {},
   "outputs": [
    {
     "name": "stdout",
     "output_type": "stream",
     "text": [
      "Failed to upload file: {'error': {'code': 'BadRequest', 'message': '/me request is only valid with delegated authentication flow.', 'innerError': {'date': '2024-10-28T17:56:57', 'request-id': '519f9bc2-4b33-4d53-b5b1-d239687f03ee', 'client-request-id': '519f9bc2-4b33-4d53-b5b1-d239687f03ee'}}}\n"
     ]
    }
   ],
   "source": [
    "\n",
    "# Define the OneDrive API URL for personal drive\n",
    "onedrive_upload_url = \"https://graph.microsoft.com/v1.0/me/drive/root:/sample.csv:/content\"\n",
    "\n",
    "# Upload CSV file to OneDrive\n",
    "headers = {\n",
    "    \"Authorization\": f\"Bearer {access_token}\",\n",
    "    \"Content-Type\": \"text/csv\"\n",
    "}\n",
    "\n",
    "with open(csv_path, \"rb\") as f:\n",
    "    response = requests.put(onedrive_upload_url, headers=headers, data=f)\n",
    "    if response.status_code == 201:\n",
    "        print(\"CSV file uploaded successfully to OneDrive!\")\n",
    "    else:\n",
    "        print(\"Failed to upload file:\", response.json())"
   ]
  },
  {
   "cell_type": "code",
   "execution_count": 13,
   "metadata": {},
   "outputs": [
    {
     "name": "stdout",
     "output_type": "stream",
     "text": [
      "Failed to create upload session. Status code: 405\n",
      "{'error': {'code': 'Request_BadRequest', 'message': 'Specified HTTP method is not allowed for the request target.', 'innerError': {'date': '2024-10-27T18:03:29', 'request-id': 'bb0b39bd-5141-45c9-88e4-2c3e1724bb7f', 'client-request-id': 'bb0b39bd-5141-45c9-88e4-2c3e1724bb7f'}}}\n"
     ]
    }
   ],
   "source": [
    "user_id = \"anoopmadhu2000_gmail.com#EXT#@anoopmadhu2000gmail.onmicrosoft.com\"  # Replace with the target user's email or user ID\n",
    "upload_session_url = f\"https://graph.microsoft.com/v1.0/users/{user_id}/drive/root:/Reports/data.csv:/content\"\n",
    "headers = {\n",
    "    \"Authorization\": f\"Bearer {access_token}\",\n",
    "    \"Content-Type\": \"application/json\"  # Specify content type for CSV file\n",
    "}\n",
    "# Create upload session\n",
    "upload_session_response = requests.post(upload_session_url, headers=headers, json={})\n",
    "if upload_session_response.status_code != 200:\n",
    "    print(f\"Failed to create upload session. Status code: {upload_session_response.status_code}\")\n",
    "    print(upload_session_response.json())\n"
   ]
  },
  {
   "cell_type": "code",
   "execution_count": 65,
   "metadata": {},
   "outputs": [
    {
     "name": "stdout",
     "output_type": "stream",
     "text": [
      "Failed to upload file. Status code: 400\n",
      "{'error': {'code': 'BadRequest', 'message': 'Entity only allows writes with a JSON Content-Type header.', 'innerError': {'date': '2024-10-27T17:57:57', 'request-id': 'e1347a1f-5e36-4cc7-a0df-5bb53048053f', 'client-request-id': 'e1347a1f-5e36-4cc7-a0df-5bb53048053f'}}}\n"
     ]
    }
   ],
   "source": [
    "# Check the response\n",
    "if response.status_code == 201:\n",
    "    print(\"File uploaded successfully to OneDrive!\")\n",
    "else:\n",
    "    print(f\"Failed to upload file. Status code: {response.status_code}\")\n",
    "    print(response.json())"
   ]
  }
 ],
 "metadata": {
  "kernelspec": {
   "display_name": "Python 3 (ipykernel)",
   "language": "python",
   "name": "python3"
  },
  "language_info": {
   "codemirror_mode": {
    "name": "ipython",
    "version": 3
   },
   "file_extension": ".py",
   "mimetype": "text/x-python",
   "name": "python",
   "nbconvert_exporter": "python",
   "pygments_lexer": "ipython3",
   "version": "3.11.6"
  }
 },
 "nbformat": 4,
 "nbformat_minor": 2
}
