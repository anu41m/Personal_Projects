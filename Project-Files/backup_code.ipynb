{
 "cells": [
  {
   "cell_type": "code",
   "execution_count": null,
   "metadata": {},
   "outputs": [],
   "source": [
    "def user_value(df):\n",
    "    max_date = \"1999-01-01\"\n",
    "    x= str(input(\"Enter 1 if it is adhoc else 0\"))\n",
    "    if x == '1':\n",
    "        max_date\n",
    "    elif x == '0':\n",
    "        max_date = df_max.select(F.max(\"Date\")).collect()[0][0]\n",
    "        print(\"value of output : \"+max_date)\n",
    "    else:\n",
    "        print(\"Error: Invalid value for adhoc_load. Please use '0' or '1'.\")\n",
    "        user_value(df)\n",
    "    return max_date\n",
    "        "
   ]
  },
  {
   "cell_type": "code",
   "execution_count": null,
   "metadata": {},
   "outputs": [],
   "source": [
    "df_max = spark.read.csv(trgt_path, header=True)\n",
    "max_date = user_value(df_max)\n",
    "max_date = (max_date.format(DateType()))\n",
    "print(max_date)z"
   ]
  }
 ],
 "metadata": {
  "kernelspec": {
   "display_name": "Python 3 (ipykernel)",
   "language": "python",
   "name": "python3"
  },
  "language_info": {
   "codemirror_mode": {
    "name": "ipython",
    "version": 3
   },
   "file_extension": ".py",
   "mimetype": "text/x-python",
   "name": "python",
   "nbconvert_exporter": "python",
   "pygments_lexer": "ipython3",
   "version": "3.11.6"
  }
 },
 "nbformat": 4,
 "nbformat_minor": 4
}
