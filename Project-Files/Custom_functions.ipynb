{
 "cells": [
  {
   "cell_type": "code",
   "execution_count": 1,
   "metadata": {},
   "outputs": [],
   "source": [
    "from openpyxl import load_workbook\n",
    "from google.cloud import storage\n",
    "from pyspark.sql import *\n",
    "from pyspark.sql.functions import *\n",
    "import requests\n",
    "import pandas as pd\n",
    "from io import BytesIO\n",
    "import hashlib\n",
    "from pyspark.sql.types import *\n",
    "from pyspark.sql import Window as W\n",
    "pd.set_option('display.max_columns', None)  # Show all columns\n",
    "pd.set_option('display.width', 1000)  "
   ]
  },
  {
   "cell_type": "code",
   "execution_count": 2,
   "metadata": {},
   "outputs": [],
   "source": [
    "from pyspark.sql.utils import *\n"
   ]
  },
  {
   "cell_type": "code",
   "execution_count": 3,
   "metadata": {},
   "outputs": [],
   "source": [
    "# Create Spark session\n",
    "spark = SparkSession.builder \\\n",
    "    .appName(\"DateRangeExample\") \\\n",
    "    .getOrCreate()"
   ]
  },
  {
   "cell_type": "code",
   "execution_count": 4,
   "metadata": {},
   "outputs": [],
   "source": [
    "def get_max_date(trgt_path_processed):\n",
    "    max_date=\"0\"\n",
    "    try:\n",
    "        # Try to read the Parquet file\n",
    "        df = spark.read.parquet(trgt_path_processed)\n",
    "        # Check if DataFrame is empty\n",
    "        if df.head(1):\n",
    "            df.createOrReplaceTempView(\"vw_max\")\n",
    "            max_date_s = spark.sql(\"select max(datesk) as max_date from vw_max\").collect()[0][0]\n",
    "            max_date = max_date_s[0:4]+\"-\"+max_date_s[4:6]+\"-\"+max_date_s[6:8]\n",
    "            return max_date\n",
    "        else:\n",
    "            max_date = \"0\"\n",
    "            return max_date\n",
    "    except AnalysisException:\n",
    "        return max_date"
   ]
  }
 ],
 "metadata": {
  "kernelspec": {
   "display_name": "Python 3 (ipykernel)",
   "language": "python",
   "name": "python3"
  },
  "language_info": {
   "codemirror_mode": {
    "name": "ipython",
    "version": 3
   },
   "file_extension": ".py",
   "mimetype": "text/x-python",
   "name": "python",
   "nbconvert_exporter": "python",
   "pygments_lexer": "ipython3",
   "version": "3.11.6"
  }
 },
 "nbformat": 4,
 "nbformat_minor": 2
}
