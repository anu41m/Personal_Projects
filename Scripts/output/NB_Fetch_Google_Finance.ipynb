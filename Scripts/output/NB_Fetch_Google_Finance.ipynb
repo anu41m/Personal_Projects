{
 "cells": [
  {
   "cell_type": "code",
   "execution_count": 1,
   "id": "b657a786",
   "metadata": {
    "execution": {
     "iopub.execute_input": "2025-01-11T02:54:11.686419Z",
     "iopub.status.busy": "2025-01-11T02:54:11.685921Z",
     "iopub.status.idle": "2025-01-11T02:54:33.021973Z",
     "shell.execute_reply": "2025-01-11T02:54:33.019056Z"
    },
    "papermill": {
     "duration": 21.401166,
     "end_time": "2025-01-11T02:54:33.035166",
     "exception": false,
     "start_time": "2025-01-11T02:54:11.634000",
     "status": "completed"
    },
    "tags": []
   },
   "outputs": [
    {
     "data": {
      "text/html": [
       "\n",
       "            <div>\n",
       "                <p><b>SparkSession - in-memory</b></p>\n",
       "                \n",
       "        <div>\n",
       "            <p><b>SparkContext</b></p>\n",
       "\n",
       "            <p><a href=\"http://f8ddfbc17b97:4040\">Spark UI</a></p>\n",
       "\n",
       "            <dl>\n",
       "              <dt>Version</dt>\n",
       "                <dd><code>v3.5.0</code></dd>\n",
       "              <dt>Master</dt>\n",
       "                <dd><code>spark://spark-master:7077</code></dd>\n",
       "              <dt>AppName</dt>\n",
       "                <dd><code>MyApp1</code></dd>\n",
       "            </dl>\n",
       "        </div>\n",
       "        \n",
       "            </div>\n",
       "        "
      ],
      "text/plain": [
       "<pyspark.sql.session.SparkSession at 0xffff6afb4890>"
      ]
     },
     "execution_count": 1,
     "metadata": {},
     "output_type": "execute_result"
    }
   ],
   "source": [
    "import yfinance as yf\n",
    "import datetime as dt\n",
    "import requests, json, pandas as pd\n",
    "from bs4 import BeautifulSoup\n",
    "from pyspark.sql import *\n",
    "from pyspark.sql import functions as F\n",
    "from pyspark.sql.types import DoubleType\n",
    "import pandas as pd\n",
    "import os\n",
    "import shutil\n",
    "\n",
    "PYSPARK_PYTHON = os.getenv(\"PYSPARK_PYTHON\") \n",
    "PYSPARK_DRIVER_PYTHON = os.getenv(\"PYSPARK_DRIVER_PYTHON\")\n",
    "import pyspark\n",
    "from delta import configure_spark_with_delta_pip, DeltaTable\n",
    "import json\n",
    "\n",
    "# Load the configuration JSON file\n",
    "with open('/usr/local/spark/conf/spark-defaults.json', 'r') as f:\n",
    "    config = json.load(f)\n",
    "\n",
    "# Initialize the Spark session builder\n",
    "builder = pyspark.sql.SparkSession.builder.appName(\"MyApp1\").config(\"spark.sql.extensions\", \"io.delta.sql.DeltaSparkSessionExtension\") \\\n",
    "    .config(\"spark.sql.catalog.spark_catalog\", \"org.apache.spark.sql.delta.catalog.DeltaCatalog\").config(\"spark.pyspark.python\", PYSPARK_PYTHON)\\\n",
    "    .config(\"spark.pyspark.driver.python\", PYSPARK_DRIVER_PYTHON)\n",
    "\n",
    "# Read the packages from the text file\n",
    "packages = []\n",
    "with open('/usr/local/spark/conf/packages.txt', 'r') as file:\n",
    "    # Read each line and strip newlines or extra spaces\n",
    "    packages = [line.strip() for line in file if line.strip()]\n",
    "\n",
    "# # Add packages to the Spark session configuration\n",
    "builder.config(\"spark.jars.packages\", \",\".join(packages))\n",
    "\n",
    "# Apply the configurations from the JSON file to the Spark session\n",
    "for key, value in config.items():\n",
    "    builder.config(key, value)\n",
    "\n",
    "# Configure Spark with Delta Lake (if needed)\n",
    "spark = configure_spark_with_delta_pip(builder).getOrCreate()\n",
    "# Now you can use the Spark session\n",
    "spark"
   ]
  },
  {
   "cell_type": "code",
   "execution_count": 2,
   "id": "58e45228",
   "metadata": {
    "execution": {
     "iopub.execute_input": "2025-01-11T02:54:33.056428Z",
     "iopub.status.busy": "2025-01-11T02:54:33.054483Z",
     "iopub.status.idle": "2025-01-11T02:54:34.814515Z",
     "shell.execute_reply": "2025-01-11T02:54:34.812854Z"
    },
    "papermill": {
     "duration": 1.775408,
     "end_time": "2025-01-11T02:54:34.822723",
     "exception": false,
     "start_time": "2025-01-11T02:54:33.047315",
     "status": "completed"
    },
    "tags": []
   },
   "outputs": [],
   "source": [
    "dfpd=pd.read_csv('/home/jovyan/Notebooks/Config_Stock.csv')\n",
    "dfpath=spark.createDataFrame(dfpd)"
   ]
  },
  {
   "cell_type": "code",
   "execution_count": 3,
   "id": "5c43a6e5",
   "metadata": {
    "execution": {
     "iopub.execute_input": "2025-01-11T02:54:34.847089Z",
     "iopub.status.busy": "2025-01-11T02:54:34.846796Z",
     "iopub.status.idle": "2025-01-11T02:54:40.793230Z",
     "shell.execute_reply": "2025-01-11T02:54:40.790161Z"
    },
    "papermill": {
     "duration": 5.962381,
     "end_time": "2025-01-11T02:54:40.799873",
     "exception": false,
     "start_time": "2025-01-11T02:54:34.837492",
     "status": "completed"
    },
    "tags": []
   },
   "outputs": [],
   "source": [
    "\n",
    "trgt_path_processed = dfpath.filter(F.col(\"DataFeedName\") == \"Stock_Delta_Path\").select('Path').collect()[0][0]\n",
    "trgt_path_csv = dfpath.filter(F.col(\"DataFeedName\") == \"Stock_CSV_Path\").select('Path').collect()[0][0]"
   ]
  },
  {
   "cell_type": "code",
   "execution_count": 4,
   "id": "cb50d958",
   "metadata": {
    "execution": {
     "iopub.execute_input": "2025-01-11T02:54:40.820576Z",
     "iopub.status.busy": "2025-01-11T02:54:40.820307Z",
     "iopub.status.idle": "2025-01-11T02:54:40.827320Z",
     "shell.execute_reply": "2025-01-11T02:54:40.825516Z"
    },
    "papermill": {
     "duration": 0.017737,
     "end_time": "2025-01-11T02:54:40.832423",
     "exception": false,
     "start_time": "2025-01-11T02:54:40.814686",
     "status": "completed"
    },
    "tags": []
   },
   "outputs": [],
   "source": [
    "def f_roe(financials_info, balance_sheet):\n",
    "    net_income = financials_info.loc[\"Net Income\"].iloc[0] if \"Net Income\" in financials_info.index else None\n",
    "    # Fetch Shareholders' Equity from balance sheet\n",
    "    total_equity = balance_sheet.loc[\"Stockholders Equity\"].iloc[0] if \"Stockholders Equity\" in balance_sheet.index else None \n",
    "    return (net_income / total_equity) * 100 if type(net_income) == float and type(total_equity) == float else 0.00"
   ]
  },
  {
   "cell_type": "code",
   "execution_count": 5,
   "id": "8bb40760",
   "metadata": {
    "execution": {
     "iopub.execute_input": "2025-01-11T02:54:40.841553Z",
     "iopub.status.busy": "2025-01-11T02:54:40.841378Z",
     "iopub.status.idle": "2025-01-11T02:54:40.847272Z",
     "shell.execute_reply": "2025-01-11T02:54:40.846799Z"
    },
    "papermill": {
     "duration": 0.010465,
     "end_time": "2025-01-11T02:54:40.848273",
     "exception": false,
     "start_time": "2025-01-11T02:54:40.837808",
     "status": "completed"
    },
    "tags": []
   },
   "outputs": [],
   "source": [
    "def f_roce(financials_info, balance_sheet):\n",
    "    ebit = financials_info.loc[\"Operating Income\"].iloc[0] if \"Operating Income\" in financials_info.index else 0\n",
    "\n",
    "    # # Get Total Assets and Current Liabilities from balance sheet\n",
    "    total_assets = balance_sheet.loc[\"Total Assets\"].iloc[0] if \"Total Assets\" in balance_sheet.index else 0\n",
    "    current_liabilities = balance_sheet.loc[\"Current Liabilities\"].iloc[0] if \"Current Liabilities\" in balance_sheet.index else 0\n",
    "\n",
    "    # Calculate Capital Employed\n",
    "    capital_employed = total_assets - current_liabilities\n",
    "\n",
    "    return (ebit / capital_employed) * 100 if capital_employed != 0 else 0"
   ]
  },
  {
   "cell_type": "code",
   "execution_count": 6,
   "id": "f24f08bd",
   "metadata": {
    "execution": {
     "iopub.execute_input": "2025-01-11T02:54:40.855104Z",
     "iopub.status.busy": "2025-01-11T02:54:40.854956Z",
     "iopub.status.idle": "2025-01-11T02:54:40.859027Z",
     "shell.execute_reply": "2025-01-11T02:54:40.858623Z"
    },
    "papermill": {
     "duration": 0.008411,
     "end_time": "2025-01-11T02:54:40.859921",
     "exception": false,
     "start_time": "2025-01-11T02:54:40.851510",
     "status": "completed"
    },
    "tags": []
   },
   "outputs": [],
   "source": [
    "def f_PEG(stock_info):\n",
    "# Calculate PEG ratios\n",
    "    trailing_pe = stock_info.get(\"trailingPE\", None)\n",
    "    forward_pe = stock_info.get(\"forwardPE\", None)\n",
    "    earnings_growth = stock_info.get(\"earningsGrowth\", None)  # Provided as a decimal\n",
    "\n",
    "    if earnings_growth is not None and earnings_growth > 0:\n",
    "        \n",
    "        trailing_peg = trailing_pe / (earnings_growth * 100) if trailing_pe else 0\n",
    "        forward_peg = forward_pe / (earnings_growth * 100) if forward_pe else 0\n",
    "        peg_t= trailing_peg if trailing_peg else \"N/A\"\n",
    "        peg_f=forward_peg if forward_peg else \"N/A\"\n",
    "    else:\n",
    "        peg_f=peg_t=\"N/A\"\n",
    "    return peg_t,peg_f"
   ]
  },
  {
   "cell_type": "code",
   "execution_count": 7,
   "id": "11056faa",
   "metadata": {
    "execution": {
     "iopub.execute_input": "2025-01-11T02:54:40.872129Z",
     "iopub.status.busy": "2025-01-11T02:54:40.871885Z",
     "iopub.status.idle": "2025-01-11T02:54:40.876432Z",
     "shell.execute_reply": "2025-01-11T02:54:40.875659Z"
    },
    "papermill": {
     "duration": 0.014384,
     "end_time": "2025-01-11T02:54:40.877481",
     "exception": false,
     "start_time": "2025-01-11T02:54:40.863097",
     "status": "completed"
    },
    "tags": []
   },
   "outputs": [],
   "source": [
    "def f_debt_to_equity(balance_sheet):\n",
    "    total_liabilities = balance_sheet.loc[\"Total Liabilities Net Minority Interest\"].iloc[0] if \"Total Liabilities Net Minority Interest\" in balance_sheet.index else 0\n",
    "    shareholders_equity = balance_sheet.loc[\"Stockholders Equity\"].iloc[0] if \"Stockholders Equity\" in balance_sheet.index else 0\n",
    "    # Calculate Debt-to-Equity Ratio\n",
    "    if shareholders_equity != 0:  # Avoid division by zero\n",
    "        debt_to_equity_ratio = total_liabilities / shareholders_equity\n",
    "    else:\n",
    "        debt_to_equity_ratio = \"N/A\"\n",
    "    return debt_to_equity_ratio"
   ]
  },
  {
   "cell_type": "code",
   "execution_count": 8,
   "id": "9c438c34",
   "metadata": {
    "execution": {
     "iopub.execute_input": "2025-01-11T02:54:40.884399Z",
     "iopub.status.busy": "2025-01-11T02:54:40.884248Z",
     "iopub.status.idle": "2025-01-11T02:54:40.889516Z",
     "shell.execute_reply": "2025-01-11T02:54:40.888873Z"
    },
    "papermill": {
     "duration": 0.00993,
     "end_time": "2025-01-11T02:54:40.890683",
     "exception": false,
     "start_time": "2025-01-11T02:54:40.880753",
     "status": "completed"
    },
    "tags": []
   },
   "outputs": [],
   "source": [
    "def f_sales_growth(income_statement):\n",
    "    revenue = income_statement.loc[\"Total Revenue\"] if \"Total Revenue\" in income_statement.index else {\"0\":\"NA\"}\n",
    "    revenue = revenue.dropna() if isinstance(revenue, pd.Series) else revenue # Remove any periods with missing data\n",
    "    # Ensure revenue has at least two periods to calculate growth\n",
    "    if len(revenue) > 1:\n",
    "        # Calculate sales growth between the latest two periods\n",
    "        latest_growth = ((revenue.iloc[0] - revenue.iloc[1]) / revenue.iloc[1]) * 100 if revenue.iloc[1] != 0 else 0\n",
    "        latest_period = revenue.index[0].strftime(\"%Y-%m-%d\")\n",
    "    else:\n",
    "        # Handle cases where there isn't enough data\n",
    "        latest_growth=0\n",
    "        latest_period=0\n",
    "    return latest_growth,latest_period"
   ]
  },
  {
   "cell_type": "code",
   "execution_count": 9,
   "id": "48b092e4",
   "metadata": {
    "execution": {
     "iopub.execute_input": "2025-01-11T02:54:40.898656Z",
     "iopub.status.busy": "2025-01-11T02:54:40.898498Z",
     "iopub.status.idle": "2025-01-11T02:54:40.903132Z",
     "shell.execute_reply": "2025-01-11T02:54:40.902666Z"
    },
    "papermill": {
     "duration": 0.009577,
     "end_time": "2025-01-11T02:54:40.904194",
     "exception": false,
     "start_time": "2025-01-11T02:54:40.894617",
     "status": "completed"
    },
    "tags": []
   },
   "outputs": [],
   "source": [
    "def f_MA(historical_data):\n",
    "    # Calculate 50-day and 200-day moving averages\n",
    "    if not historical_data.empty:\n",
    "        historical_data[\"MA50\"] = historical_data[\"Close\"].rolling(window=50).mean()\n",
    "        historical_data[\"MA200\"] = historical_data[\"Close\"].rolling(window=200).mean()\n",
    "        # Return the latest MA50 and MA200\n",
    "        latest_data = historical_data.iloc[-1]\n",
    "        ma50=latest_data[\"MA50\"] if latest_data[\"MA50\"] else 0\n",
    "        ma200=latest_data[\"MA200\"] if latest_data[\"MA200\"] else 0\n",
    "    else:\n",
    "        # Return the latest MA50 and MA200\n",
    "        latest_data = 0\n",
    "        ma50=0\n",
    "        ma200=0\n",
    "    return ma50, ma200"
   ]
  },
  {
   "cell_type": "code",
   "execution_count": 10,
   "id": "08cfd16d",
   "metadata": {
    "execution": {
     "iopub.execute_input": "2025-01-11T02:54:40.911467Z",
     "iopub.status.busy": "2025-01-11T02:54:40.911160Z",
     "iopub.status.idle": "2025-01-11T02:54:40.923170Z",
     "shell.execute_reply": "2025-01-11T02:54:40.922716Z"
    },
    "papermill": {
     "duration": 0.016728,
     "end_time": "2025-01-11T02:54:40.923935",
     "exception": false,
     "start_time": "2025-01-11T02:54:40.907207",
     "status": "completed"
    },
    "tags": []
   },
   "outputs": [],
   "source": [
    "def f_stock_data(l_tickers):\n",
    "    ticker_data = []\n",
    "    headers=[\"Ticker\",\"Sector\",\"Industry\",\"52_week_high\",\"ROE\",\"ROCE\",\"Trailing_PEG\",\"Forward_PEG\",\"Debt_to_Equity\",\"Latest_Finanacial_Year\",\"Sales_Growth\",\"MA50\",\"MA200\"]\n",
    "    for t in l_tickers:\n",
    "        ticker = yf.Ticker(t + ('.BO' if t.isdigit() else '.NS'))\n",
    "        stock_info = ticker.info\n",
    "        balance_sheet = ticker.balance_sheet\n",
    "        financials_info=ticker.financials\n",
    "        income_statement=ticker.income_stmt\n",
    "        historical_data = ticker.history(period=\"ytd\")\n",
    "        v_roe=f_roe(financials_info, balance_sheet)\n",
    "        v_roce=f_roce(financials_info, balance_sheet)\n",
    "        v_peg_t,v_peg_f=f_PEG(stock_info)\n",
    "        v_debt_to_equity=f_debt_to_equity(balance_sheet)\n",
    "        v_sales_growth,v_latest_period=f_sales_growth(income_statement)\n",
    "        v_ma50,v_ma200=f_MA(historical_data)\n",
    "        ticker_data.append([t, stock_info.get(\"sector\", \"N/A\"), stock_info.get(\"industry\", \"N/A\"), stock_info.get(\"fiftyTwoWeekHigh\", None),v_roe,v_roce,v_peg_t,v_peg_f,v_debt_to_equity,v_latest_period,v_sales_growth,v_ma50,v_ma200])\n",
    "    df_retun = pd.DataFrame(ticker_data, columns=headers)\n",
    "    return(df_retun)"
   ]
  },
  {
   "cell_type": "code",
   "execution_count": 11,
   "id": "bcd8a84f",
   "metadata": {
    "execution": {
     "iopub.execute_input": "2025-01-11T02:54:40.931974Z",
     "iopub.status.busy": "2025-01-11T02:54:40.931267Z",
     "iopub.status.idle": "2025-01-11T02:54:40.942021Z",
     "shell.execute_reply": "2025-01-11T02:54:40.940766Z"
    },
    "papermill": {
     "duration": 0.017999,
     "end_time": "2025-01-11T02:54:40.945230",
     "exception": false,
     "start_time": "2025-01-11T02:54:40.927231",
     "status": "completed"
    },
    "tags": []
   },
   "outputs": [
    {
     "name": "stdout",
     "output_type": "stream",
     "text": [
      "The current time 02:54:40.933868 is NOT between the start 03:30:00 and end 10:30:00 timestamps. Market is CLOSED NOW\n",
      "Continuing Execution...\n"
     ]
    }
   ],
   "source": [
    "#To prevent Data overwriting on Market Hours, Preventing the Auto run of this notebook on NSE and BSE timings (9 AM to 4 PM IST)\n",
    "# Get the current date and time\n",
    "current_timestamp = dt.datetime.now()\n",
    "\n",
    "# Replace the time portion with 03:30:00 and 10:30:00\n",
    "final_timestamp = current_timestamp.replace(hour=3, minute=30, second=0, microsecond=0)\n",
    "end_timestamp = current_timestamp.replace(hour=10, minute=30, second=0, microsecond=0)\n",
    "\n",
    "# Check if the current time is between the final and end timestamps\n",
    "if final_timestamp <= current_timestamp <= end_timestamp:\n",
    "    print(f\"The current time {current_timestamp.time()} is between the start {final_timestamp.time()} and end {end_timestamp.time()} timestamps. Market is LIVE NOW\")\n",
    "    print(\"Exiting...\")\n",
    "    exit()\n",
    "else:\n",
    "    print(f\"The current time {current_timestamp.time()} is NOT between the start {final_timestamp.time()} and end {end_timestamp.time()} timestamps. Market is CLOSED NOW\")\n",
    "    print(\"Continuing Execution...\")"
   ]
  },
  {
   "cell_type": "code",
   "execution_count": 12,
   "id": "ee90d349",
   "metadata": {
    "execution": {
     "iopub.execute_input": "2025-01-11T02:54:40.951990Z",
     "iopub.status.busy": "2025-01-11T02:54:40.951811Z",
     "iopub.status.idle": "2025-01-11T02:54:43.883283Z",
     "shell.execute_reply": "2025-01-11T02:54:43.881029Z"
    },
    "papermill": {
     "duration": 2.945807,
     "end_time": "2025-01-11T02:54:43.894138",
     "exception": false,
     "start_time": "2025-01-11T02:54:40.948331",
     "status": "completed"
    },
    "tags": []
   },
   "outputs": [],
   "source": [
    "# URL to scrape\n",
    "url_link=[\"https://www.google.com/finance/markets/gainers\",\"https://www.google.com/finance/markets/losers\"]\n",
    "rows = []\n",
    "headers=[\"Ticker\",\"Stock_Name\",\"CMP\",\"Change\",\"Change_Percentage\"]\n",
    "\n",
    "for url in url_link:\n",
    "    response = requests.get(url)\n",
    "    if response.status_code == 200:\n",
    "        soup = BeautifulSoup(response.text, 'html.parser')\n",
    "        # Find the parent container\n",
    "        parent_container = soup.find('ul', class_='sbnBtf')\n",
    "        if parent_container:\n",
    "            # Find all stock entries within the parent container\n",
    "            stock_entries = parent_container.find_all('li')\n",
    "            for stock in stock_entries:\n",
    "                # Extract relevant details for each stock\n",
    "                stock_ticker = stock.find('div', class_='COaKTb').text if stock.find('div', class_='COaKTb') else \"N/A\"\n",
    "                stock_name = stock.find('div', class_='ZvmM7').text if stock.find('div', class_='ZvmM7') else \"N/A\"\n",
    "                stock_price = stock.find('div', class_='YMlKec').text if stock.find('div', class_='YMlKec') else \"N/A\"\n",
    "                stock_change = stock.find('div', class_='BAftM').text if stock.find('div', class_='BAftM') else \"N/A\"\n",
    "                stock_percent = stock.find('div', class_='zWwE1').text if stock.find('div', class_='zWwE1') else \"N/A\"\n",
    "                # Add extracted data to the list\n",
    "                rows.append([stock_ticker,stock_name,stock_price,stock_change,stock_percent])\n",
    "    \n",
    "    # Convert to JSON string with readable characters\n",
    "df_pd_today = pd.DataFrame(rows, columns=headers)\n"
   ]
  },
  {
   "cell_type": "code",
   "execution_count": 13,
   "id": "b8e34be3",
   "metadata": {
    "execution": {
     "iopub.execute_input": "2025-01-11T02:54:43.913398Z",
     "iopub.status.busy": "2025-01-11T02:54:43.913167Z",
     "iopub.status.idle": "2025-01-11T02:56:05.745227Z",
     "shell.execute_reply": "2025-01-11T02:56:05.743172Z"
    },
    "papermill": {
     "duration": 81.849634,
     "end_time": "2025-01-11T02:56:05.753416",
     "exception": false,
     "start_time": "2025-01-11T02:54:43.903782",
     "status": "completed"
    },
    "tags": []
   },
   "outputs": [
    {
     "name": "stdout",
     "output_type": "stream",
     "text": [
      "['NURECA', 'MAZDA', 'CUBEXTUB', 'ATLASCYCLE', 'DNAMEDIA', 'RKFORGE', 'RGL', 'ORIENTTECH', 'TCS', 'JAIBALAJI', 'PIGL', 'TIPSFILMS', 'INDOTHAI', 'IRIS', 'TERASOFT', 'MAANALU', 'COFFEEDAY', 'IITL', 'VISASTEEL', 'ARSSINFRA', 'SEYAIND', 'BOHRAIND', 'LAL', 'CALSOFT', 'ROLTA', 'BGLOBAL', 'FCONSUMER', 'FSC', 'LTIM', 'AYMSYNTEX', 'ANANDRATHI', 'DELTACORP', 'QUINTEGRA', 'MOIL', 'NGIL', 'AWHCL', 'WSTCSTPAPR', 'SIKKO', 'PAVNAIND', 'UNOMINDA', 'TECHM', 'BHAGCHEM', 'PGHL', 'TARACHAND', 'CEREBRAINT', 'HCLTECH', 'SUNDARMFIN', 'SANGINITA', 'KBCGLOBAL', 'BALAJEE', '750943', 'DHAN-RE', 'GTPL', 'SIKKO-RE', 'AWL', 'SPANDANA', 'JAICORPLTD', 'GRWRHITECH', 'DISHTV', 'KAMDHENU', 'FOCUS', 'GSLSU', 'HARRMALAYA', 'PNC', 'GICRE', 'CELEBRITY', 'ROML', 'SASTASUNDR', 'UNIVCABLES', 'DAMCAPITAL', 'APOLLO', 'BCONCEPTS', 'INTERARCH', 'EIFFL', 'PREMIERENE', 'JINDALPOLY', 'ASAHISONG', 'SIYSIL', 'SGL', 'ITDC', 'HILTON', 'MGEL', 'INDTERRAIN', 'NAVKARCORP', 'KMEW', 'TATAELXSI', 'AEGISLOG', 'MADHAV', 'CINEVISTA', 'VISAKAIND', 'IIFLCAPS', 'AURIONPRO', 'SHARDACROP', 'SHIVAMAUTO', 'INDRAMEDCO', 'WORTH', 'GINNIFILA', 'INTENTECH', 'RECLTD', 'TARC']\n"
     ]
    },
    {
     "name": "stderr",
     "output_type": "stream",
     "text": [
      "$750943.BO: possibly delisted; no price data found  (period=ytd) (Yahoo error = \"No data found, symbol may be delisted\")\n"
     ]
    },
    {
     "name": "stderr",
     "output_type": "stream",
     "text": [
      "DHAN-RE.NS: Period 'ytd' is invalid, must be one of ['1d', '5d']\n"
     ]
    },
    {
     "name": "stderr",
     "output_type": "stream",
     "text": [
      "SIKKO-RE.NS: Period 'ytd' is invalid, must be one of ['1d', '5d']\n"
     ]
    }
   ],
   "source": [
    "# Extract unique tickers as a Python list\n",
    "l_tickers = df_pd_today[\"Ticker\"].unique().tolist()\n",
    "# Print the result\n",
    "print(l_tickers)\n",
    "df_stock_data=f_stock_data(l_tickers)"
   ]
  },
  {
   "cell_type": "code",
   "execution_count": 14,
   "id": "1cd9b46b",
   "metadata": {
    "execution": {
     "iopub.execute_input": "2025-01-11T02:56:05.781450Z",
     "iopub.status.busy": "2025-01-11T02:56:05.781183Z",
     "iopub.status.idle": "2025-01-11T02:56:05.902851Z",
     "shell.execute_reply": "2025-01-11T02:56:05.902068Z"
    },
    "papermill": {
     "duration": 0.13075,
     "end_time": "2025-01-11T02:56:05.904698",
     "exception": false,
     "start_time": "2025-01-11T02:56:05.773948",
     "status": "completed"
    },
    "tags": []
   },
   "outputs": [],
   "source": [
    "df_custom=df_pd_today.merge(df_stock_data, on='Ticker',how='left')\n",
    "reorder_colms=[\"Ticker\",\"Stock_Name\",\"Sector\",\"Industry\",\"CMP\",\"Change\",\"Change_Percentage\"]+[col for col in df_custom.columns if col not in [\"Ticker\",\"Stock_Name\",\"Sector\",\"Industry\",\"CMP\",\"Change\",\"Change_Percentage\"]]\n",
    "df_spark=spark.createDataFrame(df_custom[reorder_colms])"
   ]
  },
  {
   "cell_type": "code",
   "execution_count": 15,
   "id": "fe22719c",
   "metadata": {
    "execution": {
     "iopub.execute_input": "2025-01-11T02:56:05.913596Z",
     "iopub.status.busy": "2025-01-11T02:56:05.913408Z",
     "iopub.status.idle": "2025-01-11T02:56:06.173882Z",
     "shell.execute_reply": "2025-01-11T02:56:06.173067Z"
    },
    "papermill": {
     "duration": 0.266525,
     "end_time": "2025-01-11T02:56:06.175629",
     "exception": false,
     "start_time": "2025-01-11T02:56:05.909104",
     "status": "completed"
    },
    "tags": []
   },
   "outputs": [],
   "source": [
    "df_master = df_spark.filter(\n",
    "                            (F.col(\"ROE\") >= 15) &\n",
    "                            (F.col(\"ROCE\") >= 15) &\n",
    "                            (F.col(\"Debt_to_Equity\") <= 1) &\n",
    "                            (F.col(\"MA50\") >= F.col(\"MA200\"))\n",
    "                            ).withColumn(\"ROE\",F.coalesce(F.round(F.col(\"ROE\"), 2),F.lit(0))) \\\n",
    "                            .withColumn(\"ROCE\", F.coalesce(F.round(F.col(\"ROCE\"), 2),F.lit(0))) \\\n",
    "                            .withColumn(\"Trailing_PEG\", F.coalesce(F.round(F.col(\"Trailing_PEG\"), 2),F.lit(0))) \\\n",
    "                            .withColumn(\"Forward_PEG\", F.coalesce(F.round(F.col(\"Forward_PEG\"), 2),F.lit(0))) \\\n",
    "                            .withColumn(\"Debt_to_Equity\", F.coalesce(F.round(F.col(\"Debt_to_Equity\"), 2),F.lit(0))) \\\n",
    "                            .withColumn(\"Sales_Growth\", F.coalesce(F.round(F.col(\"Sales_Growth\"), 2), F.lit(0))) \\\n",
    "                            .withColumn(\"MA50\", F.coalesce(F.round(F.col(\"MA50\"), 2), F.lit(0))) \\\n",
    "                            .withColumn(\"MA200\", F.coalesce(F.round(F.col(\"MA200\"), 2), F.lit(0))) \\\n",
    "                            .withColumn(\n",
    "                                \"Gainer_Looser\",\n",
    "                                F.when(\n",
    "                                    F.regexp_replace(F.col(\"Change\"), \"₹\", \"\").cast(\"float\") < 0.0, \"L\"\n",
    "                                ).otherwise(\"G\")\n",
    "                            )"
   ]
  },
  {
   "cell_type": "code",
   "execution_count": 16,
   "id": "ecb60b9a",
   "metadata": {
    "execution": {
     "iopub.execute_input": "2025-01-11T02:56:06.185631Z",
     "iopub.status.busy": "2025-01-11T02:56:06.185447Z",
     "iopub.status.idle": "2025-01-11T02:56:06.188448Z",
     "shell.execute_reply": "2025-01-11T02:56:06.187917Z"
    },
    "papermill": {
     "duration": 0.008538,
     "end_time": "2025-01-11T02:56:06.189744",
     "exception": false,
     "start_time": "2025-01-11T02:56:06.181206",
     "status": "completed"
    },
    "tags": []
   },
   "outputs": [],
   "source": [
    "# df_read = spark.read.format('delta').load(trgt_path_processed)\n",
    "# df_select=df_read.distinct()"
   ]
  },
  {
   "cell_type": "code",
   "execution_count": 17,
   "id": "a1c07e9a",
   "metadata": {
    "execution": {
     "iopub.execute_input": "2025-01-11T02:56:06.198874Z",
     "iopub.status.busy": "2025-01-11T02:56:06.198705Z",
     "iopub.status.idle": "2025-01-11T02:56:06.202446Z",
     "shell.execute_reply": "2025-01-11T02:56:06.201955Z"
    },
    "papermill": {
     "duration": 0.009162,
     "end_time": "2025-01-11T02:56:06.203410",
     "exception": false,
     "start_time": "2025-01-11T02:56:06.194248",
     "status": "completed"
    },
    "tags": []
   },
   "outputs": [],
   "source": [
    "# df_select.write.format('delta').mode(\"overwrite\").save(trgt_path_processed)"
   ]
  },
  {
   "cell_type": "code",
   "execution_count": 18,
   "id": "a546ecbf",
   "metadata": {
    "execution": {
     "iopub.execute_input": "2025-01-11T02:56:06.211658Z",
     "iopub.status.busy": "2025-01-11T02:56:06.211265Z",
     "iopub.status.idle": "2025-01-11T02:56:24.864232Z",
     "shell.execute_reply": "2025-01-11T02:56:24.862743Z"
    },
    "papermill": {
     "duration": 18.665281,
     "end_time": "2025-01-11T02:56:24.872322",
     "exception": false,
     "start_time": "2025-01-11T02:56:06.207041",
     "status": "completed"
    },
    "tags": []
   },
   "outputs": [],
   "source": [
    "if DeltaTable.isDeltaTable(spark, trgt_path_processed):\n",
    "    df_read = spark.read.format('delta').load(trgt_path_processed)\n",
    "    df_repeat=df_read.join(df_master.select('Ticker'), on='Ticker', how='inner')\\\n",
    "            .withColumn('RunTimeStamp',(F.current_timestamp()).cast(\"timestamp\"))\\\n",
    "            .withColumn(\"NextDay\", F.to_timestamp(F.date_format(F.date_add(F.col(\"UpdateTimestamp\"), 1), format=\"yyyy-MM-dd 10:30:00\")))\\\n",
    "            .withColumn(\"WatchOutFlag\", F.when(\n",
    "                F.col('RunTimeStamp') > F.col('NextDay'), (F.col('WatchOutFlag') + 1)).otherwise(F.col('WatchOutFlag'))) \\\n",
    "            .withColumn(\"UpdateTimestamp\",  F.when(\n",
    "                        F.col('RunTimeStamp') > F.col('NextDay'),\n",
    "                        F.to_timestamp(F.date_format(F.current_date(), format=\"yyyy-MM-dd 10:30:00\"))).otherwise(F.col('UpdateTimestamp')))\\\n",
    "            .drop(\"RunTimeStamp\",\"NextDay\",\"PKSK\",\"RowSK\")\n",
    "    replace_tickers = df_repeat.select(\"Ticker\").rdd.flatMap(lambda x: x).collect()\n",
    "    df_output = (df_master.filter(~F.col(\"Ticker\").isin(replace_tickers))).unionByName(df_repeat, allowMissingColumns=True) \\\n",
    "        .withColumn(\"WatchOutFlag\", F.coalesce(F.col(\"WatchOutFlag\"), F.lit(0)).cast('int'))\\\n",
    "        .withColumn('UpdateTimestamp', F.coalesce(F.col(\"UpdateTimestamp\"),F.date_format(F.current_timestamp(), format=\"yyyy-MM-dd 10:30:00\")))   \n",
    "else:\n",
    "    df_output=df_master.withColumn('WatchOutFlag',F.lit(0))\\\n",
    "                .withColumn('UpdateTimestamp', F.date_format(F.current_timestamp(), format=\"yyyy-MM-dd 10:30:00\"))\n",
    "df_final=df_output.withColumn(\"PKSK\", F.xxhash64(F.col(\"Ticker\")).cast(\"string\"))\\\n",
    "        .withColumn(\"RowSK\", F.xxhash64(F.concat_ws(\"|\", *[F.col(c) for c in df_output.columns])))"
   ]
  },
  {
   "cell_type": "code",
   "execution_count": 19,
   "id": "0122d429",
   "metadata": {
    "execution": {
     "iopub.execute_input": "2025-01-11T02:56:24.889053Z",
     "iopub.status.busy": "2025-01-11T02:56:24.888455Z",
     "iopub.status.idle": "2025-01-11T02:56:28.631055Z",
     "shell.execute_reply": "2025-01-11T02:56:28.627719Z"
    },
    "papermill": {
     "duration": 3.755028,
     "end_time": "2025-01-11T02:56:28.636978",
     "exception": false,
     "start_time": "2025-01-11T02:56:24.881950",
     "status": "completed"
    },
    "tags": []
   },
   "outputs": [
    {
     "name": "stdout",
     "output_type": "stream",
     "text": [
      "No duplicates.. continuing execution\n"
     ]
    }
   ],
   "source": [
    "df_final.createOrReplaceTempView('vw_source')\n",
    "dup_query=\"select PKSK from vw_source group by 1 having count(PKSK)>1 \"\n",
    "df_dup=spark.sql(dup_query)\n",
    "x = df_dup.count()\n",
    "if x == 0:\n",
    "    print(\"No duplicates.. continuing execution\")\n",
    "else:\n",
    "    print(f\"Exception of duplicates! Found {x} duplicate keys.\")\n",
    "    # exit()"
   ]
  },
  {
   "cell_type": "code",
   "execution_count": 20,
   "id": "e6039500",
   "metadata": {
    "execution": {
     "iopub.execute_input": "2025-01-11T02:56:28.650222Z",
     "iopub.status.busy": "2025-01-11T02:56:28.649983Z",
     "iopub.status.idle": "2025-01-11T02:56:49.038096Z",
     "shell.execute_reply": "2025-01-11T02:56:49.034119Z"
    },
    "papermill": {
     "duration": 20.408746,
     "end_time": "2025-01-11T02:56:49.052757",
     "exception": false,
     "start_time": "2025-01-11T02:56:28.644011",
     "status": "completed"
    },
    "tags": []
   },
   "outputs": [
    {
     "name": "stdout",
     "output_type": "stream",
     "text": [
      "MERGE INTO delta.`/mnt/Stock_market_data/Processed_Parquet/` AS target \n",
      "            USING vw_source AS source \n",
      "            ON target.PKSK = source.PKSK \n",
      "            AND target.RowSK <> source.RowSK \n",
      "            WHEN MATCHED THEN UPDATE SET target.Ticker = source.Ticker, target.Stock_Name = source.Stock_Name, target.Sector = source.Sector, target.Industry = source.Industry, target.CMP = source.CMP, target.Change = source.Change, target.Change_Percentage = source.Change_Percentage, target.52_week_high = source.52_week_high, target.ROE = source.ROE, target.ROCE = source.ROCE, target.Trailing_PEG = source.Trailing_PEG, target.Forward_PEG = source.Forward_PEG, target.Debt_to_Equity = source.Debt_to_Equity, target.Latest_Finanacial_Year = source.Latest_Finanacial_Year, target.Sales_Growth = source.Sales_Growth, target.MA50 = source.MA50, target.MA200 = source.MA200, target.Gainer_Looser = source.Gainer_Looser, target.WatchOutFlag = source.WatchOutFlag, target.UpdateTimestamp = source.UpdateTimestamp, target.PKSK = source.PKSK, target.RowSK = source.RowSK\n",
      "            WHEN NOT MATCHED THEN INSERT (Ticker,Stock_Name,Sector,Industry,CMP,Change,Change_Percentage,52_week_high,ROE,ROCE,Trailing_PEG,Forward_PEG,Debt_to_Equity,Latest_Finanacial_Year,Sales_Growth,MA50,MA200,Gainer_Looser,WatchOutFlag,UpdateTimestamp,PKSK,RowSK) VALUES (source.Ticker,source.Stock_Name,source.Sector,source.Industry,source.CMP,source.Change,source.Change_Percentage,source.52_week_high,source.ROE,source.ROCE,source.Trailing_PEG,source.Forward_PEG,source.Debt_to_Equity,source.Latest_Finanacial_Year,source.Sales_Growth,source.MA50,source.MA200,source.Gainer_Looser,source.WatchOutFlag,source.UpdateTimestamp,source.PKSK,source.RowSK)\n"
     ]
    }
   ],
   "source": [
    "if DeltaTable.isDeltaTable(spark, trgt_path_processed):\n",
    "    l_delete=\"'\"+\"','\".join([row[\"Ticker\"] for row in df_repeat.select(\"Ticker\").collect()])+\"'\"\n",
    "    delete_query=f\"\"\"DELETE FROM delta.`{trgt_path_processed}` \n",
    "                    WHERE Ticker IN ({l_delete})\"\"\"\n",
    "    spark.sql(delete_query)\n",
    "    column_name = df_final.columns\n",
    "    set_clause = \", \".join([f\"target.{i} = source.{i}\" for i in column_name])\n",
    "    insert_clause=\",\".join(column_name)\n",
    "    insert_values=\",\".join([f\"source.{i}\" for i in column_name])\n",
    "    query = f\"\"\"MERGE INTO delta.`{trgt_path_processed}` AS target \n",
    "            USING vw_source AS source \n",
    "            ON target.PKSK = source.PKSK \n",
    "            AND target.RowSK <> source.RowSK \n",
    "            WHEN MATCHED THEN UPDATE SET {set_clause}\n",
    "            WHEN NOT MATCHED THEN INSERT ({insert_clause}) VALUES ({insert_values})\"\"\"\n",
    "    spark.sql(query)       \n",
    "else :\n",
    "    query=f\"CREATE TABLE delta.`{trgt_path_processed}` USING DELTA AS SELECT * FROM vw_source\"\n",
    "    spark.sql(query)\n",
    "\n",
    "print(query)"
   ]
  },
  {
   "cell_type": "code",
   "execution_count": 21,
   "id": "d5090ee7",
   "metadata": {
    "execution": {
     "iopub.execute_input": "2025-01-11T02:56:49.097487Z",
     "iopub.status.busy": "2025-01-11T02:56:49.096543Z",
     "iopub.status.idle": "2025-01-11T02:56:51.325305Z",
     "shell.execute_reply": "2025-01-11T02:56:51.323015Z"
    },
    "papermill": {
     "duration": 2.251383,
     "end_time": "2025-01-11T02:56:51.331145",
     "exception": false,
     "start_time": "2025-01-11T02:56:49.079762",
     "status": "completed"
    },
    "tags": []
   },
   "outputs": [],
   "source": [
    "# Save the DataFrame to a CSV file\n",
    "spark.read.format(\"delta\").load(trgt_path_processed).coalesce(1)\\\n",
    "    .write.format(\"csv\").option(\"header\",\"true\").mode(\"overwrite\").save(trgt_path_csv)"
   ]
  },
  {
   "cell_type": "code",
   "execution_count": 22,
   "id": "15f03a61",
   "metadata": {
    "execution": {
     "iopub.execute_input": "2025-01-11T02:56:51.351987Z",
     "iopub.status.busy": "2025-01-11T02:56:51.351722Z",
     "iopub.status.idle": "2025-01-11T02:56:51.373215Z",
     "shell.execute_reply": "2025-01-11T02:56:51.372030Z"
    },
    "papermill": {
     "duration": 0.029194,
     "end_time": "2025-01-11T02:56:51.374542",
     "exception": false,
     "start_time": "2025-01-11T02:56:51.345348",
     "status": "completed"
    },
    "tags": []
   },
   "outputs": [
    {
     "name": "stdout",
     "output_type": "stream",
     "text": [
      "['part-00000-9da4e3c9-fde9-4339-8bd3-ee39884d0da2-c000.csv']\n"
     ]
    },
    {
     "data": {
      "text/plain": [
       "'/mnt/Stock_market_data/Processed/processed.csv'"
      ]
     },
     "execution_count": 22,
     "metadata": {},
     "output_type": "execute_result"
    }
   ],
   "source": [
    "trgt_copy_path = trgt_path_csv + \"processed.csv\"\n",
    "files=os.listdir(trgt_path_csv)\n",
    "selected_files = [file for file in files if file.startswith('part-00') and file.endswith('.csv')]\n",
    "file=trgt_path_csv + selected_files[0]\n",
    "print(selected_files)\n",
    "shutil.copy(file, trgt_copy_path)"
   ]
  },
  {
   "cell_type": "code",
   "execution_count": 23,
   "id": "70ad0d14",
   "metadata": {
    "execution": {
     "iopub.execute_input": "2025-01-11T02:56:51.385886Z",
     "iopub.status.busy": "2025-01-11T02:56:51.385517Z",
     "iopub.status.idle": "2025-01-11T02:56:51.392165Z",
     "shell.execute_reply": "2025-01-11T02:56:51.390925Z"
    },
    "papermill": {
     "duration": 0.015019,
     "end_time": "2025-01-11T02:56:51.394192",
     "exception": false,
     "start_time": "2025-01-11T02:56:51.379173",
     "status": "completed"
    },
    "tags": []
   },
   "outputs": [
    {
     "name": "stdout",
     "output_type": "stream",
     "text": [
      "removed /mnt/Stock_market_data/Processed/._SUCCESS.crc\n",
      "removed /mnt/Stock_market_data/Processed/_SUCCESS\n",
      "removed /mnt/Stock_market_data/Processed/.part-00000-9da4e3c9-fde9-4339-8bd3-ee39884d0da2-c000.csv.crc\n",
      "removed /mnt/Stock_market_data/Processed/part-00000-9da4e3c9-fde9-4339-8bd3-ee39884d0da2-c000.csv\n"
     ]
    }
   ],
   "source": [
    "delete_log = [file for file in files if \"processed.csv\" != file ]\n",
    "for file in delete_log :\n",
    "    os.remove(trgt_path_csv + file)\n",
    "    print(f\"removed {trgt_path_csv + file}\")"
   ]
  },
  {
   "cell_type": "code",
   "execution_count": 24,
   "id": "b7dbbbc3",
   "metadata": {
    "execution": {
     "iopub.execute_input": "2025-01-11T02:56:51.403936Z",
     "iopub.status.busy": "2025-01-11T02:56:51.403777Z",
     "iopub.status.idle": "2025-01-11T02:56:51.457720Z",
     "shell.execute_reply": "2025-01-11T02:56:51.457051Z"
    },
    "papermill": {
     "duration": 0.060403,
     "end_time": "2025-01-11T02:56:51.459299",
     "exception": false,
     "start_time": "2025-01-11T02:56:51.398896",
     "status": "completed"
    },
    "tags": []
   },
   "outputs": [],
   "source": [
    "df_read = spark.read.format('delta').load(trgt_path_processed)"
   ]
  }
 ],
 "metadata": {
  "kernelspec": {
   "display_name": "Python 3 (ipykernel)",
   "language": "python",
   "name": "python3"
  },
  "language_info": {
   "codemirror_mode": {
    "name": "ipython",
    "version": 3
   },
   "file_extension": ".py",
   "mimetype": "text/x-python",
   "name": "python",
   "nbconvert_exporter": "python",
   "pygments_lexer": "ipython3",
   "version": "3.11.6"
  },
  "papermill": {
   "default_parameters": {},
   "duration": 164.181412,
   "end_time": "2025-01-11T02:56:54.096262",
   "environment_variables": {},
   "exception": null,
   "input_path": "/home/jovyan/Notebooks/NB_Fetch_Google_Finance.ipynb",
   "output_path": "/home/jovyan/Notebooks/output/NB_Fetch_Google_Finance.ipynb",
   "parameters": {},
   "start_time": "2025-01-11T02:54:09.914850",
   "version": "2.6.0"
  }
 },
 "nbformat": 4,
 "nbformat_minor": 5
}