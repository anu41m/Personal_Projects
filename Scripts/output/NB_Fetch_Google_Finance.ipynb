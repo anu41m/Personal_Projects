{
 "cells": [
  {
   "cell_type": "code",
   "execution_count": 1,
   "id": "b657a786",
   "metadata": {
    "execution": {
     "iopub.execute_input": "2025-01-06T17:13:57.354349Z",
     "iopub.status.busy": "2025-01-06T17:13:57.354066Z",
     "iopub.status.idle": "2025-01-06T17:14:29.122358Z",
     "shell.execute_reply": "2025-01-06T17:14:29.118918Z"
    },
    "papermill": {
     "duration": 31.840469,
     "end_time": "2025-01-06T17:14:29.149776",
     "exception": false,
     "start_time": "2025-01-06T17:13:57.309307",
     "status": "completed"
    },
    "tags": []
   },
   "outputs": [
    {
     "data": {
      "text/html": [
       "\n",
       "            <div>\n",
       "                <p><b>SparkSession - in-memory</b></p>\n",
       "                \n",
       "        <div>\n",
       "            <p><b>SparkContext</b></p>\n",
       "\n",
       "            <p><a href=\"http://f0854d47819d:4040\">Spark UI</a></p>\n",
       "\n",
       "            <dl>\n",
       "              <dt>Version</dt>\n",
       "                <dd><code>v3.5.0</code></dd>\n",
       "              <dt>Master</dt>\n",
       "                <dd><code>spark://spark-master:7077</code></dd>\n",
       "              <dt>AppName</dt>\n",
       "                <dd><code>MyApp1</code></dd>\n",
       "            </dl>\n",
       "        </div>\n",
       "        \n",
       "            </div>\n",
       "        "
      ],
      "text/plain": [
       "<pyspark.sql.session.SparkSession at 0xffff66b19550>"
      ]
     },
     "execution_count": 1,
     "metadata": {},
     "output_type": "execute_result"
    }
   ],
   "source": [
    "import yfinance as yf\n",
    "import datetime as dt\n",
    "import requests, json, pandas as pd\n",
    "from bs4 import BeautifulSoup\n",
    "from pyspark.sql import *\n",
    "from pyspark.sql.functions import *\n",
    "from pyspark.sql.types import DoubleType\n",
    "import pandas as pd\n",
    "import os\n",
    "import shutil\n",
    "\n",
    "PYSPARK_PYTHON = os.getenv(\"PYSPARK_PYTHON\") \n",
    "PYSPARK_DRIVER_PYTHON = os.getenv(\"PYSPARK_DRIVER_PYTHON\")\n",
    "import pyspark\n",
    "from delta import configure_spark_with_delta_pip, DeltaTable\n",
    "import json\n",
    "\n",
    "# Load the configuration JSON file\n",
    "with open('/usr/local/spark/conf/spark-defaults.json', 'r') as f:\n",
    "    config = json.load(f)\n",
    "\n",
    "# Initialize the Spark session builder\n",
    "builder = pyspark.sql.SparkSession.builder.appName(\"MyApp1\").config(\"spark.sql.extensions\", \"io.delta.sql.DeltaSparkSessionExtension\") \\\n",
    "    .config(\"spark.sql.catalog.spark_catalog\", \"org.apache.spark.sql.delta.catalog.DeltaCatalog\").config(\"spark.pyspark.python\", PYSPARK_PYTHON)\\\n",
    "    .config(\"spark.pyspark.driver.python\", PYSPARK_DRIVER_PYTHON)\n",
    "\n",
    "# Read the packages from the text file\n",
    "packages = []\n",
    "with open('/usr/local/spark/conf/packages.txt', 'r') as file:\n",
    "    # Read each line and strip newlines or extra spaces\n",
    "    packages = [line.strip() for line in file if line.strip()]\n",
    "\n",
    "# # Add packages to the Spark session configuration\n",
    "builder.config(\"spark.jars.packages\", \",\".join(packages))\n",
    "\n",
    "# Apply the configurations from the JSON file to the Spark session\n",
    "for key, value in config.items():\n",
    "    builder.config(key, value)\n",
    "\n",
    "# Configure Spark with Delta Lake (if needed)\n",
    "spark = configure_spark_with_delta_pip(builder).getOrCreate()\n",
    "# Now you can use the Spark session\n",
    "spark"
   ]
  },
  {
   "cell_type": "code",
   "execution_count": 2,
   "id": "58e45228",
   "metadata": {
    "execution": {
     "iopub.execute_input": "2025-01-06T17:14:29.171226Z",
     "iopub.status.busy": "2025-01-06T17:14:29.165931Z",
     "iopub.status.idle": "2025-01-06T17:14:30.953980Z",
     "shell.execute_reply": "2025-01-06T17:14:30.949779Z"
    },
    "papermill": {
     "duration": 1.810588,
     "end_time": "2025-01-06T17:14:30.967762",
     "exception": false,
     "start_time": "2025-01-06T17:14:29.157174",
     "status": "completed"
    },
    "tags": []
   },
   "outputs": [],
   "source": [
    "dfpd=pd.read_csv('/home/jovyan/Notebooks/Config_Stock.csv')\n",
    "dfpath=spark.createDataFrame(dfpd)"
   ]
  },
  {
   "cell_type": "code",
   "execution_count": 3,
   "id": "5c43a6e5",
   "metadata": {
    "execution": {
     "iopub.execute_input": "2025-01-06T17:14:30.991277Z",
     "iopub.status.busy": "2025-01-06T17:14:30.990872Z",
     "iopub.status.idle": "2025-01-06T17:14:37.438356Z",
     "shell.execute_reply": "2025-01-06T17:14:37.435840Z"
    },
    "papermill": {
     "duration": 6.477455,
     "end_time": "2025-01-06T17:14:37.460497",
     "exception": false,
     "start_time": "2025-01-06T17:14:30.983042",
     "status": "completed"
    },
    "tags": []
   },
   "outputs": [],
   "source": [
    "\n",
    "trgt_path_processed = dfpath.filter(col(\"DataFeedName\") == \"Stock_Delta_Path\").select('Path').collect()[0][0]\n",
    "trgt_path_csv = dfpath.filter(col(\"DataFeedName\") == \"Stock_CSV_Path\").select('Path').collect()[0][0]"
   ]
  },
  {
   "cell_type": "code",
   "execution_count": 4,
   "id": "cb50d958",
   "metadata": {
    "execution": {
     "iopub.execute_input": "2025-01-06T17:14:37.478448Z",
     "iopub.status.busy": "2025-01-06T17:14:37.477711Z",
     "iopub.status.idle": "2025-01-06T17:14:37.486892Z",
     "shell.execute_reply": "2025-01-06T17:14:37.485477Z"
    },
    "papermill": {
     "duration": 0.018129,
     "end_time": "2025-01-06T17:14:37.489018",
     "exception": false,
     "start_time": "2025-01-06T17:14:37.470889",
     "status": "completed"
    },
    "tags": []
   },
   "outputs": [],
   "source": [
    "def f_roe(financials_info, balance_sheet):\n",
    "    net_income = financials_info.loc[\"Net Income\"].iloc[0] if \"Net Income\" in financials_info.index else None\n",
    "    # Fetch Shareholders' Equity from balance sheet\n",
    "    total_equity = balance_sheet.loc[\"Stockholders Equity\"].iloc[0] if \"Stockholders Equity\" in balance_sheet.index else None \n",
    "    return (net_income / total_equity) * 100 if type(net_income) == float and type(total_equity) == float else 0.00"
   ]
  },
  {
   "cell_type": "code",
   "execution_count": 5,
   "id": "8bb40760",
   "metadata": {
    "execution": {
     "iopub.execute_input": "2025-01-06T17:14:37.495997Z",
     "iopub.status.busy": "2025-01-06T17:14:37.495795Z",
     "iopub.status.idle": "2025-01-06T17:14:37.504264Z",
     "shell.execute_reply": "2025-01-06T17:14:37.503519Z"
    },
    "papermill": {
     "duration": 0.013718,
     "end_time": "2025-01-06T17:14:37.505808",
     "exception": false,
     "start_time": "2025-01-06T17:14:37.492090",
     "status": "completed"
    },
    "tags": []
   },
   "outputs": [],
   "source": [
    "def f_roce(financials_info, balance_sheet):\n",
    "    ebit = financials_info.loc[\"Operating Income\"].iloc[0] if \"Operating Income\" in financials_info.index else 0\n",
    "\n",
    "    # # Get Total Assets and Current Liabilities from balance sheet\n",
    "    total_assets = balance_sheet.loc[\"Total Assets\"].iloc[0] if \"Total Assets\" in balance_sheet.index else 0\n",
    "    current_liabilities = balance_sheet.loc[\"Current Liabilities\"].iloc[0] if \"Current Liabilities\" in balance_sheet.index else 0\n",
    "\n",
    "    # Calculate Capital Employed\n",
    "    capital_employed = total_assets - current_liabilities\n",
    "\n",
    "    return (ebit / capital_employed) * 100 if capital_employed != 0 else 0"
   ]
  },
  {
   "cell_type": "code",
   "execution_count": 6,
   "id": "f24f08bd",
   "metadata": {
    "execution": {
     "iopub.execute_input": "2025-01-06T17:14:37.512171Z",
     "iopub.status.busy": "2025-01-06T17:14:37.512035Z",
     "iopub.status.idle": "2025-01-06T17:14:37.519988Z",
     "shell.execute_reply": "2025-01-06T17:14:37.519403Z"
    },
    "papermill": {
     "duration": 0.013178,
     "end_time": "2025-01-06T17:14:37.521809",
     "exception": false,
     "start_time": "2025-01-06T17:14:37.508631",
     "status": "completed"
    },
    "tags": []
   },
   "outputs": [],
   "source": [
    "def f_PEG(stock_info):\n",
    "# Calculate PEG ratios\n",
    "    trailing_pe = stock_info.get(\"trailingPE\", None)\n",
    "    forward_pe = stock_info.get(\"forwardPE\", None)\n",
    "    earnings_growth = stock_info.get(\"earningsGrowth\", None)  # Provided as a decimal\n",
    "\n",
    "    if earnings_growth is not None and earnings_growth > 0:\n",
    "        \n",
    "        trailing_peg = trailing_pe / (earnings_growth * 100) if trailing_pe else 0\n",
    "        forward_peg = forward_pe / (earnings_growth * 100) if forward_pe else 0\n",
    "        peg_t= trailing_peg if trailing_peg else \"N/A\"\n",
    "        peg_f=forward_peg if forward_peg else \"N/A\"\n",
    "    else:\n",
    "        peg_f=peg_t=\"N/A\"\n",
    "    return peg_t,peg_f"
   ]
  },
  {
   "cell_type": "code",
   "execution_count": 7,
   "id": "11056faa",
   "metadata": {
    "execution": {
     "iopub.execute_input": "2025-01-06T17:14:37.527947Z",
     "iopub.status.busy": "2025-01-06T17:14:37.527783Z",
     "iopub.status.idle": "2025-01-06T17:14:37.531872Z",
     "shell.execute_reply": "2025-01-06T17:14:37.531530Z"
    },
    "papermill": {
     "duration": 0.008084,
     "end_time": "2025-01-06T17:14:37.532801",
     "exception": false,
     "start_time": "2025-01-06T17:14:37.524717",
     "status": "completed"
    },
    "tags": []
   },
   "outputs": [],
   "source": [
    "def f_debt_to_equity(balance_sheet):\n",
    "    total_liabilities = balance_sheet.loc[\"Total Liabilities Net Minority Interest\"].iloc[0] if \"Total Liabilities Net Minority Interest\" in balance_sheet.index else 0\n",
    "    shareholders_equity = balance_sheet.loc[\"Stockholders Equity\"].iloc[0] if \"Stockholders Equity\" in balance_sheet.index else 0\n",
    "    # Calculate Debt-to-Equity Ratio\n",
    "    if shareholders_equity != 0:  # Avoid division by zero\n",
    "        debt_to_equity_ratio = total_liabilities / shareholders_equity\n",
    "    else:\n",
    "        debt_to_equity_ratio = \"N/A\"\n",
    "    return debt_to_equity_ratio"
   ]
  },
  {
   "cell_type": "code",
   "execution_count": 8,
   "id": "9c438c34",
   "metadata": {
    "execution": {
     "iopub.execute_input": "2025-01-06T17:14:37.538605Z",
     "iopub.status.busy": "2025-01-06T17:14:37.538475Z",
     "iopub.status.idle": "2025-01-06T17:14:37.543031Z",
     "shell.execute_reply": "2025-01-06T17:14:37.542658Z"
    },
    "papermill": {
     "duration": 0.008402,
     "end_time": "2025-01-06T17:14:37.543705",
     "exception": false,
     "start_time": "2025-01-06T17:14:37.535303",
     "status": "completed"
    },
    "tags": []
   },
   "outputs": [],
   "source": [
    "def f_sales_growth(income_statement):\n",
    "    revenue = income_statement.loc[\"Total Revenue\"] if \"Total Revenue\" in income_statement.index else {\"0\":\"NA\"}\n",
    "    revenue = revenue.dropna() if isinstance(revenue, pd.Series) else revenue # Remove any periods with missing data\n",
    "    # Ensure revenue has at least two periods to calculate growth\n",
    "    if len(revenue) > 1:\n",
    "        # Calculate sales growth between the latest two periods\n",
    "        latest_growth = ((revenue.iloc[0] - revenue.iloc[1]) / revenue.iloc[1]) * 100 if revenue.iloc[1] != 0 else 0\n",
    "        latest_period = revenue.index[0].strftime(\"%Y-%m-%d\")\n",
    "    else:\n",
    "        # Handle cases where there isn't enough data\n",
    "        latest_growth=0\n",
    "        latest_period=0\n",
    "    return latest_growth,latest_period"
   ]
  },
  {
   "cell_type": "code",
   "execution_count": 9,
   "id": "48b092e4",
   "metadata": {
    "execution": {
     "iopub.execute_input": "2025-01-06T17:14:37.549669Z",
     "iopub.status.busy": "2025-01-06T17:14:37.549532Z",
     "iopub.status.idle": "2025-01-06T17:14:37.554032Z",
     "shell.execute_reply": "2025-01-06T17:14:37.553478Z"
    },
    "papermill": {
     "duration": 0.008489,
     "end_time": "2025-01-06T17:14:37.554817",
     "exception": false,
     "start_time": "2025-01-06T17:14:37.546328",
     "status": "completed"
    },
    "tags": []
   },
   "outputs": [],
   "source": [
    "def f_MA(historical_data):\n",
    "    # Calculate 50-day and 200-day moving averages\n",
    "    if not historical_data.empty:\n",
    "        historical_data[\"MA50\"] = historical_data[\"Close\"].rolling(window=50).mean()\n",
    "        historical_data[\"MA200\"] = historical_data[\"Close\"].rolling(window=200).mean()\n",
    "        # Return the latest MA50 and MA200\n",
    "        latest_data = historical_data.iloc[-1]\n",
    "        ma50=latest_data[\"MA50\"] if latest_data[\"MA50\"] else 0\n",
    "        ma200=latest_data[\"MA200\"] if latest_data[\"MA200\"] else 0\n",
    "    else:\n",
    "        # Return the latest MA50 and MA200\n",
    "        latest_data = 0\n",
    "        ma50=0\n",
    "        ma200=0\n",
    "    return ma50, ma200"
   ]
  },
  {
   "cell_type": "code",
   "execution_count": 10,
   "id": "08cfd16d",
   "metadata": {
    "execution": {
     "iopub.execute_input": "2025-01-06T17:14:37.560756Z",
     "iopub.status.busy": "2025-01-06T17:14:37.560592Z",
     "iopub.status.idle": "2025-01-06T17:14:37.569450Z",
     "shell.execute_reply": "2025-01-06T17:14:37.568558Z"
    },
    "papermill": {
     "duration": 0.014246,
     "end_time": "2025-01-06T17:14:37.571692",
     "exception": false,
     "start_time": "2025-01-06T17:14:37.557446",
     "status": "completed"
    },
    "tags": []
   },
   "outputs": [],
   "source": [
    "def f_stock_data(l_tickers):\n",
    "    ticker_data = []\n",
    "    headers=[\"Ticker\",\"Sector\",\"Industry\",\"52_week_high\",\"ROE\",\"ROCE\",\"Trailing_PEG\",\"Forward_PEG\",\"Debt_to_Equity\",\"Latest_Finanacial_Year\",\"Sales_Growth\",\"MA50\",\"MA200\"]\n",
    "    for t in l_tickers:\n",
    "        ticker = yf.Ticker(t + ('.BO' if t.isdigit() else '.NS'))\n",
    "        stock_info = ticker.info\n",
    "        balance_sheet = ticker.balance_sheet\n",
    "        financials_info=ticker.financials\n",
    "        income_statement=ticker.income_stmt\n",
    "        historical_data = ticker.history(period=\"ytd\")\n",
    "        v_roe=f_roe(financials_info, balance_sheet)\n",
    "        v_roce=f_roce(financials_info, balance_sheet)\n",
    "        v_peg_t,v_peg_f=f_PEG(stock_info)\n",
    "        v_debt_to_equity=f_debt_to_equity(balance_sheet)\n",
    "        v_sales_growth,v_latest_period=f_sales_growth(income_statement)\n",
    "        v_ma50,v_ma200=f_MA(historical_data)\n",
    "        ticker_data.append([t, stock_info.get(\"sector\", \"N/A\"), stock_info.get(\"industry\", \"N/A\"), stock_info.get(\"fiftyTwoWeekHigh\", None),v_roe,v_roce,v_peg_t,v_peg_f,v_debt_to_equity,v_latest_period,v_sales_growth,v_ma50,v_ma200])\n",
    "    df_retun = pd.DataFrame(ticker_data, columns=headers)\n",
    "    return(df_retun)"
   ]
  },
  {
   "cell_type": "code",
   "execution_count": 11,
   "id": "ee90d349",
   "metadata": {
    "execution": {
     "iopub.execute_input": "2025-01-06T17:14:37.582148Z",
     "iopub.status.busy": "2025-01-06T17:14:37.581806Z",
     "iopub.status.idle": "2025-01-06T17:14:40.324079Z",
     "shell.execute_reply": "2025-01-06T17:14:40.322751Z"
    },
    "papermill": {
     "duration": 2.752923,
     "end_time": "2025-01-06T17:14:40.329145",
     "exception": false,
     "start_time": "2025-01-06T17:14:37.576222",
     "status": "completed"
    },
    "tags": []
   },
   "outputs": [],
   "source": [
    "# URL to scrape\n",
    "url_link=[\"https://www.google.com/finance/markets/gainers\",\"https://www.google.com/finance/markets/losers\"]\n",
    "rows = []\n",
    "headers=[\"Ticker\",\"Stock_Name\",\"CMP\",\"Change\",\"Change_Percentage\"]\n",
    "for url in url_link:\n",
    "    response = requests.get(url)\n",
    "    if response.status_code == 200:\n",
    "        soup = BeautifulSoup(response.text, 'html.parser')\n",
    "        # Find the parent container\n",
    "        parent_container = soup.find('ul', class_='sbnBtf')\n",
    "        if parent_container:\n",
    "            # Find all stock entries within the parent container\n",
    "            stock_entries = parent_container.find_all('li')\n",
    "            for stock in stock_entries:\n",
    "                # Extract relevant details for each stock\n",
    "                stock_ticker = stock.find('div', class_='COaKTb').text if stock.find('div', class_='COaKTb') else \"N/A\"\n",
    "                stock_name = stock.find('div', class_='ZvmM7').text if stock.find('div', class_='ZvmM7') else \"N/A\"\n",
    "                stock_price = stock.find('div', class_='YMlKec').text if stock.find('div', class_='YMlKec') else \"N/A\"\n",
    "                stock_change = stock.find('div', class_='BAftM').text if stock.find('div', class_='BAftM') else \"N/A\"\n",
    "                stock_percent = stock.find('div', class_='zWwE1').text if stock.find('div', class_='zWwE1') else \"N/A\"\n",
    "                # Add extracted data to the list\n",
    "                rows.append([stock_ticker,stock_name,stock_price,stock_change,stock_percent])\n",
    "    \n",
    "    # Convert to JSON string with readable characters\n",
    "df_pd_today = pd.DataFrame(rows, columns=headers)\n"
   ]
  },
  {
   "cell_type": "code",
   "execution_count": 12,
   "id": "b8e34be3",
   "metadata": {
    "execution": {
     "iopub.execute_input": "2025-01-06T17:14:40.342241Z",
     "iopub.status.busy": "2025-01-06T17:14:40.341986Z",
     "iopub.status.idle": "2025-01-06T17:14:40.355383Z",
     "shell.execute_reply": "2025-01-06T17:14:40.354567Z"
    },
    "papermill": {
     "duration": 0.019462,
     "end_time": "2025-01-06T17:14:40.356798",
     "exception": false,
     "start_time": "2025-01-06T17:14:40.337336",
     "status": "completed"
    },
    "tags": []
   },
   "outputs": [
    {
     "name": "stdout",
     "output_type": "stream",
     "text": [
      "['ITI', 'BTML', 'INNOVANA', 'THYROCARE', 'ASMS', 'BALAXI', 'SECURKLOUD', 'USK', 'NURECA', 'PTCIL', 'MANCREDIT', 'AVONMORE', 'KIOCL', 'MAHESHWARI', 'CINEVISTA', 'ZOTA', 'ASTEC', 'VASWANI', 'PRAXIS', 'DGCONTENT', 'RBZJEWEL', 'AARTECH', 'VARDMNPOLY', 'PIGL', 'VISASTEEL', 'SUNFLAG', 'ARSSINFRA', 'CCCL', 'BOHRAIND', 'COFFEEDAY', 'SETCO', 'MTEDUCARE', 'KAMOPAINTS', 'OMKARCHEM', 'PREMIER', 'ROLTA', 'BGLOBAL', 'JTLIND', 'AEGISLOG', 'FCONSUMER', 'BCG', 'FSC', 'INDOTHAI', 'MARSHALL', 'CREST', 'FILATFASH', 'EQUITASBNK', 'QUINTEGRA', 'CCHHL', 'GLOBE', 'SPCENET', 'SIKKO-RE', 'AVON-RE', 'JAICORPLTD', 'CORALFINAC', 'SHANTI', 'BAJAJHCARE', 'SIYSIL', 'KARMAENG', 'UNITEDTEA', 'ASHOKA', 'SADBHIN', 'DELTAMAGNT', 'PRAENG', 'SINCLAIR', 'VIDHIING', 'UMAEXPORTS', 'BIOFILCHEM', 'VAKRANGEE', 'PREMEXPLN', 'JINDALPHOT', 'VINEETLAB', 'EMBDL', 'HIMATSEIDE', 'STEL', 'IXIGO', 'STARTECK', 'YATRA', 'STYLEBAAZA', 'SHIVAMAUTO', 'UNIONBANK', 'ITDC', 'SURYAROSNI', 'MONARCH', 'SWANENERGY', 'RIIL', 'PDMJEPAPER', 'GINNIFILA', 'PURVA', 'KELLTONTEC', 'NECCLTD', 'HEG', 'UNIDT', 'KAMATHOTEL', 'AGRITECH', 'PENINLAND', 'ECOSMOBLTY', 'LORDSCHLO', 'FAIRCHEMOR', 'SIL']\n"
     ]
    }
   ],
   "source": [
    "# Extract unique tickers as a Python list\n",
    "l_tickers = df_pd_today[\"Ticker\"].unique().tolist()\n",
    "# Print the result\n",
    "print(l_tickers)"
   ]
  },
  {
   "cell_type": "code",
   "execution_count": 13,
   "id": "c4ab689a",
   "metadata": {
    "execution": {
     "iopub.execute_input": "2025-01-06T17:14:40.364091Z",
     "iopub.status.busy": "2025-01-06T17:14:40.363948Z",
     "iopub.status.idle": "2025-01-06T17:14:40.366953Z",
     "shell.execute_reply": "2025-01-06T17:14:40.366515Z"
    },
    "papermill": {
     "duration": 0.007648,
     "end_time": "2025-01-06T17:14:40.367873",
     "exception": false,
     "start_time": "2025-01-06T17:14:40.360225",
     "status": "completed"
    },
    "tags": []
   },
   "outputs": [],
   "source": [
    "# t=(\"750940\")\n",
    "# ticker = yf.Ticker(t + \".BO\" if t.isdigit() else t + \".NS\")\n",
    "# stock_info = ticker.info\n",
    "# balance_sheet = ticker.balance_sheet\n",
    "# financials_info=ticker.financials\n",
    "# income_statement=ticker.income_stmt\n",
    "# revenue = income_statement.loc[\"Total Revenue\"] if \"Total Revenue\" in income_statement.index else {\"0\":\"NA\"}\n",
    "# revenue = revenue.dropna() if isinstance(revenue, pd.Series) else revenue # Remove any periods with missing data\n",
    "# # Ensure revenue has at least two periods to calculate growth\n",
    "# if len(revenue) > 1:\n",
    "#     # Calculate sales growth between the latest two periods\n",
    "#     latest_growth = ((revenue.iloc[0] - revenue.iloc[1]) / revenue.iloc[1]) * 100 if revenue.iloc[1] != 0 else 0\n",
    "#     latest_period = revenue.index[0].strftime(\"%Y-%m-%d\")\n",
    "# else:\n",
    "#     # Handle cases where there isn't enough data\n",
    "#     latest_growth=0.0\n",
    "#     latest_period=0.0\n",
    "# print(len(revenue))\n",
    "# print(latest_growth,latest_period)"
   ]
  },
  {
   "cell_type": "code",
   "execution_count": 14,
   "id": "4f5fb902",
   "metadata": {
    "execution": {
     "iopub.execute_input": "2025-01-06T17:14:40.374710Z",
     "iopub.status.busy": "2025-01-06T17:14:40.374549Z",
     "iopub.status.idle": "2025-01-06T17:15:57.569062Z",
     "shell.execute_reply": "2025-01-06T17:15:57.564903Z"
    },
    "papermill": {
     "duration": 77.214869,
     "end_time": "2025-01-06T17:15:57.585668",
     "exception": false,
     "start_time": "2025-01-06T17:14:40.370799",
     "status": "completed"
    },
    "tags": []
   },
   "outputs": [
    {
     "name": "stderr",
     "output_type": "stream",
     "text": [
      "SIKKO-RE.NS: Period 'ytd' is invalid, must be one of ['1d', '5d']\n"
     ]
    },
    {
     "name": "stderr",
     "output_type": "stream",
     "text": [
      "$AVON-RE.NS: possibly delisted; no price data found  (period=ytd)\n"
     ]
    }
   ],
   "source": [
    "df_stock_data=f_stock_data(l_tickers)\n"
   ]
  },
  {
   "cell_type": "code",
   "execution_count": 15,
   "id": "1cd9b46b",
   "metadata": {
    "execution": {
     "iopub.execute_input": "2025-01-06T17:15:57.609805Z",
     "iopub.status.busy": "2025-01-06T17:15:57.609406Z",
     "iopub.status.idle": "2025-01-06T17:15:57.752318Z",
     "shell.execute_reply": "2025-01-06T17:15:57.751496Z"
    },
    "papermill": {
     "duration": 0.152643,
     "end_time": "2025-01-06T17:15:57.753794",
     "exception": false,
     "start_time": "2025-01-06T17:15:57.601151",
     "status": "completed"
    },
    "tags": []
   },
   "outputs": [],
   "source": [
    "df_custom=df_pd_today.merge(df_stock_data, on='Ticker',how='left')\n",
    "reorder_colms=[\"Ticker\",\"Stock_Name\",\"Sector\",\"Industry\",\"CMP\",\"Change\",\"Change_Percentage\"]+[col for col in df_custom.columns if col not in [\"Ticker\",\"Stock_Name\",\"Sector\",\"Industry\",\"CMP\",\"Change\",\"Change_Percentage\"]]\n",
    "df_spark=spark.createDataFrame(df_custom[reorder_colms])"
   ]
  },
  {
   "cell_type": "code",
   "execution_count": 16,
   "id": "fe22719c",
   "metadata": {
    "execution": {
     "iopub.execute_input": "2025-01-06T17:15:57.762599Z",
     "iopub.status.busy": "2025-01-06T17:15:57.762426Z",
     "iopub.status.idle": "2025-01-06T17:15:58.100750Z",
     "shell.execute_reply": "2025-01-06T17:15:58.097721Z"
    },
    "papermill": {
     "duration": 0.350233,
     "end_time": "2025-01-06T17:15:58.108350",
     "exception": false,
     "start_time": "2025-01-06T17:15:57.758117",
     "status": "completed"
    },
    "tags": []
   },
   "outputs": [],
   "source": [
    "df_master = df_spark.filter(\n",
    "                            (col(\"ROE\") >= 15) &\n",
    "                            (col(\"ROCE\") >= 15) &\n",
    "                            (col(\"Debt_to_Equity\") <= 1) &\n",
    "                            (col(\"MA50\") >= col(\"MA200\"))\n",
    "                            ).withColumn(\"ROE\",coalesce(round(col(\"ROE\"), 2),lit(0))) \\\n",
    "                            .withColumn(\"ROCE\", coalesce(round(col(\"ROCE\"), 2),lit(0))) \\\n",
    "                            .withColumn(\"Trailing_PEG\", coalesce(round(col(\"Trailing_PEG\"), 2),lit(0))) \\\n",
    "                            .withColumn(\"Forward_PEG\", coalesce(round(col(\"Forward_PEG\"), 2),lit(0))) \\\n",
    "                            .withColumn(\"Debt_to_Equity\", coalesce(round(col(\"Debt_to_Equity\"), 2),lit(0))) \\\n",
    "                            .withColumn(\"Sales_Growth\", coalesce(round(col(\"Sales_Growth\"), 2), lit(0))) \\\n",
    "                            .withColumn(\"MA50\", coalesce(round(col(\"MA50\"), 2), lit(0))) \\\n",
    "                            .withColumn(\"MA200\", coalesce(round(col(\"MA200\"), 2), lit(0))) \\\n",
    "                            .withColumn(\n",
    "                                \"Gainer_Looser\",\n",
    "                                when(\n",
    "                                    regexp_replace(col(\"Change\"), \"₹\", \"\").cast(\"float\") < 0.0, \"L\"\n",
    "                                ).otherwise(\"G\")\n",
    "                            ).withColumn('WatchOutFlag', lit(0))"
   ]
  },
  {
   "cell_type": "code",
   "execution_count": 17,
   "id": "a546ecbf",
   "metadata": {
    "execution": {
     "iopub.execute_input": "2025-01-06T17:15:58.129722Z",
     "iopub.status.busy": "2025-01-06T17:15:58.129086Z",
     "iopub.status.idle": "2025-01-06T17:16:01.451609Z",
     "shell.execute_reply": "2025-01-06T17:16:01.449820Z"
    },
    "papermill": {
     "duration": 3.335798,
     "end_time": "2025-01-06T17:16:01.456135",
     "exception": false,
     "start_time": "2025-01-06T17:15:58.120337",
     "status": "completed"
    },
    "tags": []
   },
   "outputs": [],
   "source": [
    "if DeltaTable.isDeltaTable(spark, trgt_path_processed):\n",
    "    df_read=spark.read.format('delta').load(trgt_path_processed)\n",
    "    df_repeat=df_master.join(\n",
    "        df_read.select(\"Ticker\",\"UpdateTimestamp\"), on='Ticker', how='inner')\\\n",
    "            .withColumn('RunTimeStamp',current_timestamp())\\\n",
    "            .withColumn(\"WatchOutFlag\", when(\n",
    "                col('RunTimeStamp') > date_add(col(\"UpdateTimestamp\"), 1), (col('WatchOutFlag') + 1)).otherwise(col('WatchOutFlag'))) \\\n",
    "            .withColumn(\"UpdateTimestamp\",  when(\n",
    "                        col('RunTimeStamp') > date_add(col(\"UpdateTimestamp\"), 1),\n",
    "                        to_timestamp(date_format(current_date(), format=\"yyyy-MM-dd 10:30:00\"))).otherwise(col('UpdateTimestamp')))\\\n",
    "            .drop('RunTimeStamp')\n",
    "    df_output=df_master\\\n",
    "        .drop('WatchOutFlag')\\\n",
    "        .join(df_repeat.select('Ticker','WatchOutFlag',\"UpdateTimestamp\"), on='Ticker',how='left') \\\n",
    "        .withColumn('WatchOutFlag', coalesce(col(\"WatchOutFlag\"), lit(0)).cast(\"int\"))\n",
    "        \n",
    "else:\n",
    "    df_output=df_master.withColumn('WatchOutFlag',lit(0))\\\n",
    "                .withColumn('UpdateTimestamp', date_format(current_timestamp(), format=\"yyyy-MM-dd 10:30:00\").cast('timestamp'))\n",
    "df_output.withColumn(\"PKSK\", xxhash64(col(\"Ticker\")).cast(\"string\"))\\\n",
    "        .withColumn(\"RowSK\", xxhash64(concat_ws(\"|\", *[col(c) for c in df_output.columns])))\\\n",
    "        .createOrReplaceTempView('vw_source')"
   ]
  },
  {
   "cell_type": "code",
   "execution_count": 18,
   "id": "e6039500",
   "metadata": {
    "execution": {
     "iopub.execute_input": "2025-01-06T17:16:01.472749Z",
     "iopub.status.busy": "2025-01-06T17:16:01.472509Z",
     "iopub.status.idle": "2025-01-06T17:16:52.847223Z",
     "shell.execute_reply": "2025-01-06T17:16:52.842888Z"
    },
    "papermill": {
     "duration": 51.423474,
     "end_time": "2025-01-06T17:16:52.890542",
     "exception": false,
     "start_time": "2025-01-06T17:16:01.467068",
     "status": "completed"
    },
    "tags": []
   },
   "outputs": [
    {
     "name": "stdout",
     "output_type": "stream",
     "text": [
      "MERGE INTO delta.`/mnt/Stock_market_data/Processed_Parquet/` AS target \n",
      "            USING vw_source AS source \n",
      "            ON target.PKSK = source.PKSK \n",
      "            AND target.RowSK <> source.RowSK \n",
      "            WHEN MATCHED THEN UPDATE SET target.Ticker = source.Ticker, target.Stock_Name = source.Stock_Name, target.Sector = source.Sector, target.Industry = source.Industry, target.CMP = source.CMP, target.Change = source.Change, target.Change_Percentage = source.Change_Percentage, target.52_week_high = source.52_week_high, target.ROE = source.ROE, target.ROCE = source.ROCE, target.Trailing_PEG = source.Trailing_PEG, target.Forward_PEG = source.Forward_PEG, target.Debt_to_Equity = source.Debt_to_Equity, target.Latest_Finanacial_Year = source.Latest_Finanacial_Year, target.Sales_Growth = source.Sales_Growth, target.MA50 = source.MA50, target.MA200 = source.MA200, target.Gainer_Looser = source.Gainer_Looser, target.WatchOutFlag = source.WatchOutFlag, target.UpdateTimestamp = source.UpdateTimestamp\n",
      "            WHEN NOT MATCHED THEN INSERT (Ticker,Stock_Name,Sector,Industry,CMP,Change,Change_Percentage,52_week_high,ROE,ROCE,Trailing_PEG,Forward_PEG,Debt_to_Equity,Latest_Finanacial_Year,Sales_Growth,MA50,MA200,Gainer_Looser,WatchOutFlag,UpdateTimestamp) VALUES (source.Ticker,source.Stock_Name,source.Sector,source.Industry,source.CMP,source.Change,source.Change_Percentage,source.52_week_high,source.ROE,source.ROCE,source.Trailing_PEG,source.Forward_PEG,source.Debt_to_Equity,source.Latest_Finanacial_Year,source.Sales_Growth,source.MA50,source.MA200,source.Gainer_Looser,source.WatchOutFlag,source.UpdateTimestamp)\n"
     ]
    }
   ],
   "source": [
    "if DeltaTable.isDeltaTable(spark, trgt_path_processed):\n",
    "    column_name = df_output.columns\n",
    "    set_clause = \", \".join([f\"target.{i} = source.{i}\" for i in column_name])\n",
    "    insert_clause=\",\".join(column_name)\n",
    "    insert_values=\",\".join([f\"source.{i}\" for i in column_name])\n",
    "    query = f\"\"\"MERGE INTO delta.`{trgt_path_processed}` AS target \n",
    "            USING vw_source AS source \n",
    "            ON target.PKSK = source.PKSK \n",
    "            AND target.RowSK <> source.RowSK \n",
    "            WHEN MATCHED THEN UPDATE SET {set_clause}\n",
    "            WHEN NOT MATCHED THEN INSERT ({insert_clause}) VALUES ({insert_values})\"\"\"\n",
    "    spark.sql(query)        \n",
    "else :\n",
    "    query=f\"CREATE TABLE delta.`{trgt_path_processed}` USING DELTA AS SELECT * FROM vw_source\"\n",
    "    spark.sql(query)\n",
    "\n",
    "print(query)"
   ]
  },
  {
   "cell_type": "code",
   "execution_count": 19,
   "id": "0bc61027",
   "metadata": {
    "execution": {
     "iopub.execute_input": "2025-01-06T17:16:52.925890Z",
     "iopub.status.busy": "2025-01-06T17:16:52.925342Z",
     "iopub.status.idle": "2025-01-06T17:16:53.044094Z",
     "shell.execute_reply": "2025-01-06T17:16:53.043044Z"
    },
    "papermill": {
     "duration": 0.143682,
     "end_time": "2025-01-06T17:16:53.047003",
     "exception": false,
     "start_time": "2025-01-06T17:16:52.903321",
     "status": "completed"
    },
    "tags": []
   },
   "outputs": [],
   "source": [
    "df_read=spark.read.format('delta').load(trgt_path_processed)"
   ]
  },
  {
   "cell_type": "code",
   "execution_count": 20,
   "id": "d5090ee7",
   "metadata": {
    "execution": {
     "iopub.execute_input": "2025-01-06T17:16:53.064209Z",
     "iopub.status.busy": "2025-01-06T17:16:53.064005Z",
     "iopub.status.idle": "2025-01-06T17:16:58.117241Z",
     "shell.execute_reply": "2025-01-06T17:16:58.111562Z"
    },
    "papermill": {
     "duration": 5.087313,
     "end_time": "2025-01-06T17:16:58.142267",
     "exception": false,
     "start_time": "2025-01-06T17:16:53.054954",
     "status": "completed"
    },
    "tags": []
   },
   "outputs": [],
   "source": [
    "# Save the DataFrame to a CSV file\n",
    "spark.read.format(\"delta\").load(trgt_path_processed)\\\n",
    "    .coalesce(1).write.format(\"csv\").option(\"header\",\"true\").mode(\"overwrite\").save(trgt_path_csv)"
   ]
  },
  {
   "cell_type": "code",
   "execution_count": 21,
   "id": "15f03a61",
   "metadata": {
    "execution": {
     "iopub.execute_input": "2025-01-06T17:16:58.177025Z",
     "iopub.status.busy": "2025-01-06T17:16:58.176613Z",
     "iopub.status.idle": "2025-01-06T17:16:58.210284Z",
     "shell.execute_reply": "2025-01-06T17:16:58.208593Z"
    },
    "papermill": {
     "duration": 0.047514,
     "end_time": "2025-01-06T17:16:58.215293",
     "exception": false,
     "start_time": "2025-01-06T17:16:58.167779",
     "status": "completed"
    },
    "tags": []
   },
   "outputs": [
    {
     "name": "stdout",
     "output_type": "stream",
     "text": [
      "['part-00000-eb853d6f-4ece-44bf-8989-f4b0a7ddcecd-c000.csv']\n"
     ]
    },
    {
     "data": {
      "text/plain": [
       "'/mnt/Stock_market_data/Processed/processed.csv'"
      ]
     },
     "execution_count": 21,
     "metadata": {},
     "output_type": "execute_result"
    }
   ],
   "source": [
    "trgt_copy_path = trgt_path_csv + \"processed.csv\"\n",
    "files=os.listdir(trgt_path_csv)\n",
    "selected_files = [file for file in files if file.startswith('part-00') and file.endswith('.csv')]\n",
    "file=trgt_path_csv + selected_files[0]\n",
    "print(selected_files)\n",
    "shutil.copy(file, trgt_copy_path)"
   ]
  },
  {
   "cell_type": "code",
   "execution_count": 22,
   "id": "70ad0d14",
   "metadata": {
    "execution": {
     "iopub.execute_input": "2025-01-06T17:16:58.230506Z",
     "iopub.status.busy": "2025-01-06T17:16:58.230278Z",
     "iopub.status.idle": "2025-01-06T17:16:58.236386Z",
     "shell.execute_reply": "2025-01-06T17:16:58.235538Z"
    },
    "papermill": {
     "duration": 0.016697,
     "end_time": "2025-01-06T17:16:58.237891",
     "exception": false,
     "start_time": "2025-01-06T17:16:58.221194",
     "status": "completed"
    },
    "tags": []
   },
   "outputs": [
    {
     "name": "stdout",
     "output_type": "stream",
     "text": [
      "removed /mnt/Stock_market_data/Processed/._SUCCESS.crc\n",
      "removed /mnt/Stock_market_data/Processed/_SUCCESS\n",
      "removed /mnt/Stock_market_data/Processed/.part-00000-eb853d6f-4ece-44bf-8989-f4b0a7ddcecd-c000.csv.crc\n",
      "removed /mnt/Stock_market_data/Processed/part-00000-eb853d6f-4ece-44bf-8989-f4b0a7ddcecd-c000.csv\n"
     ]
    }
   ],
   "source": [
    "delete_log = [file for file in files if \"processed.csv\" != file ]\n",
    "for file in delete_log :\n",
    "    os.remove(trgt_path_csv + file)\n",
    "    print(f\"removed {trgt_path_csv + file}\")"
   ]
  },
  {
   "cell_type": "code",
   "execution_count": null,
   "id": "cca3d7f9",
   "metadata": {
    "papermill": {
     "duration": 0.005254,
     "end_time": "2025-01-06T17:16:58.248940",
     "exception": false,
     "start_time": "2025-01-06T17:16:58.243686",
     "status": "completed"
    },
    "tags": []
   },
   "outputs": [],
   "source": []
  }
 ],
 "metadata": {
  "kernelspec": {
   "display_name": "Python 3 (ipykernel)",
   "language": "python",
   "name": "python3"
  },
  "language_info": {
   "codemirror_mode": {
    "name": "ipython",
    "version": 3
   },
   "file_extension": ".py",
   "mimetype": "text/x-python",
   "name": "python",
   "nbconvert_exporter": "python",
   "pygments_lexer": "ipython3",
   "version": "3.11.6"
  },
  "papermill": {
   "default_parameters": {},
   "duration": 188.02138,
   "end_time": "2025-01-06T17:17:00.895929",
   "environment_variables": {},
   "exception": null,
   "input_path": "/home/jovyan/Notebooks/NB_Fetch_Google_Finance.ipynb",
   "output_path": "/home/jovyan/Notebooks/output/NB_Fetch_Google_Finance.ipynb",
   "parameters": {},
   "start_time": "2025-01-06T17:13:52.874549",
   "version": "2.6.0"
  }
 },
 "nbformat": 4,
 "nbformat_minor": 5
}