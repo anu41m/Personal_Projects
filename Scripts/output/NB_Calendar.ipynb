{
 "cells": [
  {
   "cell_type": "markdown",
   "id": "9b233f97",
   "metadata": {
    "tags": [
     "papermill-error-cell-tag"
    ]
   },
   "source": [
    "<span style=\"color:red; font-family:Helvetica Neue, Helvetica, Arial, sans-serif; font-size:2em;\">An Exception was encountered at '<a href=\"#papermill-error-cell\">In [14]</a>'.</span>"
   ]
  },
  {
   "cell_type": "code",
   "execution_count": 1,
   "id": "30f95565",
   "metadata": {
    "execution": {
     "iopub.execute_input": "2024-12-24T18:08:17.158907Z",
     "iopub.status.busy": "2024-12-24T18:08:17.158352Z",
     "iopub.status.idle": "2024-12-24T18:08:18.080707Z",
     "shell.execute_reply": "2024-12-24T18:08:18.076166Z"
    },
    "papermill": {
     "duration": 0.983044,
     "end_time": "2024-12-24T18:08:18.095148",
     "exception": false,
     "start_time": "2024-12-24T18:08:17.112104",
     "status": "completed"
    },
    "tags": []
   },
   "outputs": [],
   "source": [
    "from pyspark.sql import *\n",
    "from pyspark.sql.functions import *\n",
    "import pandas as pd\n",
    "import os\n",
    "import sys\n",
    "\n",
    "PYSPARK_PYTHON = os.getenv(\"PYSPARK_PYTHON\") \n",
    "PYSPARK_DRIVER_PYTHON = os.getenv(\"PYSPARK_DRIVER_PYTHON\")"
   ]
  },
  {
   "cell_type": "code",
   "execution_count": 2,
   "id": "46a40b9d",
   "metadata": {
    "execution": {
     "iopub.execute_input": "2024-12-24T18:08:18.122989Z",
     "iopub.status.busy": "2024-12-24T18:08:18.122549Z",
     "iopub.status.idle": "2024-12-24T18:08:18.136080Z",
     "shell.execute_reply": "2024-12-24T18:08:18.135457Z"
    },
    "papermill": {
     "duration": 0.028222,
     "end_time": "2024-12-24T18:08:18.138778",
     "exception": false,
     "start_time": "2024-12-24T18:08:18.110556",
     "status": "completed"
    },
    "tags": []
   },
   "outputs": [],
   "source": [
    "import pyspark\n",
    "from delta import configure_spark_with_delta_pip, DeltaTable\n",
    "import json\n",
    "\n",
    "# Load the configuration JSON file\n",
    "with open('/usr/local/spark/conf/spark-defaults.json', 'r') as f:\n",
    "    config = json.load(f)\n",
    "\n",
    "# Initialize the Spark session builder\n",
    "builder = pyspark.sql.SparkSession.builder.appName(\"MyApp1\").config(\"spark.sql.extensions\", \"io.delta.sql.DeltaSparkSessionExtension\") \\\n",
    "    .config(\"spark.sql.catalog.spark_catalog\", \"org.apache.spark.sql.delta.catalog.DeltaCatalog\").config(\"spark.pyspark.python\", PYSPARK_PYTHON)\\\n",
    "    .config(\"spark.pyspark.driver.python\", PYSPARK_DRIVER_PYTHON)\n",
    "\n",
    "# Read the packages from the text file\n",
    "packages = []\n",
    "with open('/usr/local/spark/conf/packages.txt', 'r') as file:\n",
    "    # Read each line and strip newlines or extra spaces\n",
    "    packages = [line.strip() for line in file if line.strip()]\n",
    "\n",
    "# # Add packages to the Spark session configuration\n",
    "builder.config(\"spark.jars.packages\", \",\".join(packages))\n",
    "\n",
    "# Apply the configurations from the JSON file to the Spark session\n",
    "for key, value in config.items():\n",
    "    builder.config(key, value)"
   ]
  },
  {
   "cell_type": "code",
   "execution_count": 3,
   "id": "93d07687",
   "metadata": {
    "execution": {
     "iopub.execute_input": "2024-12-24T18:08:18.187326Z",
     "iopub.status.busy": "2024-12-24T18:08:18.186918Z",
     "iopub.status.idle": "2024-12-24T18:08:38.850491Z",
     "shell.execute_reply": "2024-12-24T18:08:38.846937Z"
    },
    "papermill": {
     "duration": 20.712581,
     "end_time": "2024-12-24T18:08:38.857423",
     "exception": false,
     "start_time": "2024-12-24T18:08:18.144842",
     "status": "completed"
    },
    "tags": []
   },
   "outputs": [
    {
     "data": {
      "text/html": [
       "\n",
       "            <div>\n",
       "                <p><b>SparkSession - in-memory</b></p>\n",
       "                \n",
       "        <div>\n",
       "            <p><b>SparkContext</b></p>\n",
       "\n",
       "            <p><a href=\"http://f2d84612879f:4040\">Spark UI</a></p>\n",
       "\n",
       "            <dl>\n",
       "              <dt>Version</dt>\n",
       "                <dd><code>v3.5.0</code></dd>\n",
       "              <dt>Master</dt>\n",
       "                <dd><code>spark://spark-master:7077</code></dd>\n",
       "              <dt>AppName</dt>\n",
       "                <dd><code>MyApp1</code></dd>\n",
       "            </dl>\n",
       "        </div>\n",
       "        \n",
       "            </div>\n",
       "        "
      ],
      "text/plain": [
       "<pyspark.sql.session.SparkSession at 0xffff5c32c5d0>"
      ]
     },
     "execution_count": 3,
     "metadata": {},
     "output_type": "execute_result"
    }
   ],
   "source": [
    "\n",
    "# Configure Spark with Delta Lake (if needed)\n",
    "spark = configure_spark_with_delta_pip(builder).getOrCreate()\n",
    "# Now you can use the Spark session\n",
    "spark"
   ]
  },
  {
   "cell_type": "code",
   "execution_count": 4,
   "id": "d39bd6cb",
   "metadata": {
    "execution": {
     "iopub.execute_input": "2024-12-24T18:08:38.893293Z",
     "iopub.status.busy": "2024-12-24T18:08:38.892944Z",
     "iopub.status.idle": "2024-12-24T18:08:38.899975Z",
     "shell.execute_reply": "2024-12-24T18:08:38.898671Z"
    },
    "papermill": {
     "duration": 0.027376,
     "end_time": "2024-12-24T18:08:38.901915",
     "exception": false,
     "start_time": "2024-12-24T18:08:38.874539",
     "status": "completed"
    },
    "tags": []
   },
   "outputs": [],
   "source": [
    "trgt_path_processed = \"/mnt/Calendar/Calendar_Parquet/\"\n",
    "trgt_path_csv = \"/mnt/Calendar/Calendar_Processed/\""
   ]
  },
  {
   "cell_type": "code",
   "execution_count": 5,
   "id": "7929629e",
   "metadata": {
    "execution": {
     "iopub.execute_input": "2024-12-24T18:08:38.917615Z",
     "iopub.status.busy": "2024-12-24T18:08:38.917082Z",
     "iopub.status.idle": "2024-12-24T18:08:38.924923Z",
     "shell.execute_reply": "2024-12-24T18:08:38.923469Z"
    },
    "papermill": {
     "duration": 0.016646,
     "end_time": "2024-12-24T18:08:38.926512",
     "exception": false,
     "start_time": "2024-12-24T18:08:38.909866",
     "status": "completed"
    },
    "tags": []
   },
   "outputs": [],
   "source": [
    "# Create a DataFrame with date range\n",
    "start_date = \"2000-01-01\"\n",
    "end_date = \"2050-12-31\""
   ]
  },
  {
   "cell_type": "code",
   "execution_count": 6,
   "id": "46c24b71",
   "metadata": {
    "execution": {
     "iopub.execute_input": "2024-12-24T18:08:38.933261Z",
     "iopub.status.busy": "2024-12-24T18:08:38.933086Z",
     "iopub.status.idle": "2024-12-24T18:08:40.481505Z",
     "shell.execute_reply": "2024-12-24T18:08:40.478724Z"
    },
    "papermill": {
     "duration": 1.564838,
     "end_time": "2024-12-24T18:08:40.494313",
     "exception": false,
     "start_time": "2024-12-24T18:08:38.929475",
     "status": "completed"
    },
    "tags": []
   },
   "outputs": [],
   "source": [
    "# Create a DataFrame with a single row containing the start and end date\n",
    "date_range_df = spark.createDataFrame([(start_date, end_date)], [\"start_date\", \"end_date\"])\n",
    "\n",
    "# Generate date sequence\n",
    "date_sequence_df = date_range_df.select(\n",
    "    sequence(\n",
    "        to_date(date_range_df.start_date).alias(\"start_date\"),\n",
    "        to_date(date_range_df.end_date).alias(\"end_date\")\n",
    "    ).alias(\"date\")\n",
    ")"
   ]
  },
  {
   "cell_type": "code",
   "execution_count": 7,
   "id": "6ada57e6",
   "metadata": {
    "execution": {
     "iopub.execute_input": "2024-12-24T18:08:40.510987Z",
     "iopub.status.busy": "2024-12-24T18:08:40.510733Z",
     "iopub.status.idle": "2024-12-24T18:08:40.634390Z",
     "shell.execute_reply": "2024-12-24T18:08:40.632521Z"
    },
    "papermill": {
     "duration": 0.134052,
     "end_time": "2024-12-24T18:08:40.638465",
     "exception": false,
     "start_time": "2024-12-24T18:08:40.504413",
     "status": "completed"
    },
    "tags": []
   },
   "outputs": [],
   "source": [
    "# Explode the sequence into separate rows\n",
    "df_date = date_sequence_df.selectExpr(\"explode(date) as date\")"
   ]
  },
  {
   "cell_type": "code",
   "execution_count": 8,
   "id": "bd575d92",
   "metadata": {
    "execution": {
     "iopub.execute_input": "2024-12-24T18:08:40.649503Z",
     "iopub.status.busy": "2024-12-24T18:08:40.649204Z",
     "iopub.status.idle": "2024-12-24T18:08:40.876062Z",
     "shell.execute_reply": "2024-12-24T18:08:40.874489Z"
    },
    "papermill": {
     "duration": 0.235155,
     "end_time": "2024-12-24T18:08:40.879088",
     "exception": false,
     "start_time": "2024-12-24T18:08:40.643933",
     "status": "completed"
    },
    "tags": []
   },
   "outputs": [],
   "source": [
    "df_output = df_date.withColumn(\"DateSK\", regexp_replace(\"date\", \"-\", \"\")).withColumn(\"Year\", year(\"date\"))\\\n",
    "    .withColumn(\"Month\",date_format(\"date\",\"MMMM\")).withColumn(\"Quarter\",concat(year(\"date\"), lit(\" Q\"), quarter(\"date\")))"
   ]
  },
  {
   "cell_type": "code",
   "execution_count": 9,
   "id": "e349c374",
   "metadata": {
    "execution": {
     "iopub.execute_input": "2024-12-24T18:08:40.894475Z",
     "iopub.status.busy": "2024-12-24T18:08:40.894192Z",
     "iopub.status.idle": "2024-12-24T18:08:46.188950Z",
     "shell.execute_reply": "2024-12-24T18:08:46.185672Z"
    },
    "papermill": {
     "duration": 5.308072,
     "end_time": "2024-12-24T18:08:46.195566",
     "exception": false,
     "start_time": "2024-12-24T18:08:40.887494",
     "status": "completed"
    },
    "tags": []
   },
   "outputs": [
    {
     "name": "stdout",
     "output_type": "stream",
     "text": [
      "18628\n"
     ]
    }
   ],
   "source": [
    "print(df_output.count())"
   ]
  },
  {
   "cell_type": "code",
   "execution_count": 10,
   "id": "73636be1",
   "metadata": {
    "execution": {
     "iopub.execute_input": "2024-12-24T18:08:46.213614Z",
     "iopub.status.busy": "2024-12-24T18:08:46.213126Z",
     "iopub.status.idle": "2024-12-24T18:08:46.260163Z",
     "shell.execute_reply": "2024-12-24T18:08:46.259570Z"
    },
    "papermill": {
     "duration": 0.059971,
     "end_time": "2024-12-24T18:08:46.262097",
     "exception": false,
     "start_time": "2024-12-24T18:08:46.202126",
     "status": "completed"
    },
    "tags": []
   },
   "outputs": [],
   "source": [
    "df_output.createOrReplaceTempView(\"vw_source\")"
   ]
  },
  {
   "cell_type": "code",
   "execution_count": 11,
   "id": "7b052567",
   "metadata": {
    "execution": {
     "iopub.execute_input": "2024-12-24T18:08:46.269963Z",
     "iopub.status.busy": "2024-12-24T18:08:46.269772Z",
     "iopub.status.idle": "2024-12-24T18:09:16.123583Z",
     "shell.execute_reply": "2024-12-24T18:09:16.113400Z"
    },
    "papermill": {
     "duration": 29.868817,
     "end_time": "2024-12-24T18:09:16.134629",
     "exception": false,
     "start_time": "2024-12-24T18:08:46.265812",
     "status": "completed"
    },
    "tags": []
   },
   "outputs": [
    {
     "name": "stdout",
     "output_type": "stream",
     "text": [
      "MERGE INTO delta.`/mnt/Calendar/Calendar_Parquet/` AS target USING vw_source AS source ON target.DateSK = source.DateSK WHEN MATCHED THEN UPDATE SET target.date = source.date, target.DateSK = source.DateSK, target.Year = source.Year, target.Month = source.Month, target.Quarter = source.Quarter\n"
     ]
    },
    {
     "data": {
      "text/plain": [
       "DataFrame[num_affected_rows: bigint, num_updated_rows: bigint, num_deleted_rows: bigint, num_inserted_rows: bigint]"
      ]
     },
     "execution_count": 11,
     "metadata": {},
     "output_type": "execute_result"
    }
   ],
   "source": [
    "if DeltaTable.isDeltaTable(spark, trgt_path_processed):\n",
    "    column_name = df_output.columns\n",
    "    set_clause = \", \".join([f\"target.{i} = source.{i}\" for i in column_name])\n",
    "    query = f\"\"\"MERGE INTO delta.`{trgt_path_processed}` AS target USING vw_source AS source ON target.DateSK = source.DateSK WHEN MATCHED THEN UPDATE SET {set_clause}\"\"\"\n",
    "else:\n",
    "    query=f\"\"\"CREATE TABLE delta.`{trgt_path_processed}` USING DELTA AS SELECT * FROM vw_source\"\"\"\n",
    "print(query)\n",
    "spark.sql(query)"
   ]
  },
  {
   "cell_type": "code",
   "execution_count": 12,
   "id": "0e09bd9f",
   "metadata": {
    "execution": {
     "iopub.execute_input": "2024-12-24T18:09:16.198642Z",
     "iopub.status.busy": "2024-12-24T18:09:16.193851Z",
     "iopub.status.idle": "2024-12-24T18:09:18.556438Z",
     "shell.execute_reply": "2024-12-24T18:09:18.547722Z"
    },
    "papermill": {
     "duration": 2.408535,
     "end_time": "2024-12-24T18:09:18.572946",
     "exception": false,
     "start_time": "2024-12-24T18:09:16.164411",
     "status": "completed"
    },
    "tags": []
   },
   "outputs": [],
   "source": [
    "# Save the DataFrame to a CSV file\n",
    "spark.read.format(\"delta\").load(trgt_path_processed) \\\n",
    "    .coalesce(1) \\\n",
    "    .write.format(\"csv\") \\\n",
    "    .option(\"header\", \"true\") \\\n",
    "    .mode(\"overwrite\") \\\n",
    "    .save(trgt_path_csv)"
   ]
  },
  {
   "cell_type": "code",
   "execution_count": 13,
   "id": "252d1e55",
   "metadata": {
    "execution": {
     "iopub.execute_input": "2024-12-24T18:09:18.621400Z",
     "iopub.status.busy": "2024-12-24T18:09:18.620582Z",
     "iopub.status.idle": "2024-12-24T18:09:18.639352Z",
     "shell.execute_reply": "2024-12-24T18:09:18.635027Z"
    },
    "papermill": {
     "duration": 0.044465,
     "end_time": "2024-12-24T18:09:18.643084",
     "exception": false,
     "start_time": "2024-12-24T18:09:18.598619",
     "status": "completed"
    },
    "tags": []
   },
   "outputs": [],
   "source": [
    "trgt_copy_path = \"/mnt/Calendar/Calendar_Processed/calendar.csv\""
   ]
  },
  {
   "cell_type": "markdown",
   "id": "5dfe07a2",
   "metadata": {
    "tags": [
     "papermill-error-cell-tag"
    ]
   },
   "source": [
    "<span id=\"papermill-error-cell\" style=\"color:red; font-family:Helvetica Neue, Helvetica, Arial, sans-serif; font-size:2em;\">Execution using papermill encountered an exception here and stopped:</span>"
   ]
  },
  {
   "cell_type": "code",
   "execution_count": 14,
   "id": "1116a273",
   "metadata": {
    "execution": {
     "iopub.execute_input": "2024-12-24T18:09:18.667461Z",
     "iopub.status.busy": "2024-12-24T18:09:18.667072Z",
     "iopub.status.idle": "2024-12-24T18:09:19.193951Z",
     "shell.execute_reply": "2024-12-24T18:09:19.192956Z"
    },
    "papermill": {
     "duration": 0.545128,
     "end_time": "2024-12-24T18:09:19.196107",
     "exception": true,
     "start_time": "2024-12-24T18:09:18.650979",
     "status": "failed"
    },
    "tags": []
   },
   "outputs": [
    {
     "ename": "IsADirectoryError",
     "evalue": "[Errno 21] Is a directory: '/mnt/Calendar/Calendar_Parquet/'",
     "output_type": "error",
     "traceback": [
      "\u001b[0;31m---------------------------------------------------------------------------\u001b[0m",
      "\u001b[0;31mIsADirectoryError\u001b[0m                         Traceback (most recent call last)",
      "Cell \u001b[0;32mIn[14], line 2\u001b[0m\n\u001b[1;32m      1\u001b[0m \u001b[38;5;28;01mimport\u001b[39;00m \u001b[38;5;21;01mshutil\u001b[39;00m\n\u001b[0;32m----> 2\u001b[0m \u001b[43mshutil\u001b[49m\u001b[38;5;241;43m.\u001b[39;49m\u001b[43mcopy\u001b[49m\u001b[43m(\u001b[49m\u001b[43mtrgt_path_processed\u001b[49m\u001b[43m,\u001b[49m\u001b[43m \u001b[49m\u001b[43mtrgt_copy_path\u001b[49m\u001b[43m)\u001b[49m\n",
      "File \u001b[0;32m/opt/conda/lib/python3.11/shutil.py:419\u001b[0m, in \u001b[0;36mcopy\u001b[0;34m(src, dst, follow_symlinks)\u001b[0m\n\u001b[1;32m    417\u001b[0m \u001b[38;5;28;01mif\u001b[39;00m os\u001b[38;5;241m.\u001b[39mpath\u001b[38;5;241m.\u001b[39misdir(dst):\n\u001b[1;32m    418\u001b[0m     dst \u001b[38;5;241m=\u001b[39m os\u001b[38;5;241m.\u001b[39mpath\u001b[38;5;241m.\u001b[39mjoin(dst, os\u001b[38;5;241m.\u001b[39mpath\u001b[38;5;241m.\u001b[39mbasename(src))\n\u001b[0;32m--> 419\u001b[0m \u001b[43mcopyfile\u001b[49m\u001b[43m(\u001b[49m\u001b[43msrc\u001b[49m\u001b[43m,\u001b[49m\u001b[43m \u001b[49m\u001b[43mdst\u001b[49m\u001b[43m,\u001b[49m\u001b[43m \u001b[49m\u001b[43mfollow_symlinks\u001b[49m\u001b[38;5;241;43m=\u001b[39;49m\u001b[43mfollow_symlinks\u001b[49m\u001b[43m)\u001b[49m\n\u001b[1;32m    420\u001b[0m copymode(src, dst, follow_symlinks\u001b[38;5;241m=\u001b[39mfollow_symlinks)\n\u001b[1;32m    421\u001b[0m \u001b[38;5;28;01mreturn\u001b[39;00m dst\n",
      "File \u001b[0;32m/opt/conda/lib/python3.11/shutil.py:256\u001b[0m, in \u001b[0;36mcopyfile\u001b[0;34m(src, dst, follow_symlinks)\u001b[0m\n\u001b[1;32m    254\u001b[0m     os\u001b[38;5;241m.\u001b[39msymlink(os\u001b[38;5;241m.\u001b[39mreadlink(src), dst)\n\u001b[1;32m    255\u001b[0m \u001b[38;5;28;01melse\u001b[39;00m:\n\u001b[0;32m--> 256\u001b[0m     \u001b[38;5;28;01mwith\u001b[39;00m \u001b[38;5;28;43mopen\u001b[39;49m\u001b[43m(\u001b[49m\u001b[43msrc\u001b[49m\u001b[43m,\u001b[49m\u001b[43m \u001b[49m\u001b[38;5;124;43m'\u001b[39;49m\u001b[38;5;124;43mrb\u001b[39;49m\u001b[38;5;124;43m'\u001b[39;49m\u001b[43m)\u001b[49m \u001b[38;5;28;01mas\u001b[39;00m fsrc:\n\u001b[1;32m    257\u001b[0m         \u001b[38;5;28;01mtry\u001b[39;00m:\n\u001b[1;32m    258\u001b[0m             \u001b[38;5;28;01mwith\u001b[39;00m \u001b[38;5;28mopen\u001b[39m(dst, \u001b[38;5;124m'\u001b[39m\u001b[38;5;124mwb\u001b[39m\u001b[38;5;124m'\u001b[39m) \u001b[38;5;28;01mas\u001b[39;00m fdst:\n\u001b[1;32m    259\u001b[0m                 \u001b[38;5;66;03m# macOS\u001b[39;00m\n",
      "\u001b[0;31mIsADirectoryError\u001b[0m: [Errno 21] Is a directory: '/mnt/Calendar/Calendar_Parquet/'"
     ]
    }
   ],
   "source": [
    "import shutil\n",
    "shutil.copy(trgt_path_processed, trgt_copy_path)"
   ]
  },
  {
   "cell_type": "code",
   "execution_count": null,
   "id": "79049303",
   "metadata": {
    "papermill": {
     "duration": null,
     "end_time": null,
     "exception": null,
     "start_time": null,
     "status": "pending"
    },
    "tags": []
   },
   "outputs": [],
   "source": [
    "# spark.conf.set(\"spark.databricks.delta.retentionDurationCheck.enabled\", False)\n",
    "# # Create DeltaTable object\n",
    "# delta_table = DeltaTable.forPath(spark, trgt_path_processed)\n",
    "\n",
    "# # Vacuum the table\n",
    "# delta_table.vacuum(0)  # Retain 0 hours to clean up all unreferenced files"
   ]
  },
  {
   "cell_type": "code",
   "execution_count": null,
   "id": "ee6297b8",
   "metadata": {
    "papermill": {
     "duration": null,
     "end_time": null,
     "exception": null,
     "start_time": null,
     "status": "pending"
    },
    "tags": []
   },
   "outputs": [],
   "source": [
    "spark.stop()"
   ]
  }
 ],
 "metadata": {
  "kernelspec": {
   "display_name": "Python 3 (ipykernel)",
   "language": "python",
   "name": "python3"
  },
  "language_info": {
   "codemirror_mode": {
    "name": "ipython",
    "version": 3
   },
   "file_extension": ".py",
   "mimetype": "text/x-python",
   "name": "python",
   "nbconvert_exporter": "python",
   "pygments_lexer": "ipython3",
   "version": "3.11.6"
  },
  "papermill": {
   "default_parameters": {},
   "duration": 66.738425,
   "end_time": "2024-12-24T18:09:21.829410",
   "environment_variables": {},
   "exception": true,
   "input_path": "/home/jovyan/Notebooks/NB_Calendar.ipynb",
   "output_path": "/home/jovyan/Notebooks/output/NB_Calendar.ipynb",
   "parameters": {},
   "start_time": "2024-12-24T18:08:15.090985",
   "version": "2.6.0"
  }
 },
 "nbformat": 4,
 "nbformat_minor": 5
}