{
 "cells": [
  {
   "cell_type": "code",
   "execution_count": null,
   "id": "b657a786",
   "metadata": {},
   "outputs": [],
   "source": [
    "import yfinance as yf\n",
    "import datetime as dt\n",
    "import requests, json, pandas as pd\n",
    "from bs4 import BeautifulSoup\n",
    "from pyspark.sql import *\n",
    "from pyspark.sql.functions import *\n",
    "from pyspark.sql.types import DoubleType\n",
    "import pandas as pd\n",
    "import os\n",
    "import shutil\n",
    "\n",
    "PYSPARK_PYTHON = os.getenv(\"PYSPARK_PYTHON\") \n",
    "PYSPARK_DRIVER_PYTHON = os.getenv(\"PYSPARK_DRIVER_PYTHON\")\n",
    "import pyspark\n",
    "from delta import configure_spark_with_delta_pip, DeltaTable\n",
    "import json\n",
    "\n",
    "# Load the configuration JSON file\n",
    "with open('/usr/local/spark/conf/spark-defaults.json', 'r') as f:\n",
    "    config = json.load(f)\n",
    "\n",
    "# Initialize the Spark session builder\n",
    "builder = pyspark.sql.SparkSession.builder.appName(\"MyApp1\").config(\"spark.sql.extensions\", \"io.delta.sql.DeltaSparkSessionExtension\") \\\n",
    "    .config(\"spark.sql.catalog.spark_catalog\", \"org.apache.spark.sql.delta.catalog.DeltaCatalog\").config(\"spark.pyspark.python\", PYSPARK_PYTHON)\\\n",
    "    .config(\"spark.pyspark.driver.python\", PYSPARK_DRIVER_PYTHON)\n",
    "\n",
    "# Read the packages from the text file\n",
    "packages = []\n",
    "with open('/usr/local/spark/conf/packages.txt', 'r') as file:\n",
    "    # Read each line and strip newlines or extra spaces\n",
    "    packages = [line.strip() for line in file if line.strip()]\n",
    "\n",
    "# # Add packages to the Spark session configuration\n",
    "builder.config(\"spark.jars.packages\", \",\".join(packages))\n",
    "\n",
    "# Apply the configurations from the JSON file to the Spark session\n",
    "for key, value in config.items():\n",
    "    builder.config(key, value)\n",
    "\n",
    "# Configure Spark with Delta Lake (if needed)\n",
    "spark = configure_spark_with_delta_pip(builder).getOrCreate()\n",
    "# Now you can use the Spark session\n",
    "spark"
   ]
  },
  {
   "cell_type": "code",
   "execution_count": 57,
   "id": "cb50d958",
   "metadata": {},
   "outputs": [],
   "source": [
    "def f_roe(financials_info, balance_sheet):\n",
    "    net_income = financials_info.loc[\"Net Income\"].iloc[0] if \"Net Income\" in financials_info.index else None\n",
    "    # Fetch Shareholders' Equity from balance sheet\n",
    "    total_equity = balance_sheet.loc[\"Stockholders Equity\"].iloc[0] if \"Stockholders Equity\" in balance_sheet.index else None \n",
    "    return (net_income / total_equity) * 100 if type(net_income) == float and type(total_equity) == float else 0.00"
   ]
  },
  {
   "cell_type": "code",
   "execution_count": 58,
   "id": "8bb40760",
   "metadata": {},
   "outputs": [],
   "source": [
    "def f_roce(financials_info, balance_sheet):\n",
    "    ebit = financials_info.loc[\"Operating Income\"].iloc[0] if \"Operating Income\" in financials_info.index else 0\n",
    "\n",
    "    # # Get Total Assets and Current Liabilities from balance sheet\n",
    "    total_assets = balance_sheet.loc[\"Total Assets\"].iloc[0] if \"Total Assets\" in balance_sheet.index else 0\n",
    "    current_liabilities = balance_sheet.loc[\"Current Liabilities\"].iloc[0] if \"Current Liabilities\" in balance_sheet.index else 0\n",
    "\n",
    "    # Calculate Capital Employed\n",
    "    capital_employed = total_assets - current_liabilities\n",
    "\n",
    "    return (ebit / capital_employed) * 100 if capital_employed != 0 else 0"
   ]
  },
  {
   "cell_type": "code",
   "execution_count": 59,
   "id": "f24f08bd",
   "metadata": {},
   "outputs": [],
   "source": [
    "def f_PEG(stock_info):\n",
    "# Calculate PEG ratios\n",
    "    trailing_pe = stock_info.get(\"trailingPE\", None)\n",
    "    forward_pe = stock_info.get(\"forwardPE\", None)\n",
    "    earnings_growth = stock_info.get(\"earningsGrowth\", None)  # Provided as a decimal\n",
    "\n",
    "    if earnings_growth is not None and earnings_growth > 0:\n",
    "        \n",
    "        trailing_peg = trailing_pe / (earnings_growth * 100) if trailing_pe else 0\n",
    "        forward_peg = forward_pe / (earnings_growth * 100) if forward_pe else 0\n",
    "        peg_t= trailing_peg if trailing_peg else \"N/A\"\n",
    "        peg_f=forward_peg if forward_peg else \"N/A\"\n",
    "    else:\n",
    "        peg_f=peg_t=\"N/A\"\n",
    "    return peg_t,peg_f"
   ]
  },
  {
   "cell_type": "code",
   "execution_count": 60,
   "id": "11056faa",
   "metadata": {},
   "outputs": [],
   "source": [
    "def f_debt_to_equity(balance_sheet):\n",
    "    total_liabilities = balance_sheet.loc[\"Total Liabilities Net Minority Interest\"].iloc[0] if \"Total Liabilities Net Minority Interest\" in balance_sheet.index else 0\n",
    "    shareholders_equity = balance_sheet.loc[\"Stockholders Equity\"].iloc[0] if \"Stockholders Equity\" in balance_sheet.index else 0\n",
    "    # Calculate Debt-to-Equity Ratio\n",
    "    if shareholders_equity != 0:  # Avoid division by zero\n",
    "        debt_to_equity_ratio = total_liabilities / shareholders_equity\n",
    "    else:\n",
    "        debt_to_equity_ratio = \"N/A\"\n",
    "    return debt_to_equity_ratio"
   ]
  },
  {
   "cell_type": "code",
   "execution_count": 61,
   "id": "9c438c34",
   "metadata": {},
   "outputs": [],
   "source": [
    "def f_sales_growth(income_statement):\n",
    "    revenue = income_statement.loc[\"Total Revenue\"] if \"Total Revenue\" in income_statement.index else {\"0\":\"NA\"}\n",
    "    revenue = revenue.dropna() if isinstance(revenue, pd.Series) else revenue # Remove any periods with missing data\n",
    "    # Ensure revenue has at least two periods to calculate growth\n",
    "    if len(revenue) > 1:\n",
    "        # Calculate sales growth between the latest two periods\n",
    "        latest_growth = ((revenue.iloc[0] - revenue.iloc[1]) / revenue.iloc[1]) * 100 if revenue.iloc[1] != 0 else 0\n",
    "        latest_period = revenue.index[0].strftime(\"%Y-%m-%d\")\n",
    "    else:\n",
    "        # Handle cases where there isn't enough data\n",
    "        latest_growth=0\n",
    "        latest_period=0\n",
    "    return latest_growth,latest_period"
   ]
  },
  {
   "cell_type": "code",
   "execution_count": 62,
   "id": "48b092e4",
   "metadata": {},
   "outputs": [],
   "source": [
    "def f_MA(historical_data):\n",
    "    # Calculate 50-day and 200-day moving averages\n",
    "    if not historical_data.empty:\n",
    "        historical_data[\"MA50\"] = historical_data[\"Close\"].rolling(window=50).mean()\n",
    "        historical_data[\"MA200\"] = historical_data[\"Close\"].rolling(window=200).mean()\n",
    "        # Return the latest MA50 and MA200\n",
    "        latest_data = historical_data.iloc[-1]\n",
    "        ma50=latest_data[\"MA50\"] if latest_data[\"MA50\"] else 0\n",
    "        ma200=latest_data[\"MA200\"] if latest_data[\"MA200\"] else 0\n",
    "    else:\n",
    "        # Return the latest MA50 and MA200\n",
    "        latest_data = 0\n",
    "        ma50=0\n",
    "        ma200=0\n",
    "    return ma50, ma200"
   ]
  },
  {
   "cell_type": "code",
   "execution_count": 63,
   "id": "08cfd16d",
   "metadata": {},
   "outputs": [],
   "source": [
    "def f_stock_data(l_tickers):\n",
    "    ticker_data = []\n",
    "    headers=[\"Ticker\",\"Sector\",\"Industry\",\"52-week_high\",\"ROE\",\"ROCE\",\"Trailing_PEG\",\"Forward_PEG\",\"Debt-to-Equity\",\"Latest_Finanacial_Year\",\"Sales_Growth\",\"MA50\",\"MA200\"]\n",
    "    for t in l_tickers:\n",
    "        ticker = yf.Ticker(t + ('.BO' if t.isdigit() else '.NS'))\n",
    "        stock_info = ticker.info\n",
    "        balance_sheet = ticker.balance_sheet\n",
    "        financials_info=ticker.financials\n",
    "        income_statement=ticker.income_stmt\n",
    "        historical_data = ticker.history(period=\"ytd\")\n",
    "        v_roe=f_roe(financials_info, balance_sheet)\n",
    "        v_roce=f_roce(financials_info, balance_sheet)\n",
    "        v_peg_t,v_peg_f=f_PEG(stock_info)\n",
    "        v_debt_to_equity=f_debt_to_equity(balance_sheet)\n",
    "        v_sales_growth,v_latest_period=f_sales_growth(income_statement)\n",
    "        v_ma50,v_ma200=f_MA(historical_data)\n",
    "        ticker_data.append([t, stock_info.get(\"sector\", \"N/A\"), stock_info.get(\"industry\", \"N/A\"), stock_info.get(\"fiftyTwoWeekHigh\", None),v_roe,v_roce,v_peg_t,v_peg_f,v_debt_to_equity,v_latest_period,v_sales_growth,v_ma50,v_ma200])\n",
    "    df_retun = pd.DataFrame(ticker_data, columns=headers)\n",
    "    return(df_retun)"
   ]
  },
  {
   "cell_type": "code",
   "execution_count": 64,
   "id": "ee90d349",
   "metadata": {},
   "outputs": [],
   "source": [
    "# URL to scrape\n",
    "url_link=[\"https://www.google.com/finance/markets/gainers\",\"https://www.google.com/finance/markets/losers\"]\n",
    "rows = []\n",
    "headers=[\"Ticker\",\"Stock_Name\",\"CMP\",\"Change\",\"Change_%\"]\n",
    "for url in url_link:\n",
    "    response = requests.get(url)\n",
    "    if response.status_code == 200:\n",
    "        soup = BeautifulSoup(response.text, 'html.parser')\n",
    "        # Find the parent container\n",
    "        parent_container = soup.find('ul', class_='sbnBtf')\n",
    "        if parent_container:\n",
    "            # Find all stock entries within the parent container\n",
    "            stock_entries = parent_container.find_all('li')\n",
    "            for stock in stock_entries:\n",
    "                # Extract relevant details for each stock\n",
    "                stock_ticker = stock.find('div', class_='COaKTb').text if stock.find('div', class_='COaKTb') else \"N/A\"\n",
    "                stock_name = stock.find('div', class_='ZvmM7').text if stock.find('div', class_='ZvmM7') else \"N/A\"\n",
    "                stock_price = stock.find('div', class_='YMlKec').text if stock.find('div', class_='YMlKec') else \"N/A\"\n",
    "                stock_change = stock.find('div', class_='BAftM').text if stock.find('div', class_='BAftM') else \"N/A\"\n",
    "                stock_percent = stock.find('div', class_='zWwE1').text if stock.find('div', class_='zWwE1') else \"N/A\"\n",
    "                # Add extracted data to the list\n",
    "                rows.append([stock_ticker,stock_name,stock_price,stock_change,stock_percent])\n",
    "    \n",
    "    # Convert to JSON string with readable characters\n",
    "df_pd_today = pd.DataFrame(rows, columns=headers)\n"
   ]
  },
  {
   "cell_type": "code",
   "execution_count": null,
   "id": "b8e34be3",
   "metadata": {},
   "outputs": [],
   "source": [
    "# Extract unique tickers as a Python list\n",
    "l_tickers = df_pd_today[\"Ticker\"].unique().tolist()\n",
    "# Print the result\n",
    "print(l_tickers)"
   ]
  },
  {
   "cell_type": "code",
   "execution_count": 66,
   "id": "c4ab689a",
   "metadata": {},
   "outputs": [],
   "source": [
    "# t=(\"750940\")\n",
    "# ticker = yf.Ticker(t + \".BO\" if t.isdigit() else t + \".NS\")\n",
    "# stock_info = ticker.info\n",
    "# balance_sheet = ticker.balance_sheet\n",
    "# financials_info=ticker.financials\n",
    "# income_statement=ticker.income_stmt\n",
    "# revenue = income_statement.loc[\"Total Revenue\"] if \"Total Revenue\" in income_statement.index else {\"0\":\"NA\"}\n",
    "# revenue = revenue.dropna() if isinstance(revenue, pd.Series) else revenue # Remove any periods with missing data\n",
    "# # Ensure revenue has at least two periods to calculate growth\n",
    "# if len(revenue) > 1:\n",
    "#     # Calculate sales growth between the latest two periods\n",
    "#     latest_growth = ((revenue.iloc[0] - revenue.iloc[1]) / revenue.iloc[1]) * 100 if revenue.iloc[1] != 0 else 0\n",
    "#     latest_period = revenue.index[0].strftime(\"%Y-%m-%d\")\n",
    "# else:\n",
    "#     # Handle cases where there isn't enough data\n",
    "#     latest_growth=0.0\n",
    "#     latest_period=0.0\n",
    "# print(len(revenue))\n",
    "# print(latest_growth,latest_period)"
   ]
  },
  {
   "cell_type": "code",
   "execution_count": null,
   "id": "4f5fb902",
   "metadata": {},
   "outputs": [],
   "source": [
    "df_stock_data=f_stock_data(l_tickers)\n"
   ]
  },
  {
   "cell_type": "code",
   "execution_count": 73,
   "id": "1cd9b46b",
   "metadata": {},
   "outputs": [],
   "source": [
    "df_custom=df_pd_today.merge(df_stock_data, on='Ticker',how='left')\n",
    "reorder_colms=[\"Ticker\",\"Stock_Name\",\"Sector\",\"Industry\",\"CMP\",\"Change\",\"Change_%\"]+[col for col in df_custom.columns if col not in [\"Ticker\",\"Stock_Name\",\"Sector\",\"Industry\",\"CMP\",\"Change\",\"Change_%\"]]\n",
    "df_spark=spark.createDataFrame(df_custom[reorder_colms])"
   ]
  },
  {
   "cell_type": "code",
   "execution_count": 74,
   "id": "fe22719c",
   "metadata": {},
   "outputs": [],
   "source": [
    "df_master = df_spark.filter(\n",
    "                            (col(\"ROE\") >= 15) &\n",
    "                            (col(\"ROCE\") >= 15) &\n",
    "                            (col(\"Debt-to-Equity\") <= 1) &\n",
    "                            (col(\"MA50\") >= col(\"MA200\"))\n",
    "                            ).withColumn(\"ROE\", round(col(\"ROE\"), 2)) \\\n",
    "                            .withColumn(\"ROCE\", round(col(\"ROCE\"), 2)) \\\n",
    "                            .withColumn(\"Trailing_PEG\", round(col(\"Trailing_PEG\"), 2)) \\\n",
    "                            .withColumn(\"Forward_PEG\", round(col(\"Forward_PEG\"), 2)) \\\n",
    "                            .withColumn(\"Debt-to-Equity\", round(col(\"Debt-to-Equity\"), 2)) \\\n",
    "                            .withColumn(\"Sales_Growth\", round(col(\"Sales_Growth\"), 2)) \\\n",
    "                            .withColumn(\"MA50\", round(col(\"MA50\"), 2)) \\\n",
    "                            .withColumn(\"MA200\", round(col(\"MA200\"), 2)) \\\n",
    "                            .withColumn(\n",
    "                                \"Gainer/Looser\",\n",
    "                                when(\n",
    "                                    regexp_replace(col(\"Change\"), \"₹\", \"\").cast(\"float\") < 0.0, \"L\"\n",
    "                                ).otherwise(\"G\")\n",
    "                            )"
   ]
  },
  {
   "cell_type": "code",
   "execution_count": 133,
   "id": "d424c4b7",
   "metadata": {},
   "outputs": [],
   "source": [
    "df_test = df_master.withColumn(\"UpdatedRunTimeStamp\", current_timestamp()) \\\n",
    "    .withColumn(\"LastUpdatedTimeStamp\", lit(\"2025-01-02 10:30:00\"))\\\n",
    "    .withColumn(\n",
    "        \"LastUpdatedTimeStamp\",\n",
    "        when(\n",
    "            col(\"UpdatedRunTimeStamp\") > date_format(date_add(col(\"LastUpdatedTimeStamp\"), 1), format=\"yyyy-MM-dd 10:30:00\"),\n",
    "            to_timestamp(date_format(current_date(), format=\"yyyy-MM-dd 10:30:00\"))\n",
    "        ).otherwise(col(\"LastUpdatedTimeStamp\"))\n",
    "    )"
   ]
  },
  {
   "cell_type": "code",
   "execution_count": 90,
   "id": "b3678fe1",
   "metadata": {},
   "outputs": [
    {
     "name": "stdout",
     "output_type": "stream",
     "text": [
      "+----------+--------------------+--------------------+--------------------+---------+--------+--------+------------+-----+-----+------------+-----------+--------------+----------------------+------------+----+-----+-------------+----------------+\n",
      "|    Ticker|          Stock_Name|              Sector|            Industry|      CMP|  Change|Change_%|52-week_high|  ROE| ROCE|Trailing_PEG|Forward_PEG|Debt-to-Equity|Latest_Finanacial_Year|Sales_Growth|MA50|MA200|Gainer/Looser|UpdatedTimeStamp|\n",
      "+----------+--------------------+--------------------+--------------------+---------+--------+--------+------------+-----+-----+------------+-----------+--------------+----------------------+------------+----+-----+-------------+----------------+\n",
      "|      ITDC|India Tourism Dev...|   Consumer Cyclical|             Lodging|  ₹706.80| +₹78.05|  12.41%|       930.8|18.08|23.67|        NULL|       NULL|          1.77|            2024-03-31|       15.45| NaN|  NaN|            G|     2025-Jan-03|\n",
      "|     DEVIT|Dev Information T...|          Technology|Information Techn...|  ₹184.20| +₹19.13|  11.59%|       191.0|16.75|19.37|        NULL|       NULL|          0.67|            2024-03-31|       31.56| NaN|  NaN|            G|     2025-Jan-03|\n",
      "|LLOYDSENGG|Lloyds Engineerin...|         Industrials|Specialty Industr...|   ₹85.00|  +₹8.27|  10.78%|        93.4|19.42|22.52|        2.41|       NULL|          0.39|            2024-03-31|      100.31| NaN|  NaN|            G|     2025-Jan-03|\n",
      "|    GLOBAL|Global Education Ltd|  Consumer Defensive|Education & Train...|   ₹79.20|  +₹5.51|   7.48%|      153.08|38.02|44.13|        NULL|       NULL|           0.1|            2024-03-31|       19.89| NaN|  NaN|            G|     2025-Jan-03|\n",
      "|MANGCHEFER|Mangalore Chemica...|     Basic Materials| Agricultural Inputs|  ₹174.00| +₹11.64|   7.17%|       179.9|16.48|24.44|        NULL|       NULL|          1.59|            2024-03-31|        4.21| NaN|  NaN|            G|     2025-Jan-03|\n",
      "|ORIENTTECH|Orient Technologi...|          Technology|Information Techn...|  ₹525.00| +₹35.05|   7.15%|       538.9|23.64|28.46|        1.96|       NULL|          0.77|            2024-03-31|       12.67| NaN|  NaN|            G|     2025-Jan-03|\n",
      "|    KINGFA|Kingfa Science an...|     Basic Materials| Specialty Chemicals|₹3,665.00|+₹230.00|   6.70%|      3850.0|20.82|28.98|        1.27|       NULL|          0.69|            2024-03-31|        6.09| NaN|  NaN|            G|     2025-Jan-03|\n",
      "|     SBGLP|Suratwwala Busine...|         Real Estate|Real Estate - Dev...|  ₹136.50|  +₹7.75|   6.02%|      142.44|48.04|60.23|        NULL|       NULL|          1.18|            2024-03-31|       15.63| NaN|  NaN|            G|     2025-Jan-03|\n",
      "|       SRM| SRM Contractors Ltd|         Industrials|Engineering & Con...|  ₹418.35| +₹23.55|   5.97%|       430.9|20.84|21.17|        NULL|       NULL|          0.82|            2024-03-31|       14.03| NaN|  NaN|            G|     2025-Jan-03|\n",
      "|  LLOYDSME|Lloyds Metals And...|     Basic Materials|               Steel|₹1,420.00| +₹79.25|   5.91%|      1460.0|44.22|57.01|        2.67|       0.87|           0.4|            2024-03-31|       93.87| NaN|  NaN|            G|     2025-Jan-03|\n",
      "| SECURCRED|SecUR Credentials...|         Industrials|Specialty Busines...|    ₹3.39|  -₹0.50|  12.85%|        25.4|17.26|21.75|        NULL|       NULL|          1.06|            2023-03-31|       -2.58| NaN|  NaN|            L|     2025-Jan-03|\n",
      "|   AMNPLST|Amines and Plasti...|     Basic Materials|           Chemicals|  ₹313.50| -₹17.20|   5.20%|      359.95| 18.1|25.53|        4.62|       NULL|          0.77|            2024-03-31|        8.33| NaN|  NaN|            L|     2025-Jan-03|\n",
      "|  TVVISION|       TV Vision Ltd|Communication Ser...|        Broadcasting|   ₹18.32|  -₹0.97|   5.03%|       30.27| 20.3|19.78|        NULL|       NULL|         -1.66|            2024-03-31|      -18.11| NaN|  NaN|            L|     2025-Jan-03|\n",
      "|  KPIGREEN|KPI Green Energy Ltd|           Utilities|Utilities - Renew...|  ₹547.30| -₹24.55|   4.29%|    745.3333|19.34|19.27|        0.61|       NULL|          1.91|            2024-03-31|       59.04| NaN|  NaN|            L|     2025-Jan-03|\n",
      "|     TANLA| Tanla Platforms Ltd|          Technology|Software - Applic...|  ₹720.50| -₹31.95|   4.25%|      1248.0|28.24|32.75|        NULL|       NULL|          0.55|            2024-03-31|       17.09| NaN|  NaN|            L|     2025-Jan-03|\n",
      "|AJANTPHARM|   Ajanta Pharma Ltd|          Healthcare|Drug Manufacturer...|₹2,872.00|-₹106.35|   3.57%|      3485.0|22.88|27.94|        3.62|       2.88|           0.3|            2024-03-31|       12.25| NaN|  NaN|            L|     2025-Jan-03|\n",
      "+----------+--------------------+--------------------+--------------------+---------+--------+--------+------------+-----+-----+------------+-----------+--------------+----------------------+------------+----+-----+-------------+----------------+\n",
      "\n"
     ]
    }
   ],
   "source": [
    "df_test.show()"
   ]
  },
  {
   "cell_type": "code",
   "execution_count": 44,
   "id": "f96572f6",
   "metadata": {},
   "outputs": [],
   "source": [
    "# df_master.write.format('delta').save(\"/mnt/Stock_market_date/Processed_Parquet\")"
   ]
  },
  {
   "cell_type": "code",
   "execution_count": null,
   "id": "f226ecdd",
   "metadata": {},
   "outputs": [],
   "source": [
    "df_read=spark.read.format('delta').load(\"/mnt/Stock_market_date/Processed_Parquet\")\n",
    "display(df_read)"
   ]
  },
  {
   "cell_type": "code",
   "execution_count": null,
   "id": "80bc5b60",
   "metadata": {},
   "outputs": [],
   "source": []
  },
  {
   "cell_type": "code",
   "execution_count": null,
   "id": "ad891655",
   "metadata": {},
   "outputs": [],
   "source": [
    "news=test.info\n",
    "x2=test.news\n",
    "print(x2)"
   ]
  },
  {
   "cell_type": "code",
   "execution_count": null,
   "id": "103a3bc4",
   "metadata": {},
   "outputs": [],
   "source": [
    "\n",
    "\n",
    "x=news.get('longName', 'NA')\n",
    "print(x)"
   ]
  }
 ],
 "metadata": {
  "kernelspec": {
   "display_name": "Python 3 (ipykernel)",
   "language": "python",
   "name": "python3"
  },
  "language_info": {
   "codemirror_mode": {
    "name": "ipython",
    "version": 3
   },
   "file_extension": ".py",
   "mimetype": "text/x-python",
   "name": "python",
   "nbconvert_exporter": "python",
   "pygments_lexer": "ipython3",
   "version": "3.11.6"
  }
 },
 "nbformat": 4,
 "nbformat_minor": 5
}
