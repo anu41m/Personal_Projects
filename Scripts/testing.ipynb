{
 "cells": [
  {
   "cell_type": "code",
   "execution_count": 63,
   "id": "b657a786",
   "metadata": {},
   "outputs": [
    {
     "data": {
      "text/html": [
       "\n",
       "            <div>\n",
       "                <p><b>SparkSession - in-memory</b></p>\n",
       "                \n",
       "        <div>\n",
       "            <p><b>SparkContext</b></p>\n",
       "\n",
       "            <p><a href=\"http://8ab3bd50f830:4041\">Spark UI</a></p>\n",
       "\n",
       "            <dl>\n",
       "              <dt>Version</dt>\n",
       "                <dd><code>v3.5.0</code></dd>\n",
       "              <dt>Master</dt>\n",
       "                <dd><code>spark://spark-master:7077</code></dd>\n",
       "              <dt>AppName</dt>\n",
       "                <dd><code>MyApp1</code></dd>\n",
       "            </dl>\n",
       "        </div>\n",
       "        \n",
       "            </div>\n",
       "        "
      ],
      "text/plain": [
       "<pyspark.sql.session.SparkSession at 0xffff709e1210>"
      ]
     },
     "execution_count": 63,
     "metadata": {},
     "output_type": "execute_result"
    }
   ],
   "source": [
    "import yfinance as yf\n",
    "import datetime as dt\n",
    "import requests, json, pandas as pd\n",
    "from bs4 import BeautifulSoup\n",
    "from pyspark.sql import *\n",
    "from pyspark.sql.functions import *\n",
    "from pyspark.sql.types import DoubleType\n",
    "import pandas as pd\n",
    "import os\n",
    "import shutil\n",
    "\n",
    "PYSPARK_PYTHON = os.getenv(\"PYSPARK_PYTHON\") \n",
    "PYSPARK_DRIVER_PYTHON = os.getenv(\"PYSPARK_DRIVER_PYTHON\")\n",
    "import pyspark\n",
    "from delta import configure_spark_with_delta_pip, DeltaTable\n",
    "import json\n",
    "\n",
    "# Load the configuration JSON file\n",
    "with open('/usr/local/spark/conf/spark-defaults.json', 'r') as f:\n",
    "    config = json.load(f)\n",
    "\n",
    "# Initialize the Spark session builder\n",
    "builder = pyspark.sql.SparkSession.builder.appName(\"MyApp1\").config(\"spark.sql.extensions\", \"io.delta.sql.DeltaSparkSessionExtension\") \\\n",
    "    .config(\"spark.sql.catalog.spark_catalog\", \"org.apache.spark.sql.delta.catalog.DeltaCatalog\").config(\"spark.pyspark.python\", PYSPARK_PYTHON)\\\n",
    "    .config(\"spark.pyspark.driver.python\", PYSPARK_DRIVER_PYTHON)\n",
    "\n",
    "# Read the packages from the text file\n",
    "packages = []\n",
    "with open('/usr/local/spark/conf/packages.txt', 'r') as file:\n",
    "    # Read each line and strip newlines or extra spaces\n",
    "    packages = [line.strip() for line in file if line.strip()]\n",
    "\n",
    "# # Add packages to the Spark session configuration\n",
    "builder.config(\"spark.jars.packages\", \",\".join(packages))\n",
    "\n",
    "# Apply the configurations from the JSON file to the Spark session\n",
    "for key, value in config.items():\n",
    "    builder.config(key, value)\n",
    "\n",
    "# Configure Spark with Delta Lake (if needed)\n",
    "spark = configure_spark_with_delta_pip(builder).getOrCreate()\n",
    "# Now you can use the Spark session\n",
    "spark"
   ]
  },
  {
   "cell_type": "code",
   "execution_count": 64,
   "id": "cb50d958",
   "metadata": {},
   "outputs": [],
   "source": [
    "def f_roe(financials_info, balance_sheet):\n",
    "    net_income = financials_info.loc[\"Net Income\"].iloc[0] if \"Net Income\" in financials_info.index else None\n",
    "    # Fetch Shareholders' Equity from balance sheet\n",
    "    total_equity = balance_sheet.loc[\"Stockholders Equity\"].iloc[0] if \"Stockholders Equity\" in balance_sheet.index else None \n",
    "    return (net_income / total_equity) * 100 if type(net_income) == float and type(total_equity) == float else 0.00"
   ]
  },
  {
   "cell_type": "code",
   "execution_count": 65,
   "id": "8bb40760",
   "metadata": {},
   "outputs": [],
   "source": [
    "def f_roce(financials_info, balance_sheet):\n",
    "    ebit = financials_info.loc[\"Operating Income\"].iloc[0] if \"Operating Income\" in financials_info.index else 0\n",
    "\n",
    "    # # Get Total Assets and Current Liabilities from balance sheet\n",
    "    total_assets = balance_sheet.loc[\"Total Assets\"].iloc[0] if \"Total Assets\" in balance_sheet.index else 0\n",
    "    current_liabilities = balance_sheet.loc[\"Current Liabilities\"].iloc[0] if \"Current Liabilities\" in balance_sheet.index else 0\n",
    "\n",
    "    # Calculate Capital Employed\n",
    "    capital_employed = total_assets - current_liabilities\n",
    "\n",
    "    return (ebit / capital_employed) * 100 if capital_employed != 0 else 0"
   ]
  },
  {
   "cell_type": "code",
   "execution_count": 66,
   "id": "f24f08bd",
   "metadata": {},
   "outputs": [],
   "source": [
    "def f_PEG(stock_info):\n",
    "# Calculate PEG ratios\n",
    "    trailing_pe = stock_info.get(\"trailingPE\", None)\n",
    "    forward_pe = stock_info.get(\"forwardPE\", None)\n",
    "    earnings_growth = stock_info.get(\"earningsGrowth\", None)  # Provided as a decimal\n",
    "\n",
    "    if earnings_growth is not None and earnings_growth > 0:\n",
    "        \n",
    "        trailing_peg = trailing_pe / (earnings_growth * 100) if trailing_pe else None\n",
    "        forward_peg = forward_pe / (earnings_growth * 100) if forward_pe else None\n",
    "        peg_t= trailing_peg if trailing_peg else \"N/A\"\n",
    "        peg_f=forward_peg if forward_peg else \"N/A\"\n",
    "    else:\n",
    "        peg_f=peg_t=\"N/A\"\n",
    "    return peg_t,peg_f"
   ]
  },
  {
   "cell_type": "code",
   "execution_count": 67,
   "id": "11056faa",
   "metadata": {},
   "outputs": [],
   "source": [
    "def f_debt_to_equity(balance_sheet):\n",
    "    total_liabilities = balance_sheet.loc[\"Total Liabilities Net Minority Interest\"].iloc[0] if \"Total Liabilities Net Minority Interest\" in balance_sheet.index else 0\n",
    "    shareholders_equity = balance_sheet.loc[\"Stockholders Equity\"].iloc[0] if \"Stockholders Equity\" in balance_sheet.index else 0\n",
    "    # Calculate Debt-to-Equity Ratio\n",
    "    if shareholders_equity != 0:  # Avoid division by zero\n",
    "        debt_to_equity_ratio = total_liabilities / shareholders_equity\n",
    "    else:\n",
    "        debt_to_equity_ratio = \"N/A\"\n",
    "    return debt_to_equity_ratio"
   ]
  },
  {
   "cell_type": "code",
   "execution_count": 68,
   "id": "9c438c34",
   "metadata": {},
   "outputs": [],
   "source": [
    "def f_sales_growth(income_statement):\n",
    "    revenue = income_statement.loc[\"Total Revenue\"] if \"Total Revenue\" in income_statement.index else {\"0\":\"NA\"}\n",
    "    revenue = revenue.dropna() if isinstance(revenue, pd.Series) else revenue # Remove any periods with missing data\n",
    "    # Ensure revenue has at least two periods to calculate growth\n",
    "    if len(revenue) > 1:\n",
    "        # Calculate sales growth between the latest two periods\n",
    "        latest_growth = ((revenue.iloc[0] - revenue.iloc[1]) / revenue.iloc[1]) * 100 if revenue.iloc[1] != 0 else 0\n",
    "        latest_period = revenue.index[0].strftime(\"%Y-%m-%d\")\n",
    "    else:\n",
    "        # Handle cases where there isn't enough data\n",
    "        latest_growth=0\n",
    "        latest_period=0\n",
    "    return latest_growth,latest_period"
   ]
  },
  {
   "cell_type": "code",
   "execution_count": 69,
   "id": "48b092e4",
   "metadata": {},
   "outputs": [],
   "source": [
    "def f_MA(historical_data):\n",
    "    # Calculate 50-day and 200-day moving averages\n",
    "    if not historical_data.empty:\n",
    "        historical_data[\"MA50\"] = historical_data[\"Close\"].rolling(window=50).mean()\n",
    "        historical_data[\"MA200\"] = historical_data[\"Close\"].rolling(window=200).mean()\n",
    "        # Return the latest MA50 and MA200\n",
    "        latest_data = historical_data.iloc[-1]\n",
    "        ma50=latest_data[\"MA50\"]\n",
    "        ma200=latest_data[\"MA200\"]\n",
    "    else:\n",
    "        # Return the latest MA50 and MA200\n",
    "        latest_data = 0\n",
    "        ma50=0\n",
    "        ma200=0\n",
    "    return ma50, ma200"
   ]
  },
  {
   "cell_type": "code",
   "execution_count": 70,
   "id": "08cfd16d",
   "metadata": {},
   "outputs": [],
   "source": [
    "def f_stock_data(l_tickers):\n",
    "    ticker_data = []\n",
    "    headers=[\"Ticker\",\"52-week_high\",\"ROE\",\"ROCE\",\"Trailing_PEG\",\"Forward_PEG\",\"Debt-to-Equity\",\"Latest_Finanacial_Year\",\"Sales_Growth\",\"MA50\",\"MA200\"]\n",
    "    for t in l_tickers:\n",
    "        ticker = yf.Ticker(t + ('.BO' if t.isdigit() else '.NS'))\n",
    "        stock_info = ticker.info\n",
    "        balance_sheet = ticker.balance_sheet\n",
    "        financials_info=ticker.financials\n",
    "        income_statement=ticker.income_stmt\n",
    "        try:\n",
    "            historical_data = ticker.history(period=\"ytd\")\n",
    "        except Exception as e:\n",
    "            print(e)\n",
    "        v_roe=f_roe(financials_info, balance_sheet)\n",
    "        v_roce=f_roce(financials_info, balance_sheet)\n",
    "        v_peg_t,v_peg_f=f_PEG(stock_info)\n",
    "        v_debt_to_equity=f_debt_to_equity(balance_sheet)\n",
    "        v_sales_growth,v_latest_period=f_sales_growth(income_statement)\n",
    "        v_ma50,v_ma200=f_MA(historical_data)\n",
    "        ticker_data.append([t,stock_info.get(\"fiftyTwoWeekHigh\", None),v_roe,v_roce,v_peg_t,v_peg_f,v_debt_to_equity,v_latest_period,v_sales_growth,v_ma50,v_ma200])\n",
    "    df_retun = pd.DataFrame(ticker_data, columns=headers)\n",
    "    return(df_retun)"
   ]
  },
  {
   "cell_type": "code",
   "execution_count": 71,
   "id": "ee90d349",
   "metadata": {},
   "outputs": [],
   "source": [
    "# URL to scrape\n",
    "url_link=[\"https://www.google.com/finance/markets/gainers\"]\n",
    "rows = []\n",
    "headers=[\"Ticker\",\"Stock_Name\",\"CMP\",\"Change\",\"Change_%\"]\n",
    "for url in url_link:\n",
    "    response = requests.get(url)\n",
    "    if response.status_code == 200:\n",
    "        soup = BeautifulSoup(response.text, 'html.parser')\n",
    "        # Find the parent container\n",
    "        parent_container = soup.find('ul', class_='sbnBtf')\n",
    "        if parent_container:\n",
    "            # Find all stock entries within the parent container\n",
    "            stock_entries = parent_container.find_all('li')\n",
    "            for stock in stock_entries:\n",
    "                # Extract relevant details for each stock\n",
    "                stock_ticker = stock.find('div', class_='COaKTb').text if stock.find('div', class_='COaKTb') else \"N/A\"\n",
    "                stock_name = stock.find('div', class_='ZvmM7').text if stock.find('div', class_='ZvmM7') else \"N/A\"\n",
    "                stock_price = stock.find('div', class_='YMlKec').text if stock.find('div', class_='YMlKec') else \"N/A\"\n",
    "                stock_change = stock.find('div', class_='BAftM').text if stock.find('div', class_='BAftM') else \"N/A\"\n",
    "                stock_percent = stock.find('div', class_='zWwE1').text if stock.find('div', class_='zWwE1') else \"N/A\"\n",
    "                # Add extracted data to the list\n",
    "                rows.append([stock_ticker,stock_name,stock_price,stock_change,stock_percent])\n",
    "    \n",
    "    # Convert to JSON string with readable characters\n",
    "df_pd_today = pd.DataFrame(rows, columns=headers)\n"
   ]
  },
  {
   "cell_type": "code",
   "execution_count": 72,
   "id": "b8e34be3",
   "metadata": {},
   "outputs": [
    {
     "name": "stdout",
     "output_type": "stream",
     "text": [
      "['RICOAUTO', 'AMNPLST', 'SUNDARMFIN', 'TRANSRAILL', 'LASA', 'RIIL', 'DHANI', 'DSSL', 'CEWATER', 'SIYSIL', 'INDOWIND', 'LLOYDSENT', 'KARMAENG', 'PRAENG', 'TCLCONS', 'GOLDIAM', 'PROZONER', 'TOLINS', 'EICHERMOT', 'FORCEMOT', 'SINTERCOM', 'BAJAJFINSV', 'DECCANCE', 'WELENT', 'CHOLAFIN', 'SDBL', 'DATAMATICS', 'CHOLAHLDNG', 'LYPSAGEMS', 'JISLJALEQS', 'HARDWYN', 'DYCL', 'LLOYDSME', 'MONARCH', 'MUNJALAU', 'CTE', 'YASHO', 'BAJFINANCE', 'GOACARBON', 'CREDITACC', 'SAMMAANCAP', 'SIGMA', 'AFIL', 'GOCLCORP', 'HCC', 'ASHOKLEY', 'OIL', 'ZENSARTECH', 'TI', 'BLKASHYAP']\n"
     ]
    }
   ],
   "source": [
    "# Extract unique tickers as a Python list\n",
    "l_tickers = df_pd_today[\"Ticker\"].unique().tolist()\n",
    "# Print the result\n",
    "print(l_tickers)"
   ]
  },
  {
   "cell_type": "code",
   "execution_count": 73,
   "id": "c4ab689a",
   "metadata": {},
   "outputs": [],
   "source": [
    "# t=(\"750940\")\n",
    "# ticker = yf.Ticker(t + \".BO\" if t.isdigit() else t + \".NS\")\n",
    "# stock_info = ticker.info\n",
    "# balance_sheet = ticker.balance_sheet\n",
    "# financials_info=ticker.financials\n",
    "# income_statement=ticker.income_stmt\n",
    "# revenue = income_statement.loc[\"Total Revenue\"] if \"Total Revenue\" in income_statement.index else {\"0\":\"NA\"}\n",
    "# revenue = revenue.dropna() if isinstance(revenue, pd.Series) else revenue # Remove any periods with missing data\n",
    "# # Ensure revenue has at least two periods to calculate growth\n",
    "# if len(revenue) > 1:\n",
    "#     # Calculate sales growth between the latest two periods\n",
    "#     latest_growth = ((revenue.iloc[0] - revenue.iloc[1]) / revenue.iloc[1]) * 100 if revenue.iloc[1] != 0 else 0\n",
    "#     latest_period = revenue.index[0].strftime(\"%Y-%m-%d\")\n",
    "# else:\n",
    "#     # Handle cases where there isn't enough data\n",
    "#     latest_growth=0.0\n",
    "#     latest_period=0.0\n",
    "# print(len(revenue))\n",
    "# print(latest_growth,latest_period)"
   ]
  },
  {
   "cell_type": "code",
   "execution_count": 74,
   "id": "4f5fb902",
   "metadata": {},
   "outputs": [],
   "source": [
    "df_stock_data=f_stock_data(l_tickers)\n"
   ]
  },
  {
   "cell_type": "code",
   "execution_count": 82,
   "id": "1cd9b46b",
   "metadata": {},
   "outputs": [],
   "source": [
    "df_custom=df_stock_data.merge(df_pd_today, on='Ticker',how='left')\n",
    "df_spark=spark.createDataFrame(df_custom)"
   ]
  },
  {
   "cell_type": "code",
   "execution_count": 83,
   "id": "fe22719c",
   "metadata": {},
   "outputs": [],
   "source": [
    "df_master = df_spark.filter(\n",
    "                            (col(\"ROE\") >= 15) &\n",
    "                            (col(\"ROCE\") >= 15) &\n",
    "                            (col(\"Debt-to-Equity\") <= 1) &\n",
    "                            (col(\"MA50\") >= col(\"MA200\"))\n",
    "                            ).withColumn(\"ROE\", round(col(\"ROE\"), 2)) \\\n",
    "                            .withColumn(\"ROCE\", round(col(\"ROCE\"), 2)) \\\n",
    "                            .withColumn(\"Trailing_PEG\", round(col(\"Trailing_PEG\"), 2)) \\\n",
    "                            .withColumn(\"Forward_PEG\", round(col(\"Forward_PEG\"), 2)) \\\n",
    "                            .withColumn(\"Debt-to-Equity\", round(col(\"Debt-to-Equity\"), 2)) \\\n",
    "                            .withColumn(\"Sales_Growth\", round(col(\"Sales_Growth\"), 2)) \\\n",
    "                            .withColumn(\"MA50\", round(col(\"MA50\"), 2)) \\\n",
    "                            .withColumn(\"MA200\", round(col(\"MA200\"), 2)) \\\n",
    "                            .withColumn(\n",
    "                                \"Gainer/Looser\",\n",
    "                                when(\n",
    "                                    regexp_replace(col(\"Change\"), \"₹\", \"\").cast(\"float\") < 0.0, \"L\"\n",
    "                                ).otherwise(\"G\")\n",
    "                            )"
   ]
  },
  {
   "cell_type": "code",
   "execution_count": 81,
   "id": "d424c4b7",
   "metadata": {},
   "outputs": [
    {
     "name": "stderr",
     "output_type": "stream",
     "text": [
      "ERROR:root:KeyboardInterrupt while sending command.\n",
      "Traceback (most recent call last):\n",
      "  File \"/usr/local/spark/python/lib/py4j-0.10.9.7-src.zip/py4j/java_gateway.py\", line 1038, in send_command\n",
      "    response = connection.send_command(command)\n",
      "               ^^^^^^^^^^^^^^^^^^^^^^^^^^^^^^^^\n",
      "  File \"/usr/local/spark/python/lib/py4j-0.10.9.7-src.zip/py4j/clientserver.py\", line 511, in send_command\n",
      "    answer = smart_decode(self.stream.readline()[:-1])\n",
      "                          ^^^^^^^^^^^^^^^^^^^^^^\n",
      "  File \"/opt/conda/lib/python3.11/socket.py\", line 706, in readinto\n",
      "    return self._sock.recv_into(b)\n",
      "           ^^^^^^^^^^^^^^^^^^^^^^^\n",
      "KeyboardInterrupt\n"
     ]
    },
    {
     "ename": "KeyboardInterrupt",
     "evalue": "",
     "output_type": "error",
     "traceback": [
      "\u001b[0;31m---------------------------------------------------------------------------\u001b[0m",
      "\u001b[0;31mKeyboardInterrupt\u001b[0m                         Traceback (most recent call last)",
      "Cell \u001b[0;32mIn[81], line 1\u001b[0m\n\u001b[0;32m----> 1\u001b[0m \u001b[43mdf_master\u001b[49m\u001b[38;5;241;43m.\u001b[39;49m\u001b[43mshow\u001b[49m\u001b[43m(\u001b[49m\u001b[43m)\u001b[49m\n",
      "File \u001b[0;32m/usr/local/spark/python/pyspark/sql/dataframe.py:959\u001b[0m, in \u001b[0;36mDataFrame.show\u001b[0;34m(self, n, truncate, vertical)\u001b[0m\n\u001b[1;32m    953\u001b[0m     \u001b[38;5;28;01mraise\u001b[39;00m PySparkTypeError(\n\u001b[1;32m    954\u001b[0m         error_class\u001b[38;5;241m=\u001b[39m\u001b[38;5;124m\"\u001b[39m\u001b[38;5;124mNOT_BOOL\u001b[39m\u001b[38;5;124m\"\u001b[39m,\n\u001b[1;32m    955\u001b[0m         message_parameters\u001b[38;5;241m=\u001b[39m{\u001b[38;5;124m\"\u001b[39m\u001b[38;5;124marg_name\u001b[39m\u001b[38;5;124m\"\u001b[39m: \u001b[38;5;124m\"\u001b[39m\u001b[38;5;124mvertical\u001b[39m\u001b[38;5;124m\"\u001b[39m, \u001b[38;5;124m\"\u001b[39m\u001b[38;5;124marg_type\u001b[39m\u001b[38;5;124m\"\u001b[39m: \u001b[38;5;28mtype\u001b[39m(vertical)\u001b[38;5;241m.\u001b[39m\u001b[38;5;18m__name__\u001b[39m},\n\u001b[1;32m    956\u001b[0m     )\n\u001b[1;32m    958\u001b[0m \u001b[38;5;28;01mif\u001b[39;00m \u001b[38;5;28misinstance\u001b[39m(truncate, \u001b[38;5;28mbool\u001b[39m) \u001b[38;5;129;01mand\u001b[39;00m truncate:\n\u001b[0;32m--> 959\u001b[0m     \u001b[38;5;28mprint\u001b[39m(\u001b[38;5;28;43mself\u001b[39;49m\u001b[38;5;241;43m.\u001b[39;49m\u001b[43m_jdf\u001b[49m\u001b[38;5;241;43m.\u001b[39;49m\u001b[43mshowString\u001b[49m\u001b[43m(\u001b[49m\u001b[43mn\u001b[49m\u001b[43m,\u001b[49m\u001b[43m \u001b[49m\u001b[38;5;241;43m20\u001b[39;49m\u001b[43m,\u001b[49m\u001b[43m \u001b[49m\u001b[43mvertical\u001b[49m\u001b[43m)\u001b[49m)\n\u001b[1;32m    960\u001b[0m \u001b[38;5;28;01melse\u001b[39;00m:\n\u001b[1;32m    961\u001b[0m     \u001b[38;5;28;01mtry\u001b[39;00m:\n",
      "File \u001b[0;32m/usr/local/spark/python/lib/py4j-0.10.9.7-src.zip/py4j/java_gateway.py:1321\u001b[0m, in \u001b[0;36mJavaMember.__call__\u001b[0;34m(self, *args)\u001b[0m\n\u001b[1;32m   1314\u001b[0m args_command, temp_args \u001b[38;5;241m=\u001b[39m \u001b[38;5;28mself\u001b[39m\u001b[38;5;241m.\u001b[39m_build_args(\u001b[38;5;241m*\u001b[39margs)\n\u001b[1;32m   1316\u001b[0m command \u001b[38;5;241m=\u001b[39m proto\u001b[38;5;241m.\u001b[39mCALL_COMMAND_NAME \u001b[38;5;241m+\u001b[39m\\\n\u001b[1;32m   1317\u001b[0m     \u001b[38;5;28mself\u001b[39m\u001b[38;5;241m.\u001b[39mcommand_header \u001b[38;5;241m+\u001b[39m\\\n\u001b[1;32m   1318\u001b[0m     args_command \u001b[38;5;241m+\u001b[39m\\\n\u001b[1;32m   1319\u001b[0m     proto\u001b[38;5;241m.\u001b[39mEND_COMMAND_PART\n\u001b[0;32m-> 1321\u001b[0m answer \u001b[38;5;241m=\u001b[39m \u001b[38;5;28;43mself\u001b[39;49m\u001b[38;5;241;43m.\u001b[39;49m\u001b[43mgateway_client\u001b[49m\u001b[38;5;241;43m.\u001b[39;49m\u001b[43msend_command\u001b[49m\u001b[43m(\u001b[49m\u001b[43mcommand\u001b[49m\u001b[43m)\u001b[49m\n\u001b[1;32m   1322\u001b[0m return_value \u001b[38;5;241m=\u001b[39m get_return_value(\n\u001b[1;32m   1323\u001b[0m     answer, \u001b[38;5;28mself\u001b[39m\u001b[38;5;241m.\u001b[39mgateway_client, \u001b[38;5;28mself\u001b[39m\u001b[38;5;241m.\u001b[39mtarget_id, \u001b[38;5;28mself\u001b[39m\u001b[38;5;241m.\u001b[39mname)\n\u001b[1;32m   1325\u001b[0m \u001b[38;5;28;01mfor\u001b[39;00m temp_arg \u001b[38;5;129;01min\u001b[39;00m temp_args:\n",
      "File \u001b[0;32m/usr/local/spark/python/lib/py4j-0.10.9.7-src.zip/py4j/java_gateway.py:1038\u001b[0m, in \u001b[0;36mGatewayClient.send_command\u001b[0;34m(self, command, retry, binary)\u001b[0m\n\u001b[1;32m   1036\u001b[0m connection \u001b[38;5;241m=\u001b[39m \u001b[38;5;28mself\u001b[39m\u001b[38;5;241m.\u001b[39m_get_connection()\n\u001b[1;32m   1037\u001b[0m \u001b[38;5;28;01mtry\u001b[39;00m:\n\u001b[0;32m-> 1038\u001b[0m     response \u001b[38;5;241m=\u001b[39m \u001b[43mconnection\u001b[49m\u001b[38;5;241;43m.\u001b[39;49m\u001b[43msend_command\u001b[49m\u001b[43m(\u001b[49m\u001b[43mcommand\u001b[49m\u001b[43m)\u001b[49m\n\u001b[1;32m   1039\u001b[0m     \u001b[38;5;28;01mif\u001b[39;00m binary:\n\u001b[1;32m   1040\u001b[0m         \u001b[38;5;28;01mreturn\u001b[39;00m response, \u001b[38;5;28mself\u001b[39m\u001b[38;5;241m.\u001b[39m_create_connection_guard(connection)\n",
      "File \u001b[0;32m/usr/local/spark/python/lib/py4j-0.10.9.7-src.zip/py4j/clientserver.py:511\u001b[0m, in \u001b[0;36mClientServerConnection.send_command\u001b[0;34m(self, command)\u001b[0m\n\u001b[1;32m    509\u001b[0m \u001b[38;5;28;01mtry\u001b[39;00m:\n\u001b[1;32m    510\u001b[0m     \u001b[38;5;28;01mwhile\u001b[39;00m \u001b[38;5;28;01mTrue\u001b[39;00m:\n\u001b[0;32m--> 511\u001b[0m         answer \u001b[38;5;241m=\u001b[39m smart_decode(\u001b[38;5;28mself\u001b[39m\u001b[38;5;241m.\u001b[39mstream\u001b[38;5;241m.\u001b[39mreadline()[:\u001b[38;5;241m-\u001b[39m\u001b[38;5;241m1\u001b[39m])\n\u001b[1;32m    512\u001b[0m         logger\u001b[38;5;241m.\u001b[39mdebug(\u001b[38;5;124m\"\u001b[39m\u001b[38;5;124mAnswer received: \u001b[39m\u001b[38;5;132;01m{0}\u001b[39;00m\u001b[38;5;124m\"\u001b[39m\u001b[38;5;241m.\u001b[39mformat(answer))\n\u001b[1;32m    513\u001b[0m         \u001b[38;5;66;03m# Happens when a the other end is dead. There might be an empty\u001b[39;00m\n\u001b[1;32m    514\u001b[0m         \u001b[38;5;66;03m# answer before the socket raises an error.\u001b[39;00m\n",
      "File \u001b[0;32m/opt/conda/lib/python3.11/socket.py:706\u001b[0m, in \u001b[0;36mSocketIO.readinto\u001b[0;34m(self, b)\u001b[0m\n\u001b[1;32m    704\u001b[0m \u001b[38;5;28;01mwhile\u001b[39;00m \u001b[38;5;28;01mTrue\u001b[39;00m:\n\u001b[1;32m    705\u001b[0m     \u001b[38;5;28;01mtry\u001b[39;00m:\n\u001b[0;32m--> 706\u001b[0m         \u001b[38;5;28;01mreturn\u001b[39;00m \u001b[38;5;28;43mself\u001b[39;49m\u001b[38;5;241;43m.\u001b[39;49m\u001b[43m_sock\u001b[49m\u001b[38;5;241;43m.\u001b[39;49m\u001b[43mrecv_into\u001b[49m\u001b[43m(\u001b[49m\u001b[43mb\u001b[49m\u001b[43m)\u001b[49m\n\u001b[1;32m    707\u001b[0m     \u001b[38;5;28;01mexcept\u001b[39;00m timeout:\n\u001b[1;32m    708\u001b[0m         \u001b[38;5;28mself\u001b[39m\u001b[38;5;241m.\u001b[39m_timeout_occurred \u001b[38;5;241m=\u001b[39m \u001b[38;5;28;01mTrue\u001b[39;00m\n",
      "\u001b[0;31mKeyboardInterrupt\u001b[0m: "
     ]
    }
   ],
   "source": [
    "df_master.show()"
   ]
  },
  {
   "cell_type": "code",
   "execution_count": 44,
   "id": "f96572f6",
   "metadata": {},
   "outputs": [],
   "source": [
    "# df_master.write.format('delta').save(\"/mnt/Stock_market_date/Processed_Parquet\")"
   ]
  },
  {
   "cell_type": "code",
   "execution_count": null,
   "id": "f226ecdd",
   "metadata": {},
   "outputs": [],
   "source": [
    "df_read=spark.read.format('delta').load(\"/mnt/Stock_market_date/Processed_Parquet\")\n",
    "display(df_read)"
   ]
  },
  {
   "cell_type": "code",
   "execution_count": null,
   "id": "80bc5b60",
   "metadata": {},
   "outputs": [],
   "source": []
  },
  {
   "cell_type": "code",
   "execution_count": null,
   "id": "ad891655",
   "metadata": {},
   "outputs": [],
   "source": [
    "news=test.info\n",
    "x2=test.news\n",
    "print(x2)"
   ]
  },
  {
   "cell_type": "code",
   "execution_count": null,
   "id": "103a3bc4",
   "metadata": {},
   "outputs": [],
   "source": [
    "\n",
    "\n",
    "x=news.get('longName', 'NA')\n",
    "print(x)"
   ]
  }
 ],
 "metadata": {
  "kernelspec": {
   "display_name": "Python 3 (ipykernel)",
   "language": "python",
   "name": "python3"
  },
  "language_info": {
   "codemirror_mode": {
    "name": "ipython",
    "version": 3
   },
   "file_extension": ".py",
   "mimetype": "text/x-python",
   "name": "python",
   "nbconvert_exporter": "python",
   "pygments_lexer": "ipython3",
   "version": "3.11.6"
  }
 },
 "nbformat": 4,
 "nbformat_minor": 5
}
