{
 "cells": [
  {
   "cell_type": "code",
   "execution_count": 17,
   "id": "ee90d349",
   "metadata": {},
   "outputs": [],
   "source": [
    "import requests, json, pandas as pd\n",
    "from bs4 import BeautifulSoup\n",
    "\n",
    "# URL to scrape\n",
    "url = \"https://www.google.com/finance/markets/gainers\"\n",
    "\n",
    "response = requests.get(url)\n",
    "soup= BeautifulSoup(response.text, 'html.parser')"
   ]
  },
  {
   "cell_type": "code",
   "execution_count": 18,
   "id": "f813fa58",
   "metadata": {},
   "outputs": [],
   "source": [
    "parent_container = soup.find('ul', class_='sbnBtf')  # Parent container for stocks\n",
    "\n",
    "# Find all stock entries within the parent container\n",
    "stock_entries = parent_container.find_all('li')"
   ]
  },
  {
   "cell_type": "code",
   "execution_count": null,
   "id": "2fc7af8e",
   "metadata": {},
   "outputs": [],
   "source": [
    "gainers = []\n",
    "for stock in stock_entries:\n",
    "    try:\n",
    "        # Extract details for each stock\n",
    "        ticker = stock.find('div', class_='COaKTb').text.strip()\n",
    "        company_name = stock.find('div', class_='ZvmM7').text.strip()\n",
    "        price = stock.find('div', class_='YMlKec').text.strip()\n",
    "        change = stock.find('span', class_='P2Luy').text.strip()\n",
    "        percent_change = stock.find('span', class_='NydbP').text.strip()\n",
    "        \n",
    "        gainers.append({\n",
    "            \"ticker\": ticker,\n",
    "            \"company_name\": company_name,\n",
    "            \"price\": price,\n",
    "            \"change\": change,\n",
    "            \"percent_change\": percent_change\n",
    "        })\n",
    "    except AttributeError:\n",
    "        # Skip entries with missing data\n",
    "        continue\n",
    "    \n",
    "    # Convert to JSON string with readable characters\n",
    "json_data = json.dumps(gainers, indent=4, ensure_ascii=False)\n",
    "print(\"JSON Output:\")\n",
    "print(json_data)"
   ]
  },
  {
   "cell_type": "code",
   "execution_count": null,
   "id": "2466471f",
   "metadata": {},
   "outputs": [],
   "source": [
    "import pandas as pd\n",
    "# Convert JSON string to Python object (list of dictionaries)\n",
    "data = json.loads(json_data)\n",
    "\n",
    "# Convert list of dictionaries to a pandas DataFrame\n",
    "df = pd.DataFrame(data)\n",
    "\n",
    "# Print the DataFrame\n",
    "print(df)"
   ]
  },
  {
   "cell_type": "code",
   "execution_count": 37,
   "id": "9af86158",
   "metadata": {},
   "outputs": [],
   "source": [
    "url = \"https://www.google.com/finance/quote/ELGIRUBCO:NSE\"\n",
    "\n",
    "response = requests.get(url)\n",
    "soup= BeautifulSoup(response.text, 'html.parser')"
   ]
  },
  {
   "cell_type": "code",
   "execution_count": 27,
   "id": "8cbc6972",
   "metadata": {},
   "outputs": [],
   "source": [
    "parent_container = soup.find('div', class_='eYanAe')  # Parent container for stocks\n",
    "\n",
    "# Find all stock entries within the parent container\n",
    "stock_entries = parent_container.find_all('div')"
   ]
  },
  {
   "cell_type": "code",
   "execution_count": 44,
   "id": "59f0324a",
   "metadata": {},
   "outputs": [
    {
     "ename": "PermissionError",
     "evalue": "[Errno 13] Permission denied: '/Users/anoopm/my_jupyter_project/Scripts/test.html'",
     "output_type": "error",
     "traceback": [
      "\u001b[0;31m---------------------------------------------------------------------------\u001b[0m",
      "\u001b[0;31mPermissionError\u001b[0m                           Traceback (most recent call last)",
      "Cell \u001b[0;32mIn[44], line 1\u001b[0m\n\u001b[0;32m----> 1\u001b[0m \u001b[38;5;28;01mwith\u001b[39;00m \u001b[38;5;28;43mopen\u001b[39;49m\u001b[43m(\u001b[49m\u001b[38;5;124;43m\"\u001b[39;49m\u001b[38;5;124;43m/Users/anoopm/my_jupyter_project/Scripts/test.html\u001b[39;49m\u001b[38;5;124;43m\"\u001b[39;49m\u001b[43m,\u001b[49m\u001b[43m \u001b[49m\u001b[38;5;124;43m\"\u001b[39;49m\u001b[38;5;124;43mw\u001b[39;49m\u001b[38;5;124;43m\"\u001b[39;49m\u001b[43m,\u001b[49m\u001b[43m \u001b[49m\u001b[43mencoding\u001b[49m\u001b[38;5;241;43m=\u001b[39;49m\u001b[38;5;124;43m\"\u001b[39;49m\u001b[38;5;124;43mutf-8\u001b[39;49m\u001b[38;5;124;43m\"\u001b[39;49m\u001b[43m)\u001b[49m \u001b[38;5;28;01mas\u001b[39;00m file:\n\u001b[1;32m      2\u001b[0m         file\u001b[38;5;241m.\u001b[39mwrite(soup\u001b[38;5;241m.\u001b[39mprettify())  \u001b[38;5;66;03m# Save the prettified version of the HTML\u001b[39;00m\n\u001b[1;32m      3\u001b[0m         \u001b[38;5;28mprint\u001b[39m(\u001b[38;5;124m\"\u001b[39m\u001b[38;5;124mHTML content saved to \u001b[39m\u001b[38;5;124m'\u001b[39m\u001b[38;5;124mtest.html\u001b[39m\u001b[38;5;124m'\u001b[39m\u001b[38;5;124m\"\u001b[39m)\n",
      "File \u001b[0;32m/opt/conda/lib/python3.11/site-packages/IPython/core/interactiveshell.py:286\u001b[0m, in \u001b[0;36m_modified_open\u001b[0;34m(file, *args, **kwargs)\u001b[0m\n\u001b[1;32m    279\u001b[0m \u001b[38;5;28;01mif\u001b[39;00m file \u001b[38;5;129;01min\u001b[39;00m {\u001b[38;5;241m0\u001b[39m, \u001b[38;5;241m1\u001b[39m, \u001b[38;5;241m2\u001b[39m}:\n\u001b[1;32m    280\u001b[0m     \u001b[38;5;28;01mraise\u001b[39;00m \u001b[38;5;167;01mValueError\u001b[39;00m(\n\u001b[1;32m    281\u001b[0m         \u001b[38;5;124mf\u001b[39m\u001b[38;5;124m\"\u001b[39m\u001b[38;5;124mIPython won\u001b[39m\u001b[38;5;124m'\u001b[39m\u001b[38;5;124mt let you open fd=\u001b[39m\u001b[38;5;132;01m{\u001b[39;00mfile\u001b[38;5;132;01m}\u001b[39;00m\u001b[38;5;124m by default \u001b[39m\u001b[38;5;124m\"\u001b[39m\n\u001b[1;32m    282\u001b[0m         \u001b[38;5;124m\"\u001b[39m\u001b[38;5;124mas it is likely to crash IPython. If you know what you are doing, \u001b[39m\u001b[38;5;124m\"\u001b[39m\n\u001b[1;32m    283\u001b[0m         \u001b[38;5;124m\"\u001b[39m\u001b[38;5;124myou can use builtins\u001b[39m\u001b[38;5;124m'\u001b[39m\u001b[38;5;124m open.\u001b[39m\u001b[38;5;124m\"\u001b[39m\n\u001b[1;32m    284\u001b[0m     )\n\u001b[0;32m--> 286\u001b[0m \u001b[38;5;28;01mreturn\u001b[39;00m \u001b[43mio_open\u001b[49m\u001b[43m(\u001b[49m\u001b[43mfile\u001b[49m\u001b[43m,\u001b[49m\u001b[43m \u001b[49m\u001b[38;5;241;43m*\u001b[39;49m\u001b[43margs\u001b[49m\u001b[43m,\u001b[49m\u001b[43m \u001b[49m\u001b[38;5;241;43m*\u001b[39;49m\u001b[38;5;241;43m*\u001b[39;49m\u001b[43mkwargs\u001b[49m\u001b[43m)\u001b[49m\n",
      "\u001b[0;31mPermissionError\u001b[0m: [Errno 13] Permission denied: '/Users/anoopm/my_jupyter_project/Scripts/test.html'"
     ]
    }
   ],
   "source": [
    "\n",
    "with open(\"test.html\", \"w\", encoding=\"utf-8\") as file:\n",
    "        file.write(soup.prettify())  # Save the prettified version of the HTML\n",
    "        print(\"HTML content saved to 'test.html'\")"
   ]
  },
  {
   "cell_type": "code",
   "execution_count": null,
   "id": "81f6a245",
   "metadata": {},
   "outputs": [],
   "source": [
    "gainers = []\n",
    "for stock in stock_entries:\n",
    "    try:\n",
    "        # Extract details for each stock\n",
    "        ticker = stock.find('div', class_='vvDK2c').text.strip()\n",
    "        company_name = stock.find('div', class_='ZvmM7').text.strip()\n",
    "        price = stock.find('div', class_='YMlKec').text.strip()\n",
    "        change = stock.find('span', class_='P2Luy').text.strip()\n",
    "        percent_change = stock.find('span', class_='NydbP').text.strip()\n",
    "        \n",
    "        gainers.append({\n",
    "            \"ticker\": ticker,\n",
    "            \"company_name\": company_name,\n",
    "            \"price\": price,\n",
    "            \"change\": change,\n",
    "            \"percent_change\": percent_change\n",
    "        })\n",
    "    except AttributeError:\n",
    "        # Skip entries with missing data\n",
    "        continue\n",
    "    \n",
    "    # Convert to JSON string with readable characters\n",
    "json_data = json.dumps(gainers, indent=4, ensure_ascii=False)\n",
    "print(\"JSON Output:\")\n",
    "print(json_data)"
   ]
  }
 ],
 "metadata": {
  "kernelspec": {
   "display_name": "Python 3 (ipykernel)",
   "language": "python",
   "name": "python3"
  },
  "language_info": {
   "codemirror_mode": {
    "name": "ipython",
    "version": 3
   },
   "file_extension": ".py",
   "mimetype": "text/x-python",
   "name": "python",
   "nbconvert_exporter": "python",
   "pygments_lexer": "ipython3",
   "version": "3.11.6"
  }
 },
 "nbformat": 4,
 "nbformat_minor": 5
}
