{
 "cells": [
  {
   "cell_type": "code",
   "execution_count": 4,
   "id": "ee90d349",
   "metadata": {},
   "outputs": [],
   "source": [
    "import requests, json, pandas as pd\n",
    "from bs4 import BeautifulSoup\n",
    "\n",
    "# URL to scrape\n",
    "url = \"https://www.investing.com/stock-screener\"\n",
    "\n",
    "response = requests.get(url)\n",
    "soup= BeautifulSoup(response.text, 'html.parser')"
   ]
  },
  {
   "cell_type": "code",
   "execution_count": 5,
   "id": "75069471",
   "metadata": {},
   "outputs": [
    {
     "name": "stdout",
     "output_type": "stream",
     "text": [
      "HTML content saved to 'test.html'\n"
     ]
    }
   ],
   "source": [
    "with open(\"test.html\", \"w\", encoding=\"utf-8\") as file:\n",
    "        file.write(soup.prettify())  # Save the prettified version of the HTML\n",
    "        print(\"HTML content saved to 'test.html'\")"
   ]
  },
  {
   "cell_type": "code",
   "execution_count": 11,
   "id": "43f0d7c9",
   "metadata": {},
   "outputs": [],
   "source": [
    "table = soup.find('table', {'style': 'width: 100%; border-collapse: collapse; table-layout: fixed;'})"
   ]
  },
  {
   "cell_type": "code",
   "execution_count": 14,
   "id": "12aff806",
   "metadata": {},
   "outputs": [
    {
     "name": "stdout",
     "output_type": "stream",
     "text": [
      "None\n"
     ]
    }
   ],
   "source": []
  },
  {
   "cell_type": "code",
   "execution_count": 13,
   "id": "f813fa58",
   "metadata": {},
   "outputs": [],
   "source": [
    "parent_container = soup.find('div', class_='fianceDataTable-DS-EntryPoint1-4')  # Parent container for stocks\n",
    "\n",
    "# Find all stock entries within the parent container\n",
    "# stock_entries = parent_container.find_all('li')"
   ]
  },
  {
   "cell_type": "code",
   "execution_count": null,
   "id": "2fc7af8e",
   "metadata": {},
   "outputs": [],
   "source": [
    "gainers = []\n",
    "for stock in stock_entries:\n",
    "    try:\n",
    "        # Extract details for each stock\n",
    "        ticker = stock.find('div', class_='COaKTb').text.strip()\n",
    "        company_name = stock.find('div', class_='ZvmM7').text.strip()\n",
    "        price = stock.find('div', class_='YMlKec').text.strip()\n",
    "        change = stock.find('span', class_='P2Luy').text.strip()\n",
    "        percent_change = stock.find('span', class_='NydbP').text.strip()\n",
    "        \n",
    "        gainers.append({\n",
    "            \"ticker\": ticker,\n",
    "            \"company_name\": company_name,\n",
    "            \"price\": price,\n",
    "            \"change\": change,\n",
    "            \"percent_change\": percent_change\n",
    "        })\n",
    "    except AttributeError:\n",
    "        # Skip entries with missing data\n",
    "        continue\n",
    "    \n",
    "    # Convert to JSON string with readable characters\n",
    "json_data = json.dumps(gainers, indent=4, ensure_ascii=False)\n",
    "print(\"JSON Output:\")\n",
    "print(json_data)"
   ]
  },
  {
   "cell_type": "code",
   "execution_count": null,
   "id": "2466471f",
   "metadata": {},
   "outputs": [],
   "source": [
    "import pandas as pd\n",
    "# Convert JSON string to Python object (list of dictionaries)\n",
    "data = json.loads(json_data)\n",
    "\n",
    "# Convert list of dictionaries to a pandas DataFrame\n",
    "df = pd.DataFrame(data)\n",
    "\n",
    "# Print the DataFrame\n",
    "print(df)"
   ]
  }
 ],
 "metadata": {
  "kernelspec": {
   "display_name": "Python 3 (ipykernel)",
   "language": "python",
   "name": "python3"
  },
  "language_info": {
   "codemirror_mode": {
    "name": "ipython",
    "version": 3
   },
   "file_extension": ".py",
   "mimetype": "text/x-python",
   "name": "python",
   "nbconvert_exporter": "python",
   "pygments_lexer": "ipython3",
   "version": "3.11.6"
  }
 },
 "nbformat": 4,
 "nbformat_minor": 5
}
