{
 "cells": [
  {
   "cell_type": "code",
   "execution_count": 1,
   "metadata": {},
   "outputs": [],
   "source": [
    "from openpyxl import load_workbook\n",
    "from google.cloud import storage\n",
    "import pandas as pd\n",
    "import pandasql as ps\n",
    "import hashlib\n",
    "pd.set_option('display.max_columns', None)  # Show all columns\n",
    "pd.set_option('display.width', 1000)  "
   ]
  },
  {
   "cell_type": "code",
   "execution_count": 74,
   "metadata": {},
   "outputs": [],
   "source": [
    "from pyspark.sql import SparkSession\n",
    "spark = SparkSession.builder \\\n",
    "    .appName(\"SampleSpark\") \\\n",
    "    .getOrCreate()"
   ]
  },
  {
   "cell_type": "code",
   "execution_count": 75,
   "metadata": {},
   "outputs": [],
   "source": [
    "mount_d =\"/data/\""
   ]
  },
  {
   "cell_type": "code",
   "execution_count": 76,
   "metadata": {},
   "outputs": [],
   "source": [
    "trgt_path = '/mnt/data_file.csv'\n",
    "source_path = mount_d+'SPENDING HISTORY.xlsm'\n",
    "sheet_name ='To_Backend'"
   ]
  },
  {
   "cell_type": "code",
   "execution_count": 77,
   "metadata": {},
   "outputs": [],
   "source": [
    "def user_value(df):\n",
    "    max_date = '1999-01-01'\n",
    "    x= input(\"Enter 1 if it is adhoc else 0\")\n",
    "    str(x)\n",
    "    if x == '1':\n",
    "        return max_date\n",
    "    \n",
    "    elif x == '0':\n",
    "        return df['Date'].max()\n",
    "    else:\n",
    "        print(\"Error: Invalid value for adhoc_load. Please use '0' or '1'.\")\n",
    "        user_value(df)\n",
    "        "
   ]
  },
  {
   "cell_type": "code",
   "execution_count": null,
   "metadata": {},
   "outputs": [],
   "source": [
    "df_max = pd.read_csv(trgt_path)\n",
    "max_date = user_value(df_max)\n",
    "print(max_date)\n"
   ]
  },
  {
   "cell_type": "code",
   "execution_count": null,
   "metadata": {},
   "outputs": [],
   "source": [
    "df = pd.read_excel(source_path,sheet_name=sheet_name)\n",
    "df = df[(pd.to_datetime(df['Date'])) >= pd.to_datetime(max_date)]\n",
    "print(df)"
   ]
  },
  {
   "cell_type": "markdown",
   "metadata": {},
   "source": []
  },
  {
   "cell_type": "code",
   "execution_count": null,
   "metadata": {},
   "outputs": [],
   "source": [
    "\n",
    "df['Month'] = df['Date'].dt.month_name()\n",
    "df['Year'] = df['Date'].dt.year\n",
    "df['Date'] = df['Date'].dt.date\n",
    "df['Index'] = df.index\n",
    "print(df)"
   ]
  },
  {
   "cell_type": "code",
   "execution_count": 81,
   "metadata": {},
   "outputs": [],
   "source": [
    "# Function to create a hash from multiple columns\n",
    "def hash_columns(*args):\n",
    "    return hashlib.md5(\"\".join(args).encode()).hexdigest()\n",
    "\n",
    "# Create a primary key column\n",
    "df['PKSK'] = df.apply(lambda row: hash_columns(str(row['Date']), str(row['Category']), str(row['Index'])), axis=1)"
   ]
  },
  {
   "cell_type": "code",
   "execution_count": null,
   "metadata": {},
   "outputs": [],
   "source": [
    "print(df)"
   ]
  },
  {
   "cell_type": "code",
   "execution_count": null,
   "metadata": {},
   "outputs": [],
   "source": [
    "duplicate_counts = df['PKSK'].value_counts()\n",
    "duplicate_counts = duplicate_counts[duplicate_counts > 1]\n",
    "\n",
    "# Fail the code if there are duplicates\n",
    "if not duplicate_counts.empty:\n",
    "    raise ValueError(f\"Duplicate values found in 'col1':\\n{duplicate_counts}\")\n",
    "\n",
    "# Proceed with the rest of the code if no duplicates\n",
    "print(\"No duplicates found. Continuing execution...\")"
   ]
  },
  {
   "cell_type": "code",
   "execution_count": null,
   "metadata": {},
   "outputs": [],
   "source": [
    "trgt_df = pd.read_csv(trgt_path, header=0)\n",
    "new_rows = df[~df['PKSK'].isin(trgt_df['PKSK'])]\n",
    "df = pd.concat([df, new_rows],ignore_index=True)\n",
    "print(f\"Count of new rows: {len(new_rows)}\")"
   ]
  },
  {
   "cell_type": "code",
   "execution_count": null,
   "metadata": {},
   "outputs": [],
   "source": [
    "df.to_csv(trgt_path, mode= 'a',index=False,header=True)\n"
   ]
  },
  {
   "cell_type": "code",
   "execution_count": null,
   "metadata": {},
   "outputs": [],
   "source": [
    "trgt_df = pd.read_csv(trgt_path, header=0)\n",
    "print(trgt_df)"
   ]
  },
  {
   "cell_type": "code",
   "execution_count": null,
   "metadata": {},
   "outputs": [],
   "source": [
    "\n",
    "\n"
   ]
  }
 ],
 "metadata": {
  "kernelspec": {
   "display_name": "Python 3 (ipykernel)",
   "language": "python",
   "name": "python3"
  }
 },
 "nbformat": 4,
 "nbformat_minor": 2
}
