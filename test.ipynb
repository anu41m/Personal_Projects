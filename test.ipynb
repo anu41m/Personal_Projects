{
 "cells": [
  {
   "cell_type": "code",
   "execution_count": null,
   "metadata": {},
   "outputs": [
    {
     "ename": "",
     "evalue": "",
     "output_type": "error",
     "traceback": [
      "\u001b[1;31mCanceled future for execute_request message before replies were done"
     ]
    }
   ],
   "source": [
    "import pandas as pd\n",
    "print(pd.__version__)\n"
   ]
  },
  {
   "cell_type": "code",
   "execution_count": 2,
   "metadata": {},
   "outputs": [],
   "source": [
    "from pyspark.sql import SparkSession, Row"
   ]
  },
  {
   "cell_type": "code",
   "execution_count": null,
   "metadata": {},
   "outputs": [],
   "source": [
    "spark = SparkSession.builder \\\n",
    "    .appName(\"BasicPySparkExample\") \\\n",
    "    .getOrCreate()\n"
   ]
  },
  {
   "cell_type": "code",
   "execution_count": null,
   "metadata": {},
   "outputs": [],
   "source": [
    "data = [Row(name=\"Alice\", age=23),\n",
    "        Row(name=\"Bob\", age=30),\n",
    "        Row(name=\"Cathy\", age=25)]\n",
    "\n",
    "# Convert the list to a DataFrame\n",
    "df = spark.createDataFrame(data)\n",
    "\n",
    "# Show the DataFrame\n",
    "print(\"DataFrame\")\n",
    "df.show()\n",
    "df.createOrReplaceTempView(\"vw_test\")\n",
    "# Filter rows where age is greater than 25\n",
    "filtered_df = df.filter(df[\"age\"] > 25)\n",
    "\n",
    "# Show the filtered DataFrame\n",
    "print(\"Filtered DataFrame\")\n",
    "filtered_df.show()\n",
    "\n",
    "# Stop the Spark session"
   ]
  },
  {
   "cell_type": "code",
   "execution_count": null,
   "metadata": {},
   "outputs": [],
   "source": []
  },
  {
   "cell_type": "code",
   "execution_count": 5,
   "metadata": {},
   "outputs": [],
   "source": [
    "result_df = spark.sql(\"select * from vw_test where age > '23'\")"
   ]
  },
  {
   "cell_type": "code",
   "execution_count": null,
   "metadata": {},
   "outputs": [],
   "source": [
    "result_df.show()"
   ]
  },
  {
   "cell_type": "code",
   "execution_count": null,
   "metadata": {},
   "outputs": [],
   "source": [
    "result_df.write.mode"
   ]
  },
  {
   "cell_type": "code",
   "execution_count": 58,
   "metadata": {},
   "outputs": [],
   "source": [
    "import pandas as pd\n",
    "import requests"
   ]
  },
  {
   "cell_type": "code",
   "execution_count": 59,
   "metadata": {},
   "outputs": [],
   "source": [
    "file_path ='/mnt/filtered_data.csv'\n",
    "source_path = '/mnt/SPENDING HISTORY - test.csv'"
   ]
  },
  {
   "cell_type": "code",
   "execution_count": null,
   "metadata": {},
   "outputs": [],
   "source": [
    "df_read = pd.read_csv(file_path)\n",
    "df = pd.read_csv(source_path)\n",
    "print(df)"
   ]
  },
  {
   "cell_type": "code",
   "execution_count": 55,
   "metadata": {},
   "outputs": [],
   "source": [
    "\n",
    "def clean_value(value):\n",
    "    if isinstance(value, str):\n",
    "        return value.replace('_', '').strip()\n",
    "    return value\n",
    "\n"
   ]
  },
  {
   "cell_type": "code",
   "execution_count": null,
   "metadata": {},
   "outputs": [],
   "source": [
    "# Apply the function to the relevant columns\n",
    "df[''] = df['Spend Amount'].apply(clean_value)\n",
    "\n",
    "# Show the cleaned DataFrame\n",
    "print(\"Cleaned DataFrame\")\n",
    "print(df)"
   ]
  },
  {
   "cell_type": "code",
   "execution_count": null,
   "metadata": {},
   "outputs": [],
   "source": [
    "print(df_read)"
   ]
  },
  {
   "cell_type": "code",
   "execution_count": null,
   "metadata": {},
   "outputs": [],
   "source": [
    "print(filtered_df)"
   ]
  },
  {
   "cell_type": "code",
   "execution_count": null,
   "metadata": {},
   "outputs": [],
   "source": [
    "df_source.count()"
   ]
  },
  {
   "cell_type": "code",
   "execution_count": null,
   "metadata": {},
   "outputs": [],
   "source": [
    "\n",
    "\n",
    "# URL of your file on OneDrive\n",
    "url = \"https://onedrive.live.com/download?resid=77F6E40EFDE45528!4401&authkey=77f6e40efde45528&em=2\"\n",
    "\n",
    "\n",
    "# Download the file\n",
    "response = requests.get(url)\n",
    "with open('/mnt/test.csv', 'wb') as file:\n",
    "    file.write(response.content)\n",
    "\n",
    "# Read the file into a pandas DataFrame\n",
    "df = pd.read_csv('/mnt/test.csv')\n",
    "\n",
    "# Show the DataFrame\n",
    "print(df)\n"
   ]
  }
 ],
 "metadata": {
  "kernelspec": {
   "display_name": "Python 3 (ipykernel)",
   "language": "python",
   "name": "python3"
  }
 },
 "nbformat": 4,
 "nbformat_minor": 2
}
